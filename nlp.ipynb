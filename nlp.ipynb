{
 "cells": [
  {
   "cell_type": "code",
   "execution_count": 1,
   "id": "996c1b16",
   "metadata": {},
   "outputs": [
    {
     "ename": "ModuleNotFoundError",
     "evalue": "No module named 'spacy'",
     "output_type": "error",
     "traceback": [
      "\u001b[1;31m---------------------------------------------------------------------------\u001b[0m",
      "\u001b[1;31mModuleNotFoundError\u001b[0m                       Traceback (most recent call last)",
      "Cell \u001b[1;32mIn[1], line 5\u001b[0m\n\u001b[0;32m      2\u001b[0m \u001b[38;5;28;01mimport\u001b[39;00m \u001b[38;5;21;01mnumpy\u001b[39;00m \u001b[38;5;28;01mas\u001b[39;00m \u001b[38;5;21;01mnp\u001b[39;00m\n\u001b[0;32m      3\u001b[0m \u001b[38;5;28;01mimport\u001b[39;00m \u001b[38;5;21;01mcsv\u001b[39;00m\n\u001b[1;32m----> 5\u001b[0m \u001b[38;5;28;01mimport\u001b[39;00m \u001b[38;5;21;01mspacy\u001b[39;00m\n\u001b[0;32m      6\u001b[0m \u001b[38;5;28;01mfrom\u001b[39;00m \u001b[38;5;21;01mspacy\u001b[39;00m \u001b[38;5;28;01mimport\u001b[39;00m displacy\n\u001b[0;32m      7\u001b[0m \u001b[38;5;28;01mfrom\u001b[39;00m \u001b[38;5;21;01mgensim\u001b[39;00m\u001b[38;5;21;01m.\u001b[39;00m\u001b[38;5;21;01mmodels\u001b[39;00m \u001b[38;5;28;01mimport\u001b[39;00m word2vec\n",
      "\u001b[1;31mModuleNotFoundError\u001b[0m: No module named 'spacy'"
     ]
    }
   ],
   "source": [
    "import pandas as pd\n",
    "import numpy as np\n",
    "import csv\n",
    "\n",
    "import spacy\n",
    "from spacy import displacy\n",
    "from gensim.models import word2vec\n",
    "pd.options.mode.chained_assignment = None\n",
    "import re\n",
    "from sklearn.manifold import TSNE\n",
    "import matplotlib.pyplot as plt\n",
    "%matplotlib inline"
   ]
  },
  {
   "cell_type": "code",
   "execution_count": 7,
   "id": "12ef9655",
   "metadata": {},
   "outputs": [],
   "source": [
    "import pandas as pd\n",
    "dataset_path1 = 'NOTEEVENTS.csv'\n",
    "#dataset_path2 = 'DIAGNOSES_ICD.csv'\n",
    "df1 = pd.read_csv(dataset_path1, low_memory=False)\n",
    "#df2 = pd.read_csv(dataset_path2)"
   ]
  },
  {
   "cell_type": "code",
   "execution_count": 9,
   "id": "690399f5",
   "metadata": {},
   "outputs": [
    {
     "data": {
      "text/plain": [
       "CATEGORY\n",
       "Nursing/other        822497\n",
       "Radiology            522279\n",
       "Nursing              223556\n",
       "ECG                  209051\n",
       "Physician            141624\n",
       "Discharge summary     59652\n",
       "Echo                  45794\n",
       "Respiratory           31739\n",
       "Nutrition              9418\n",
       "General                8301\n",
       "Rehab Services         5431\n",
       "Social Work            2670\n",
       "Case Management         967\n",
       "Pharmacy                103\n",
       "Consult                  98\n",
       "Name: count, dtype: int64"
      ]
     },
     "execution_count": 9,
     "metadata": {},
     "output_type": "execute_result"
    }
   ],
   "source": [
    "df1.CATEGORY.value_counts()"
   ]
  },
  {
   "cell_type": "code",
   "execution_count": 12,
   "id": "c8ded8ef",
   "metadata": {},
   "outputs": [
    {
     "data": {
      "text/plain": [
       "Index(['ROW_ID', 'SUBJECT_ID', 'HADM_ID', 'CHARTDATE', 'CHARTTIME',\n",
       "       'STORETIME', 'CATEGORY', 'DESCRIPTION', 'CGID', 'ISERROR', 'TEXT'],\n",
       "      dtype='object')"
      ]
     },
     "execution_count": 12,
     "metadata": {},
     "output_type": "execute_result"
    }
   ],
   "source": [
    "df1.columns"
   ]
  },
  {
   "cell_type": "code",
   "execution_count": 27,
   "id": "e9b4ede7",
   "metadata": {},
   "outputs": [],
   "source": [
    "ecg_notes = df1[df1.loc[:, 'CATEGORY'] == 'Radiology'].reset_index(drop=True)"
   ]
  },
  {
   "cell_type": "code",
   "execution_count": 29,
   "id": "3eb07e06",
   "metadata": {},
   "outputs": [
    {
     "name": "stdout",
     "output_type": "stream",
     "text": [
      "[**2153-1-12**] 10:03 PM\n",
      " CHEST (PORTABLE AP)                                             Clip # [**Clip Number (Radiology) 81155**]\n",
      " Reason: s/p l scv cvl, check line and r/o ptx\n",
      " ______________________________________________________________________________\n",
      " [**Hospital 3**] MEDICAL CONDITION:\n",
      "  73 year old woman with gangrene rt foot s/p rt fem-tib\n",
      " REASON FOR THIS EXAMINATION:\n",
      "  s/p l scv cvl, check line and r/o ptx\n",
      " ______________________________________________________________________________\n",
      "                                 FINAL REPORT\n",
      " CLINICAL INDICATION: Central venous catheter placement.\n",
      "\n",
      " Comparison is made to previous study of one day earlier.\n",
      "\n",
      " There has been interval placement of a left subclavian central venous catheter\n",
      " which terminates at the junction of the left brachiocephalic vein and superior\n",
      " vena cava. No pneumothorax is identified.\n",
      "\n",
      " The cardiac silhouette remains enlarged. There are bilateral pleural effusions\n",
      " and adjacent areas of increased lung opacification as well as lower lobes.\n",
      "\n",
      " Note is made of previous mediansternotomy and coronary bypass surgery.\n",
      "\n",
      " IMPRESSION: Central venous catheter terminates at confluence of left\n",
      " brachiocephalic vein and superior vena cava. No pneumothorax. 2. Persistent\n",
      " bilateral pleural effusions with adjacent lung opacities which likely reflect\n",
      " atelectasis although infectious process is not excluded in the proper clinical\n",
      " setting.\n",
      "\n",
      "\n"
     ]
    }
   ],
   "source": [
    "x = ecg_notes.loc[1, 'TEXT']\n",
    "print(x)"
   ]
  },
  {
   "cell_type": "code",
   "execution_count": 8,
   "id": "dd4465d4",
   "metadata": {},
   "outputs": [
    {
     "ename": "KeyError",
     "evalue": "False",
     "output_type": "error",
     "traceback": [
      "\u001b[1;31m---------------------------------------------------------------------------\u001b[0m",
      "\u001b[1;31mKeyError\u001b[0m                                  Traceback (most recent call last)",
      "File \u001b[1;32mc:\\Users\\Joslyn\\.virtualenvs\\llm_tutorial-iudBN58S\\lib\\site-packages\\pandas\\core\\indexes\\base.py:3805\u001b[0m, in \u001b[0;36mIndex.get_loc\u001b[1;34m(self, key)\u001b[0m\n\u001b[0;32m   3804\u001b[0m \u001b[38;5;28;01mtry\u001b[39;00m:\n\u001b[1;32m-> 3805\u001b[0m     \u001b[38;5;28;01mreturn\u001b[39;00m \u001b[38;5;28;43mself\u001b[39;49m\u001b[38;5;241;43m.\u001b[39;49m\u001b[43m_engine\u001b[49m\u001b[38;5;241;43m.\u001b[39;49m\u001b[43mget_loc\u001b[49m\u001b[43m(\u001b[49m\u001b[43mcasted_key\u001b[49m\u001b[43m)\u001b[49m\n\u001b[0;32m   3806\u001b[0m \u001b[38;5;28;01mexcept\u001b[39;00m \u001b[38;5;167;01mKeyError\u001b[39;00m \u001b[38;5;28;01mas\u001b[39;00m err:\n",
      "File \u001b[1;32mindex.pyx:167\u001b[0m, in \u001b[0;36mpandas._libs.index.IndexEngine.get_loc\u001b[1;34m()\u001b[0m\n",
      "File \u001b[1;32mindex.pyx:196\u001b[0m, in \u001b[0;36mpandas._libs.index.IndexEngine.get_loc\u001b[1;34m()\u001b[0m\n",
      "File \u001b[1;32mpandas\\\\_libs\\\\hashtable_class_helper.pxi:7081\u001b[0m, in \u001b[0;36mpandas._libs.hashtable.PyObjectHashTable.get_item\u001b[1;34m()\u001b[0m\n",
      "File \u001b[1;32mpandas\\\\_libs\\\\hashtable_class_helper.pxi:7089\u001b[0m, in \u001b[0;36mpandas._libs.hashtable.PyObjectHashTable.get_item\u001b[1;34m()\u001b[0m\n",
      "\u001b[1;31mKeyError\u001b[0m: False",
      "\nThe above exception was the direct cause of the following exception:\n",
      "\u001b[1;31mKeyError\u001b[0m                                  Traceback (most recent call last)",
      "Cell \u001b[1;32mIn[8], line 1\u001b[0m\n\u001b[1;32m----> 1\u001b[0m ecg_notes \u001b[38;5;241m=\u001b[39m \u001b[43mdf1\u001b[49m\u001b[43m[\u001b[49m\u001b[43m[\u001b[49m\u001b[43mdf1\u001b[49m\u001b[38;5;241;43m.\u001b[39;49m\u001b[43mCATEGORY\u001b[49m\u001b[43m]\u001b[49m\u001b[43m \u001b[49m\u001b[38;5;241;43m==\u001b[39;49m\u001b[43m \u001b[49m\u001b[38;5;124;43m'\u001b[39;49m\u001b[38;5;124;43mECG\u001b[39;49m\u001b[38;5;124;43m'\u001b[39;49m\u001b[43m]\u001b[49m\n\u001b[0;32m      2\u001b[0m ecg_notes\n",
      "File \u001b[1;32mc:\\Users\\Joslyn\\.virtualenvs\\llm_tutorial-iudBN58S\\lib\\site-packages\\pandas\\core\\frame.py:4102\u001b[0m, in \u001b[0;36mDataFrame.__getitem__\u001b[1;34m(self, key)\u001b[0m\n\u001b[0;32m   4100\u001b[0m \u001b[38;5;28;01mif\u001b[39;00m \u001b[38;5;28mself\u001b[39m\u001b[38;5;241m.\u001b[39mcolumns\u001b[38;5;241m.\u001b[39mnlevels \u001b[38;5;241m>\u001b[39m \u001b[38;5;241m1\u001b[39m:\n\u001b[0;32m   4101\u001b[0m     \u001b[38;5;28;01mreturn\u001b[39;00m \u001b[38;5;28mself\u001b[39m\u001b[38;5;241m.\u001b[39m_getitem_multilevel(key)\n\u001b[1;32m-> 4102\u001b[0m indexer \u001b[38;5;241m=\u001b[39m \u001b[38;5;28;43mself\u001b[39;49m\u001b[38;5;241;43m.\u001b[39;49m\u001b[43mcolumns\u001b[49m\u001b[38;5;241;43m.\u001b[39;49m\u001b[43mget_loc\u001b[49m\u001b[43m(\u001b[49m\u001b[43mkey\u001b[49m\u001b[43m)\u001b[49m\n\u001b[0;32m   4103\u001b[0m \u001b[38;5;28;01mif\u001b[39;00m is_integer(indexer):\n\u001b[0;32m   4104\u001b[0m     indexer \u001b[38;5;241m=\u001b[39m [indexer]\n",
      "File \u001b[1;32mc:\\Users\\Joslyn\\.virtualenvs\\llm_tutorial-iudBN58S\\lib\\site-packages\\pandas\\core\\indexes\\base.py:3812\u001b[0m, in \u001b[0;36mIndex.get_loc\u001b[1;34m(self, key)\u001b[0m\n\u001b[0;32m   3807\u001b[0m     \u001b[38;5;28;01mif\u001b[39;00m \u001b[38;5;28misinstance\u001b[39m(casted_key, \u001b[38;5;28mslice\u001b[39m) \u001b[38;5;129;01mor\u001b[39;00m (\n\u001b[0;32m   3808\u001b[0m         \u001b[38;5;28misinstance\u001b[39m(casted_key, abc\u001b[38;5;241m.\u001b[39mIterable)\n\u001b[0;32m   3809\u001b[0m         \u001b[38;5;129;01mand\u001b[39;00m \u001b[38;5;28many\u001b[39m(\u001b[38;5;28misinstance\u001b[39m(x, \u001b[38;5;28mslice\u001b[39m) \u001b[38;5;28;01mfor\u001b[39;00m x \u001b[38;5;129;01min\u001b[39;00m casted_key)\n\u001b[0;32m   3810\u001b[0m     ):\n\u001b[0;32m   3811\u001b[0m         \u001b[38;5;28;01mraise\u001b[39;00m InvalidIndexError(key)\n\u001b[1;32m-> 3812\u001b[0m     \u001b[38;5;28;01mraise\u001b[39;00m \u001b[38;5;167;01mKeyError\u001b[39;00m(key) \u001b[38;5;28;01mfrom\u001b[39;00m \u001b[38;5;21;01merr\u001b[39;00m\n\u001b[0;32m   3813\u001b[0m \u001b[38;5;28;01mexcept\u001b[39;00m \u001b[38;5;167;01mTypeError\u001b[39;00m:\n\u001b[0;32m   3814\u001b[0m     \u001b[38;5;66;03m# If we have a listlike key, _check_indexing_error will raise\u001b[39;00m\n\u001b[0;32m   3815\u001b[0m     \u001b[38;5;66;03m#  InvalidIndexError. Otherwise we fall through and re-raise\u001b[39;00m\n\u001b[0;32m   3816\u001b[0m     \u001b[38;5;66;03m#  the TypeError.\u001b[39;00m\n\u001b[0;32m   3817\u001b[0m     \u001b[38;5;28mself\u001b[39m\u001b[38;5;241m.\u001b[39m_check_indexing_error(key)\n",
      "\u001b[1;31mKeyError\u001b[0m: False"
     ]
    }
   ],
   "source": [
    "ecg_notes = df1[[df1.CATEGORY] == 'ECG']\n",
    "ecg_notes"
   ]
  },
  {
   "cell_type": "code",
   "execution_count": null,
   "id": "df25fde6",
   "metadata": {},
   "outputs": [],
   "source": [
    "ecg_notes.to_csv(ecg_notes.csv)"
   ]
  },
  {
   "cell_type": "code",
   "execution_count": null,
   "id": "90b9a0ea",
   "metadata": {},
   "outputs": [
    {
     "name": "stdout",
     "output_type": "stream",
     "text": [
      "Admission Date:  [**2118-6-2**]       Discharge Date:  [**2118-6-14**]\n",
      "\n",
      "Date of Birth:                    Sex:  F\n",
      "\n",
      "Service:  MICU and then to [**Doctor Last Name **] Medicine\n",
      "\n",
      "HISTORY OF PRESENT ILLNESS:  This is an 81-year-old female\n",
      "with a history of emphysema (not on home O2), who presents\n",
      "with three days of shortness of breath thought by her primary\n",
      "care doctor to be a COPD flare.  Two days prior to admission,\n",
      "she was started on a prednisone taper and one day prior to\n",
      "admission she required oxygen at home in order to maintain\n",
      "oxygen saturation greater than 90%.  She has also been on\n",
      "levofloxacin and nebulizers, and was not getting better, and\n",
      "presented to the [**Hospital1 18**] Emergency Room.\n",
      "\n",
      "In the [**Hospital3 **] Emergency Room, her oxygen saturation was\n",
      "100% on CPAP.  She was not able to be weaned off of this\n",
      "despite nebulizer treatment and Solu-Medrol 125 mg IV x2.\n",
      "\n",
      "Review of systems is negative for the following:  Fevers,\n",
      "chills, nausea, vomiting, night sweats, change in weight,\n",
      "gastrointestinal complaints, neurologic changes, rashes,\n",
      "palpitations, orthopnea.  Is positive for the following:\n",
      "Chest pressure occasionally with shortness of breath with\n",
      "exertion, some shortness of breath that is positionally\n",
      "related, but is improved with nebulizer treatment.\n",
      "\n",
      "PAST MEDICAL HISTORY:\n",
      "1. COPD.  Last pulmonary function tests in [**2117-11-3**]\n",
      "demonstrated a FVC of 52% of predicted, a FEV1 of 54% of\n",
      "predicted, a MMF of 23% of predicted, and a FEV1:FVC ratio of\n",
      "67% of predicted, that does not improve with bronchodilator\n",
      "treatment.  The FVC, however, does significantly improve with\n",
      "bronchodilator treatment consistent with her known reversible\n",
      "air flow obstruction in addition to an underlying restrictive\n",
      "ventilatory defect.  The patient has never been on home\n",
      "oxygen prior to this recent episode.  She has never been on\n",
      "steroid taper or been intubated in the past.\n",
      "2. Lacunar CVA.  MRI of the head in [**2114-11-4**]\n",
      "demonstrates \"mild degree of multiple small foci of high T2\n",
      "signal within the white matter of both cerebral hemispheres\n",
      "as well as the pons, in the latter region predominantly to\n",
      "the right of midline.  The abnormalities, while nonspecific\n",
      "in etiology, are most likely secondary to chronic\n",
      "microvascular infarction.  There is no mass, lesion, shift of\n",
      "the normal midline strictures or hydrocephalus.  The major\n",
      "vascular flow patterns are preserved.  There is moderate\n",
      "right maxillary, moderate bilateral ethmoid, mild left\n",
      "maxillary, minimal right sphenoid, and frontal sinus mucosal\n",
      "thickening.  These abnormalities could represent an allergic\n",
      "or some other type of inflammatory process.  Additionally\n",
      "noted is a moderately enlarged subtotally empty sella\n",
      "turcica\".\n",
      "3. Angina:  Most recent stress test was in [**2118-1-3**]\n",
      "going for four minutes with a rate pressure product of\n",
      "10,000, 64% of maximum predicted heart rate without evidence\n",
      "of ischemic EKG changes or symptoms.  The imaging portion of\n",
      "the study demonstrated no evidence of myocardial ischemia and\n",
      "a calculated ejection fraction of 84%.  The patient denies\n",
      "angina at rest and gets angina with walking a few blocks.\n",
      "Are alleviated by sublingual nitroglycerin.\n",
      "4. Hypothyroidism on Synthroid.\n",
      "5. Depression on Lexapro.\n",
      "6. Motor vehicle accident with head injury approximately 10\n",
      "years ago.\n",
      "\n",
      "MEDICATIONS ON ADMISSION:\n",
      "1. Hydrochlorothiazide 25 q.d.\n",
      "2. Prednisone 60 mg, 50 mg, 40 mg, 20 mg.\n",
      "3. Levofloxacin 500 mg q.d.\n",
      "4. Imdur 60 mg q.d.\n",
      "5. Synthroid 75 mcg q.d.\n",
      "6. Pulmicort nebulizer b.i.d.\n",
      "7. Albuterol nebulizer q.4. prn.\n",
      "8. Lexapro 10 mg q.d.\n",
      "9. Protonix 40 mg q.d.\n",
      "10. Aspirin 81 mg q.d.\n",
      "\n",
      "ALLERGIES:  Norvasc leads to lightheadedness and headache.\n",
      "\n",
      "FAMILY HISTORY:  Noncontributory.\n",
      "\n",
      "SOCIAL HISTORY:  Lives with her husband, Dr. [**Known lastname 1809**] an\n",
      "eminent Pediatric Neurologist at [**Hospital3 1810**].  The\n",
      "patient is a prior smoker, but has not smoked in over 10\n",
      "years.  She has no known alcohol use and she is a full code.\n",
      "\n",
      "PHYSICAL EXAM AT TIME OF ADMISSION:  Blood pressure 142/76,\n",
      "heart rate 100 and regular, respirations at 17-21, and 97%\n",
      "axillary temperature.  She was saturating at 100% on CPAP\n",
      "with dry mucous membranes.  An elderly female in no apparent\n",
      "distress.  Pupils are equal, round, and reactive to light and\n",
      "accommodation.  Extraocular movements are intact.  Oropharynx\n",
      "difficult to assess due to CPAP machine.  No evidence of\n",
      "jugular venous pressure, however, the strap from the CPAP\n",
      "machine obscures the neck exam.  Cranial nerves II through\n",
      "XII are grossly intact.  Neck is supple without\n",
      "lymphadenopathy.  Heart exam:  Tachycardic, regular, obscured\n",
      "by loud bilateral wheezing with increase in the expiratory\n",
      "phase as well as profuse scattered rhonchi throughout the\n",
      "lung fields.  Positive bowel sounds, soft, nontender,\n",
      "nondistended, obese, no masses.  Mild edema of the lower\n",
      "extremities without clubbing or cyanosis, no rashes.  There\n",
      "is a right hand hematoma.  Strength is assessed as [**5-9**] in the\n",
      "lower extremities, [**5-9**] in the upper extremities with a normal\n",
      "mental status and cognition.\n",
      "\n",
      "LABORATORY STUDIES:  White count 19, hematocrit 41, platelets\n",
      "300.  Chem-7:  127, 3.6, 88, 29, 17, 0.6, 143.  Troponin was\n",
      "negative.  CKs were negative times three.  Initial blood gas\n",
      "showed a pH of 7.4, pO2 of 66, pCO2 of 54.\n",
      "\n",
      "Chest x-ray demonstrates a moderate sized hiatal hernia,\n",
      "segmental atelectasis, left lower lobe infiltrate versus\n",
      "segmental atelectasis.\n",
      "\n",
      "EKG shows normal sinus rhythm at 113 beats per minute, normal\n",
      "axis, no evidence of ST-T wave changes.\n",
      "\n",
      "BRIEF SUMMARY OF HOSPITAL COURSE:\n",
      "1. COPD/dyspnea/pneumonia:  The patient was initially placed\n",
      "on an aggressive steroid taper and admitted to the Medical\n",
      "Intensive Care Unit due to her difficulty with oxygenation\n",
      "despite CPAP machine.  She was also given nebulizer\n",
      "treatments q.4h. as well as chest PT.  The nebulizers were\n",
      "increased to q.1h. due to the fact that she continued to have\n",
      "labored breathing.\n",
      "\n",
      "Due to persistent respiratory failure and labored breathing,\n",
      "the patient was intubated on [**2118-6-7**] in order to improve\n",
      "oxygenation, ventilation, and ability to suction.  A\n",
      "bronchoscopy was performed on [**2118-6-7**], which demonstrated\n",
      "marked narrowing of the airways with expiration consistent\n",
      "with tracheomalacia.\n",
      "\n",
      "On [**2118-6-9**], two silicone stents were placed, one in the left\n",
      "main stem (12 x 25 and one in the trachea 16 x 40) by Dr.\n",
      "[**First Name (STitle) **] [**Name (STitle) **] under rigid bronchoscopy with general anesthesia.\n",
      "\n",
      "On [**2118-6-11**], the patient was extubated to a cool mist shovel\n",
      "mask and her oxygen was titrated down to 2 liters nasal\n",
      "cannula at which time she was transferred to the medical\n",
      "floor.  On the medical floor, the steroids were weaned to off\n",
      "on [**2118-6-14**], and the patient was saturating at 97% on 2\n",
      "liters, 92% on room air.\n",
      "\n",
      "On [**2118-6-14**], the patient was seen again by the Interventional\n",
      "Pulmonology service, who agreed that she looked much improved\n",
      "and recommended that she go to pulmonary rehabilitation with\n",
      "followup within six weeks' time status post placement of\n",
      "stents in respiratory failure.\n",
      "\n",
      "2. Cardiovascular:  The patient was ruled out for a MI.  She\n",
      "did have another episode on the medical floor of chest pain,\n",
      "which showed no evidence of EKG changes and negative\n",
      "troponin, negative CKs x3.  She was continued on aspirin,\n",
      "Imdur, and diltiazem for rate control per her outpatient\n",
      "regimen.\n",
      "\n",
      "3. Hypertension:  She was maintained on diltiazem and\n",
      "hydrochlorothiazide with adequate blood pressure control and\n",
      "normalization of electrolytes.\n",
      "\n",
      "4. Hematuria:  The patient had intermittent hematuria likely\n",
      "secondary to Foley placement.  The Foley catheter was\n",
      "discontinued on [**2118-6-14**].  She had serial urinalyses, which\n",
      "were all negative for signs of infection.\n",
      "\n",
      "5. Hyperglycemia:  Patient was placed on insulin-sliding\n",
      "scale due to hyperglycemia, which was steroid induced.  This\n",
      "worked quite well and her glucose came back to normal levels\n",
      "once the steroids were tapered to off.\n",
      "\n",
      "6. Leukocytosis:  Patient did have a profound leukocytosis of\n",
      "20 to 22 during much of her hospital course.  As the steroids\n",
      "were tapered to off, her white blood cell count on [**2118-6-14**]\n",
      "was 15,000.  It was felt that the leukocytosis was secondary\n",
      "to both steroids as well as question of a left lower lobe\n",
      "pneumonia.\n",
      "\n",
      "7. For the left lower lobe pneumonia, the patient had\n",
      "initially received a course of levofloxacin 500 p.o. q.d.\n",
      "from [**2118-6-4**] to [**2118-6-10**].  This was restarted on [**2118-6-12**]\n",
      "for an additional seven day course given the fact that she\n",
      "still had the leukocytosis and still had marked rales at the\n",
      "left lower lobe.\n",
      "\n",
      "8. Hypothyroidism:  The patient was continued on outpatient\n",
      "medical regimen.\n",
      "\n",
      "9. Depression:  The patient was continued on Lexapro per\n",
      "outpatient regimen.  It is recommended that she follow up\n",
      "with a therapist as an outpatient due to the fact that she\n",
      "did have a blunted affect throughout much of the hospital\n",
      "course, and did appear clinically to be depressed.\n",
      "\n",
      "10. Prophylaxis:  She was maintained on proton-pump inhibitor\n",
      "with subQ Heparin.\n",
      "\n",
      "11. Sore throat:  The patient did have a sore throat for much\n",
      "of the hospital course post extubation.  This was treated\n",
      "with Cepacol lozenges as well as KBL liquid (a solution\n",
      "containing Kaopectate, Bismuth, and lidocaine) at bedtime.\n",
      "\n",
      "12. Communication/code status:  The patient was full code\n",
      "throughout her hospital course, and communication was\n",
      "maintained with the patient and her husband.\n",
      "\n",
      "13. Muscle weakness:  The patient did have profound muscle\n",
      "weakness and was evaluated by Physical Therapy, and was found\n",
      "to have impaired functional mobility, impaired\n",
      "musculoskeletal performance, impaired gas exchange, impaired\n",
      "endurance, impaired ventilation, and needed help with supine\n",
      "to sit.  However, she was able to tolerate sitting in a chair\n",
      "for approximately one hour.\n",
      "\n",
      "On motor exam, her flexors and extensors of the lower\n",
      "extremities were [**4-8**] at the knee, [**4-8**] at the ankle, [**4-8**] at\n",
      "the elbows, and [**4-8**] hips.  It was felt that this weakness was\n",
      "most likely due to a combination of steroid myopathy as well\n",
      "as muscle atrophy secondary to deconditioning after a\n",
      "prolonged hospital course.\n",
      "\n",
      "14. Speech/swallow:  The patient had a Speech and Swallow\n",
      "evaluation showing no evidence of dysphagia, no evidence of\n",
      "vocal cord damage status post tracheal stent placement.\n",
      "\n",
      "DISCHARGE CONDITION:  The patient was able to oxygenate on\n",
      "room air at 93% at the time of discharge.  She was profoundly\n",
      "weak, but was no longer tachycardic and had a normal blood\n",
      "pressure.  Her respirations were much improved albeit with\n",
      "transmitted upper airway sounds.\n",
      "\n",
      "DISCHARGE STATUS:  The patient will be discharged to [**Hospital1 **]\n",
      "for both pulmonary and physical rehabilitation.\n",
      "\n",
      "DISCHARGE MEDICATIONS:\n",
      "1. Levothyroxine 75 mcg p.o. q.d.\n",
      "2. Citalopram 10 mg p.o. q.d.\n",
      "3. Aspirin 81 mg p.o. q.d.\n",
      "4. Fluticasone 110 mcg two puffs inhaled b.i.d.\n",
      "5. Salmeterol Diskus one inhalation b.i.d.\n",
      "6. Acetaminophen 325-650 mg p.o. q.4-6h. prn.\n",
      "7. Ipratropium bromide MDI two puffs inhaled q.2h. prn.\n",
      "8. Albuterol 1-2 puffs inhaled q.2h. prn.\n",
      "9. Zolpidem tartrate 5 mg p.o. q.h.s. prn.\n",
      "10. Isosorbide dinitrate 10 mg p.o. t.i.d.\n",
      "11. Diltiazem 60 mg p.o. q.i.d.\n",
      "12. Pantoprazole 40 mg p.o. q.24h.\n",
      "13. Trazodone 25 mg p.o. q.h.s. prn.\n",
      "14. SubQ Heparin 5000 units subcutaneous b.i.d. until such\n",
      "time that the patient is able to get out of bed twice a day.\n",
      "15. Cepacol lozenges q.2h. prn.\n",
      "16. Levofloxacin 500 mg p.o. q.d. for a seven day course to\n",
      "be completed on [**2118-6-21**].\n",
      "17. Kaopectate/Benadryl/lidocaine 5 mL p.o. b.i.d. prn, not\n",
      "to be given around mealtimes for concern of dysphagia induced\n",
      "by lidocaine.\n",
      "18. Lorazepam 0.5-2 mg IV q.6h. prn.\n",
      "\n",
      "FOLLOW-UP PLANS:  The patient is recommended to followup with\n",
      "Dr. [**First Name4 (NamePattern1) **] [**Last Name (NamePattern1) 1407**], [**Telephone/Fax (1) 1408**] within two weeks of leaving\n",
      "of the hospital.  She is also recommended to followup with\n",
      "the Interventional Pulmonary service for followup status post\n",
      "stent placement.  She is also recommended to followup with a\n",
      "neurologist if her muscle weakness does not improve within\n",
      "one week on physical therapy with concern for steroid-induced\n",
      "myopathy.\n",
      "\n",
      "FINAL DIAGNOSES:\n",
      "1. Tracheomalacia status post tracheal and left main stem\n",
      "bronchial stent placement.\n",
      "2. Hypertension.\n",
      "3. Hypothyroidism.\n",
      "4. Restrictive lung defect.\n",
      "5. Depression.\n",
      "\n",
      "\n",
      "                     DR.[**Last Name (STitle) **],[**First Name3 (LF) **] 12-207\n",
      "\n",
      "\n",
      "Dictated By:[**Last Name (NamePattern1) 1811**]\n",
      "MEDQUIST36\n",
      "\n",
      "D:  [**2118-6-14**]  11:30\n",
      "T:  [**2118-6-14**]  11:33\n",
      "JOB#:  [**Job Number 1812**]\n",
      "\n"
     ]
    }
   ],
   "source": [
    "x = df1.loc[1,\"TEXT\"]\n",
    "print(x)"
   ]
  },
  {
   "cell_type": "code",
   "execution_count": null,
   "id": "46e2d353",
   "metadata": {},
   "outputs": [],
   "source": [
    "df1.to_csv('NOTEEVENTS_sample.csv')"
   ]
  },
  {
   "cell_type": "code",
   "execution_count": null,
   "id": "80a66a40",
   "metadata": {
    "scrolled": true
   },
   "outputs": [
    {
     "data": {
      "text/plain": [
       "(Index(['ROW_ID', 'SUBJECT_ID', 'HADM_ID', 'CHARTDATE', 'CHARTTIME',\n",
       "        'STORETIME', 'CATEGORY', 'DESCRIPTION', 'CGID', 'ISERROR', 'TEXT'],\n",
       "       dtype='object'),\n",
       " Index(['row_id', 'subject_id', 'hadm_id', 'seq_num', 'icd9_code'], dtype='object'))"
      ]
     },
     "execution_count": 3,
     "metadata": {},
     "output_type": "execute_result"
    }
   ],
   "source": [
    "df1.columns, df2.columns"
   ]
  },
  {
   "cell_type": "code",
   "execution_count": null,
   "id": "5cb86bbe",
   "metadata": {
    "scrolled": true
   },
   "outputs": [
    {
     "data": {
      "text/plain": [
       "((2083180, 11), (1761, 5))"
      ]
     },
     "execution_count": 4,
     "metadata": {},
     "output_type": "execute_result"
    }
   ],
   "source": [
    "notes = df1.copy()\n",
    "diagnoses = df2.copy()\n",
    "notes.columns = map(str.lower, notes)\n",
    "notes.shape, diagnoses.shape"
   ]
  },
  {
   "cell_type": "code",
   "execution_count": null,
   "id": "8edfd5b2",
   "metadata": {},
   "outputs": [
    {
     "data": {
      "text/plain": [
       "(39903, 11)"
      ]
     },
     "execution_count": 5,
     "metadata": {},
     "output_type": "execute_result"
    }
   ],
   "source": [
    "headache_df = notes[notes.text.str.contains('headache', case=False)]\n",
    "headache_df.shape"
   ]
  },
  {
   "cell_type": "code",
   "execution_count": null,
   "id": "2386ed0d",
   "metadata": {},
   "outputs": [
    {
     "data": {
      "text/plain": [
       "(1768, 15)"
      ]
     },
     "execution_count": 6,
     "metadata": {},
     "output_type": "execute_result"
    }
   ],
   "source": [
    "merged_df = pd.merge(headache_df, diagnoses, on='hadm_id', how='inner')\n",
    "merged_df.shape"
   ]
  },
  {
   "cell_type": "code",
   "execution_count": null,
   "id": "03293e0d",
   "metadata": {
    "scrolled": true
   },
   "outputs": [
    {
     "data": {
      "text/plain": [
       "4019     40\n",
       "25000    35\n",
       "51881    30\n",
       "4280     29\n",
       "486      28\n",
       "         ..\n",
       "5780      1\n",
       "24220     1\n",
       "1975      1\n",
       "E8788     1\n",
       "03842     1\n",
       "Name: icd9_code, Length: 277, dtype: int64"
      ]
     },
     "execution_count": 40,
     "metadata": {},
     "output_type": "execute_result"
    }
   ],
   "source": [
    "merged_df.icd9_code.value_counts()"
   ]
  },
  {
   "cell_type": "code",
   "execution_count": null,
   "id": "da03c2b6",
   "metadata": {
    "scrolled": true
   },
   "outputs": [
    {
     "data": {
      "text/plain": [
       "Physician            1194\n",
       "Discharge summary     207\n",
       "Nursing               190\n",
       "Nursing/other          89\n",
       "Radiology              55\n",
       "General                18\n",
       "Nutrition              15\n",
       "Name: category, dtype: int64"
      ]
     },
     "execution_count": 7,
     "metadata": {},
     "output_type": "execute_result"
    }
   ],
   "source": [
    "merged_df.category.value_counts()"
   ]
  },
  {
   "cell_type": "code",
   "execution_count": null,
   "id": "bda992d2",
   "metadata": {},
   "outputs": [
    {
     "data": {
      "text/plain": [
       "(5, 15)"
      ]
     },
     "execution_count": 8,
     "metadata": {},
     "output_type": "execute_result"
    }
   ],
   "source": [
    "rad_df = merged_df[merged_df['category']=='Radiology']\n",
    "train_data = rad_df[rad_df['icd9_code']=='4019'].reset_index(drop=True)\n",
    "train_data.shape"
   ]
  },
  {
   "cell_type": "code",
   "execution_count": null,
   "id": "ec9a6e16",
   "metadata": {},
   "outputs": [
    {
     "name": "stderr",
     "output_type": "stream",
     "text": [
      "C:\\Users\\Joslyn\\anaconda3\\envs\\scispacy_install\\lib\\site-packages\\spacy\\util.py:762: UserWarning: [W095] Model 'en_core_web_sm' (3.0.0) was trained with spaCy v3.0 and may not be 100% compatible with the current version (3.1.7). If you see errors or degraded performance, download a newer compatible model or retrain your custom model with the current spaCy version. For more details and available updates, run: python -m spacy validate\n",
      "  warnings.warn(warn_msg)\n"
     ]
    }
   ],
   "source": [
    "nlp = spacy.load('en_core_web_sm') # spacy model "
   ]
  },
  {
   "cell_type": "code",
   "execution_count": null,
   "id": "c98df211",
   "metadata": {},
   "outputs": [
    {
     "data": {
      "text/plain": [
       "(5,\n",
       " [\"[**2152-10-2**] 1:07 PM\\n CT HEAD W/O CONTRAST                                            Clip # [**Clip Number (Radiology) 14552**]\\n Reason: eval for bleed\\n ______________________________________________________________________________\\n [**Hospital 2**] MEDICAL CONDITION:\\n  81 year old woman with HA and weakness, confusion.\\n REASON FOR THIS EXAMINATION:\\n  eval for bleed\\n CONTRAINDICATIONS for IV CONTRAST:\\n  renal insufficiency\\n ______________________________________________________________________________\\n                                 FINAL REPORT\\n INDICATION:  Headache and weakness and confusion.\\n\\n COMPARISON:  Brain MRI [**2149-6-17**].  Head CT of [**2150-9-10**].\\n\\n TECHNIQUE:  Non-contrast head CT.\\n\\n FINDINGS:  New in the interval are at least three moderate-to-large sized mass\\n lesions, one within the right frontal lobe anteriorly, another within the\\n right posterofrontoparietal region, and a third within the left parietal\\n region.  There is a significant amount of edema associated with these masses.\\n The right posterofrontal mass also contains a small amount of high-density\\n material peripherally, which may represent a small amount of hemorrhage or\\n calcification.  There is no shift of the normally midline structures or\\n hydrocephalus.  There is a soft-tissue density nodule within the subcutaneous\\n tissues posterior to the right occipital bone.  This does not appear to affect\\n the underlying bone.  There is no evidence of fracture or bone destruction.\\n The paranasal sinuses and the orbits are unremarkable.\\n\\n IMPRESSION:  Interval development of at least three large mass lesions with a\\n moderate amount of surrounding edema.  Case discussed with Dr. [**First Name8 (NamePattern2) 4621**] [**Last Name (NamePattern1) 14553**]\\n of the Emergency Department.  Given the patient's pacemaker and elevated\\n creatinine, no further brain imaging will be undertaken at this time.\\n Apparently, the patient has a history of melanoma, and these lesions are\\n likely metastases with vasogenic edema.\\n\\n\",\n",
       "  '[**2161-9-18**] 8:41 AM\\n MR HEAD W & W/O CONTRAST; MR CONTRAST GADOLIN                   Clip # [**Clip Number (Radiology) 103442**]\\n MRA BRAIN W/O CONTRAST\\n Reason: please assess for vascular abnormality\\n Admitting Diagnosis: HEADACHE\\n  Contrast: MAGNEVIST Amt: 15\\n ______________________________________________________________________________\\n [**Hospital 3**] MEDICAL CONDITION:\\n  63 year old man with bloody lp and meningitis\\n REASON FOR THIS EXAMINATION:\\n  please assess for vascular abnormality\\n ______________________________________________________________________________\\n                                 FINAL REPORT\\n MRI AND MRA OF THE BRAIN.\\n\\n INDICATION:  63 year old man with bloody lumbar puncture and meningitis.\\n\\n TECHNIQUE:  Multiplanar T1- and T2-weighted images of the brain.  Comparison\\n was made to prior study dated [**2161-9-15**].\\n\\n FINDINGS:  There are a few foci of T2 hyperintensity within the\\n periventricular white matter of cerebral hemispheres consistent with mild\\n chronic small vessel infarcts, unchanged.  The [**Doctor Last Name **]-white matter\\n differentiation is well maintained.  There is no mass effect, shift of normal\\n midline structures or hydrocephalus.  No intracranial hemorrhage is\\n visualized.  There is no significant change since the prior study.\\n\\n IMPRESSION:  Mild small vessel ischemic infarcts of chronic nature.\\n\\n HEAD MRA.\\n\\n TECHNIQUE:  3D time-of-flight imaging of the anterior and posterior cerebral\\n circulations were obtained.  There are no prior studies for comparison.\\n\\n FINDINGS:  No posterior communicating artery  on the left side is present.  A\\n fetal posterior cerebral artery on the right side is visualized.  There is no\\n hemodynamically- significant stenosis or aneurysmal dilatation of the\\n visualized vasculature.\\n\\n IMPRESSION:\\n\\n Fetal posterior cerebral artery on the right. Absence of posterior\\n communicating artery on the left.  Otherwise, unremarkable study.\\n\\n\\n',\n",
       "  '[**2161-9-15**] 4:33 AM\\n MR HEAD W/O CONTRAST; MRA BRAIN W/O CONTRAST                    Clip # [**Clip Number (Radiology) 104041**]\\n Reason: MRI with and without contrast and MRA brain.\\n Admitting Diagnosis: HEADACHE\\n ______________________________________________________________________________\\n [**Hospital 3**] MEDICAL CONDITION:\\n  63 year old man with possible SAH please evaluate\\n REASON FOR THIS EXAMINATION:\\n  MRI with and without contrast and MRA brain.\\n ______________________________________________________________________________\\n                                 FINAL REPORT  (REVISED)\\n INDICATION: Possible subarachnoid hemorrhage, evaluate for aneurysm.\\n\\n TECHNIQUE: Multiplanar T1-, T2-, and diffusion-weighted images were obtained\\n through the brain. 3D time of flight MR angiography was performed through the\\n region of the circle of [**Location (un) 286**], and multiplanar reformations were performed.\\n\\n MR BRAIN WITHOUT CONTRAST: No significant abnormalities are idenitified. There\\n is no mass effect, shift of normally midline structures, or hydrocephalus. No\\n abnormalities are identified on the diffusion-weighted images.\\n\\n CIRCLE OF [**Location (un) **] MRA: The major vascular structures are unremarkable. The\\n right vertebral artery is dominant. There is no evidence for aneurysm,\\n dissection, or other abnormality. Please see the report of the CT angiogram\\n performed one day prior.\\n\\n IMPRESSION: Unremarkable appearance of the vessels comprising the circle of\\n [**Location (un) 286**].\\n\\n',\n",
       "  \"[**2161-9-15**] 3:06 PM\\n CAROT/CEREB [**Hospital1 **]                                                  Clip # [**0-0-**]\\n Reason: HEADACHES\\n Admitting Diagnosis: HEADACHE\\n  Contrast: OPTIRAY Amt: 310\\n ********************************* CPT Codes ********************************\\n * [**Numeric Identifier 171**] SEL CATH 3RD ORDER [**Last Name (un) 172**]         [**Numeric Identifier 527**] SEL CATH 2ND ORDER               *\\n * -59 DISTINCT PROCEDURAL SERVICE       [**Numeric Identifier 527**] SEL CATH 2ND ORDER               *\\n * -59 DISTINCT PROCEDURAL SERVICE       [**Numeric Identifier 3308**] ADD'L 2ND/3RD ORDER              *\\n * [**Numeric Identifier 3308**] ADD'L 2ND/3RD ORDER             [**Numeric Identifier 3308**] ADD'L 2ND/3RD ORDER              *\\n * [**Numeric Identifier 529**] CAROTID/CEREBRAL BILAT          [**Numeric Identifier 528**] CAROTID/CEREBRAL BILAT           *\\n * [**Numeric Identifier 3309**] EXT CAROTID BILAT               [**Numeric Identifier 530**] VERT/CAROTID A-GRAM              *\\n * [**Numeric Identifier 530**] VERT/CAROTID A-GRAM             -59 DISTINCT PROCEDURAL SERVICE        *\\n * [**Numeric Identifier 3638**] EXT BILAT A-GRAM                -52 REDUCED SERVICES                   *\\n * C1760 CLOSURE DEVICE VASC IMP/INS     C1769 GUID WIRES INFU/PERF             *\\n ****************************************************************************\\n ______________________________________________________________________________\\n                                 FINAL REPORT\\n PREOPERATIVE DIAGNOSIS: Subarchnoid hemorrhage, rule out intracranial\\n aneurysm.\\n\\n POSTOPERATIVE DIAGNOSIS: No evidence of intracranial aneurysm.\\n\\n ANESTHESIA: Conscious sedation with local infiltration of the right groin.\\n\\n INDICATION: Mr. [**Known lastname 103440**] is a patient who had been having headaches and\\n question of subarachnoid hemorrhage. He is undergoing this cerebral angiogram\\n to rule out the presence of intracranial aneurysm or other vascular\\n malformation.\\n\\n CONSENT: The patient and his family were given a full and complete explanation\\n of the procedure. Specifically, the indications, risks, benefits, and\\n alternatives to the procedure were explained in detail. In addition, the\\n possible complications, such as the risk of bleeding, infection, stroke,\\n neurological deficit or deterioration, groin hematoma, and other unforeseen\\n complications, including the risk of coma and even death, were outlined. The\\n patient and his family understood and wished to proceed with the operation.\\n\\n PROCEDURE IN DETAIL: The patient was brought into the Endovascular Suite and\\n placed on the table in supine position. The right groin area was prepped and\\n draped in the usual sterile fashion. A 19-gauge single-wall needle was then\\n used to puncture the right common femoral artery, and upon the return of brisk\\n arterial blood, a 4 Fr vascular sheath was inserted over a guidewire and kept\\n on a heparinized saline drip. Next, a diagnostic catheter was used to\\n selectively catheterize the following vessels: right common carotid artery,\\n right internal carotid artery, right external carotid artery, right subclavian\\n artery, right vertebral artery, left common carotid artery, left internal\\n carotid artery, left external artery, left subclavian artery, left vertebral\\n artery.\\n\\n RESULTS: Injection of both common carotid arteries revealed normal anatomy\\n with no evidence of intracranial or extracranial atherosclerotic disease. The\\n bilateral internal carotid arteries with three-dimensional rotational\\n                                                             (Over)\\n\\n [**2161-9-15**] 3:06 PM\\n CAROT/CEREB [**Hospital1 **]                                                  Clip # [**0-0-**]\\n Reason: HEADACHES\\n Admitting Diagnosis: HEADACHE\\n  Contrast: OPTIRAY Amt: 310\\n ______________________________________________________________________________\\n                                 FINAL REPORT\\n (Cont)\\n angiography revealed no evidence of intracranial aneurysm or other vascular\\n malformation. The bilateral external carotid arteries revealed no evidence of\\n abnormal arteriovenous shunting or unusual anatomy. Injection of both\\n subclavian arteries showed no evidence of atherosclerotic disease or stenosis.\\n Injection of the right subclavian artery showed a normal origin of the right\\n vertebral artery which was dominant. The right vertebral artery course in the\\n cervical segment intracranially is normal with no atherosclerosis or stenosis.\\n The left vertebral artery is diminutive, and the vertebrobasilar junction is\\n within normal limits. The origin of the left vertebral artery is within normal\\n limits and the vessel itself is approximately 1.5 mm and is very small in\\n caliber. Intracranially the posterior circulation is normal with no evidence\\n of aneurysm or other vascular lesion.\\n\\n IMPRESSION: No evidence of intracranial aneurysm or other vascular\\n malformation to account for the patient's presentation.\\n\\n\\n\\n\\n\\n\\n\\n\\n\\n\\n\\n\\n\\n\\n\\n\",\n",
       "  '[**2161-9-14**] 7:27 PM\\n CTA HEAD W&W/O C & RECONS; CT 150CC NONIONIC CONTRAST           Clip # [**Clip Number (Radiology) 104040**]\\n Reason: r/o bleed, aneurysm\\n  Contrast: NON IONIC Amt: 150\\n ______________________________________________________________________________\\n [**Hospital 3**] MEDICAL CONDITION:\\n  63 year old man with HA, neck pain, n/v w/LP suggestive of possible subarach.\\n REASON FOR THIS EXAMINATION:\\n  r/o bleed, aneurysm\\n No contraindications for IV contrast\\n ______________________________________________________________________________\\n                                 FINAL REPORT  (REVISED)\\n INDICATION:  Headaches, neck pain, with lumbar puncture suggestive of possible\\n subarachnoid hemorrhage.  Rule out hemorrhage or aneurysm.\\n\\n TECHNIQUE:  Contiguous axial images were obtained from the skull base to the\\n cranial vertex without intravenous contrast. A CT angiogram was then performed\\n using 150 cc Optiray.  Multiplanar reformations were performed.\\n\\n FINDINGS:  There is no intra or extra-axial hemorrhage. There is no mass\\n effect or shift of normally mid-line structures.  The [**Doctor Last Name **]-white matter\\n differentiation is preserved.  The ventricles, sulci, and cisterns are\\n unremarkable, without effacement.  The visualized osseous structures and\\n paranasal sinuses are unremarkable.\\n\\n CIRCLE OF [**Location (un) **] CTA:  There is no evidence for aneurysm or dissection.  There\\n is a somewhat asymmetric appearance of the pterygoid plexuses venous\\n bilaterally, with a more prominent appearance of the plexus on the right.\\n There is also an approximately 1cm contiguous collection of racemose,\\n vascular- appearing structures within the right parapharyngeal fat.  This\\n finding may represent an arteriovenous malformation or normal variant.  No\\n areas of abnormal enhancement are identified within the brain.\\n\\n IMPRESSION:  1)  No evidence for intracranial hemorrhage.\\n 2)  No evidence for aneurysm or dissection.\\n\\n 3)  Somewhat asymmetric prominence of the right, compared to the left\\n pterygoid plexus, with a possible right sided parapharyngeal vascular\\n malformation. If the patient is to have catheter angiography, attention to\\n this region is recommended to confirm whether an vascular malformation is\\n present in this locale.\\n\\n\\n'])"
      ]
     },
     "execution_count": 10,
     "metadata": {},
     "output_type": "execute_result"
    }
   ],
   "source": [
    "sample_texts = train_data['text'].tolist()\n",
    "len(sample_texts), sample_texts"
   ]
  },
  {
   "cell_type": "code",
   "execution_count": null,
   "id": "1f3e56c5",
   "metadata": {},
   "outputs": [
    {
     "data": {
      "text/html": [
       "<span class=\"tex2jax_ignore\"><div class=\"entities\" style=\"line-height: 2.5; direction: ltr\">[**\n",
       "<mark class=\"entity\" style=\"background: #bfe1d9; padding: 0.45em 0.6em; margin: 0 0.25em; line-height: 1; border-radius: 0.35em;\">\n",
       "    2152-10-2\n",
       "    <span style=\"font-size: 0.8em; font-weight: bold; line-height: 1; border-radius: 0.35em; vertical-align: middle; margin-left: 0.5rem\">DATE</span>\n",
       "</mark>\n",
       "**] \n",
       "<mark class=\"entity\" style=\"background: #bfe1d9; padding: 0.45em 0.6em; margin: 0 0.25em; line-height: 1; border-radius: 0.35em;\">\n",
       "    1:07 PM\n",
       " \n",
       "    <span style=\"font-size: 0.8em; font-weight: bold; line-height: 1; border-radius: 0.35em; vertical-align: middle; margin-left: 0.5rem\">TIME</span>\n",
       "</mark>\n",
       "CT HEAD W/O CONTRAST                                            Clip # [**Clip Number (Radiology) \n",
       "<mark class=\"entity\" style=\"background: #bfe1d9; padding: 0.45em 0.6em; margin: 0 0.25em; line-height: 1; border-radius: 0.35em;\">\n",
       "    14552\n",
       "    <span style=\"font-size: 0.8em; font-weight: bold; line-height: 1; border-radius: 0.35em; vertical-align: middle; margin-left: 0.5rem\">DATE</span>\n",
       "</mark>\n",
       "**]</br> Reason: eval for bleed</br> ______________________________________________________________________________</br> [**Hospital 2**] MEDICAL CONDITION:</br>  \n",
       "<mark class=\"entity\" style=\"background: #bfe1d9; padding: 0.45em 0.6em; margin: 0 0.25em; line-height: 1; border-radius: 0.35em;\">\n",
       "    81 year old\n",
       "    <span style=\"font-size: 0.8em; font-weight: bold; line-height: 1; border-radius: 0.35em; vertical-align: middle; margin-left: 0.5rem\">DATE</span>\n",
       "</mark>\n",
       " woman with HA and weakness, confusion.</br> REASON FOR THIS EXAMINATION:</br>  eval for bleed</br> CONTRAINDICATIONS for IV CONTRAST:</br>  renal insufficiency</br> ______________________________________________________________________________</br>                                 FINAL REPORT</br> INDICATION:  Headache and weakness and confusion.</br></br> COMPARISON:  Brain MRI [**\n",
       "<mark class=\"entity\" style=\"background: #bfe1d9; padding: 0.45em 0.6em; margin: 0 0.25em; line-height: 1; border-radius: 0.35em;\">\n",
       "    2149-6-17\n",
       "    <span style=\"font-size: 0.8em; font-weight: bold; line-height: 1; border-radius: 0.35em; vertical-align: middle; margin-left: 0.5rem\">DATE</span>\n",
       "</mark>\n",
       "**].  Head CT of [**\n",
       "<mark class=\"entity\" style=\"background: #bfe1d9; padding: 0.45em 0.6em; margin: 0 0.25em; line-height: 1; border-radius: 0.35em;\">\n",
       "    2150-9-10\n",
       "    <span style=\"font-size: 0.8em; font-weight: bold; line-height: 1; border-radius: 0.35em; vertical-align: middle; margin-left: 0.5rem\">DATE</span>\n",
       "</mark>\n",
       "**].</br></br> TECHNIQUE:  Non-contrast head CT.</br></br> FINDINGS:  New in the interval are \n",
       "<mark class=\"entity\" style=\"background: #e4e7d2; padding: 0.45em 0.6em; margin: 0 0.25em; line-height: 1; border-radius: 0.35em;\">\n",
       "    at least three\n",
       "    <span style=\"font-size: 0.8em; font-weight: bold; line-height: 1; border-radius: 0.35em; vertical-align: middle; margin-left: 0.5rem\">CARDINAL</span>\n",
       "</mark>\n",
       " moderate-to-large sized mass</br> lesions, \n",
       "<mark class=\"entity\" style=\"background: #e4e7d2; padding: 0.45em 0.6em; margin: 0 0.25em; line-height: 1; border-radius: 0.35em;\">\n",
       "    one\n",
       "    <span style=\"font-size: 0.8em; font-weight: bold; line-height: 1; border-radius: 0.35em; vertical-align: middle; margin-left: 0.5rem\">CARDINAL</span>\n",
       "</mark>\n",
       " within the right frontal lobe anteriorly, another within the</br> right posterofrontoparietal region, and a \n",
       "<mark class=\"entity\" style=\"background: #e4e7d2; padding: 0.45em 0.6em; margin: 0 0.25em; line-height: 1; border-radius: 0.35em;\">\n",
       "    third\n",
       "    <span style=\"font-size: 0.8em; font-weight: bold; line-height: 1; border-radius: 0.35em; vertical-align: middle; margin-left: 0.5rem\">ORDINAL</span>\n",
       "</mark>\n",
       " within the left parietal</br> region.  There is a significant amount of edema associated with these masses.</br> The right posterofrontal mass also contains a small amount of high-density</br> material peripherally, which may represent a small amount of hemorrhage or</br> calcification.  There is no shift of the normally midline structures or</br> hydrocephalus.  There is a soft-tissue density nodule within the subcutaneous</br> tissues posterior to the right occipital bone.  This does not appear to affect</br> the underlying bone.  There is no evidence of fracture or bone destruction.</br> The paranasal sinuses and the orbits are unremarkable.</br></br> IMPRESSION:  Interval development of \n",
       "<mark class=\"entity\" style=\"background: #e4e7d2; padding: 0.45em 0.6em; margin: 0 0.25em; line-height: 1; border-radius: 0.35em;\">\n",
       "    at least three\n",
       "    <span style=\"font-size: 0.8em; font-weight: bold; line-height: 1; border-radius: 0.35em; vertical-align: middle; margin-left: 0.5rem\">CARDINAL</span>\n",
       "</mark>\n",
       " large mass lesions with a</br> moderate amount of surrounding edema.  Case discussed with Dr. [**\n",
       "<mark class=\"entity\" style=\"background: #e4e7d2; padding: 0.45em 0.6em; margin: 0 0.25em; line-height: 1; border-radius: 0.35em;\">\n",
       "    First\n",
       "    <span style=\"font-size: 0.8em; font-weight: bold; line-height: 1; border-radius: 0.35em; vertical-align: middle; margin-left: 0.5rem\">ORDINAL</span>\n",
       "</mark>\n",
       " Name8 (NamePattern2) \n",
       "<mark class=\"entity\" style=\"background: #e4e7d2; padding: 0.45em 0.6em; margin: 0 0.25em; line-height: 1; border-radius: 0.35em;\">\n",
       "    4621\n",
       "    <span style=\"font-size: 0.8em; font-weight: bold; line-height: 1; border-radius: 0.35em; vertical-align: middle; margin-left: 0.5rem\">CARDINAL</span>\n",
       "</mark>\n",
       "**] [**Last Name (NamePattern1) \n",
       "<mark class=\"entity\" style=\"background: #bfe1d9; padding: 0.45em 0.6em; margin: 0 0.25em; line-height: 1; border-radius: 0.35em;\">\n",
       "    14553\n",
       "    <span style=\"font-size: 0.8em; font-weight: bold; line-height: 1; border-radius: 0.35em; vertical-align: middle; margin-left: 0.5rem\">DATE</span>\n",
       "</mark>\n",
       "**]</br> of the Emergency Department.  Given the patient's pacemaker and elevated</br> creatinine, no further brain imaging will be undertaken at this time.</br> Apparently, the patient has a history of melanoma, and these lesions are</br> likely metastases with vasogenic edema.</br></br></div></span>"
      ],
      "text/plain": [
       "<IPython.core.display.HTML object>"
      ]
     },
     "metadata": {},
     "output_type": "display_data"
    },
    {
     "name": "stdout",
     "output_type": "stream",
     "text": [
      "None\n"
     ]
    },
    {
     "data": {
      "text/html": [
       "<span class=\"tex2jax_ignore\"><div class=\"entities\" style=\"line-height: 2.5; direction: ltr\">[**\n",
       "<mark class=\"entity\" style=\"background: #bfe1d9; padding: 0.45em 0.6em; margin: 0 0.25em; line-height: 1; border-radius: 0.35em;\">\n",
       "    2161-9-18\n",
       "    <span style=\"font-size: 0.8em; font-weight: bold; line-height: 1; border-radius: 0.35em; vertical-align: middle; margin-left: 0.5rem\">DATE</span>\n",
       "</mark>\n",
       "**] \n",
       "<mark class=\"entity\" style=\"background: #bfe1d9; padding: 0.45em 0.6em; margin: 0 0.25em; line-height: 1; border-radius: 0.35em;\">\n",
       "    8:41 AM\n",
       "    <span style=\"font-size: 0.8em; font-weight: bold; line-height: 1; border-radius: 0.35em; vertical-align: middle; margin-left: 0.5rem\">TIME</span>\n",
       "</mark>\n",
       "</br> MR HEAD \n",
       "<mark class=\"entity\" style=\"background: #7aecec; padding: 0.45em 0.6em; margin: 0 0.25em; line-height: 1; border-radius: 0.35em;\">\n",
       "    W &amp; W/O CONTRAST\n",
       "    <span style=\"font-size: 0.8em; font-weight: bold; line-height: 1; border-radius: 0.35em; vertical-align: middle; margin-left: 0.5rem\">ORG</span>\n",
       "</mark>\n",
       "; MR CONTRAST GADOLIN                   Clip # [**Clip Number (Radiology) \n",
       "<mark class=\"entity\" style=\"background: #bfe1d9; padding: 0.45em 0.6em; margin: 0 0.25em; line-height: 1; border-radius: 0.35em;\">\n",
       "    103442\n",
       "    <span style=\"font-size: 0.8em; font-weight: bold; line-height: 1; border-radius: 0.35em; vertical-align: middle; margin-left: 0.5rem\">DATE</span>\n",
       "</mark>\n",
       "**]</br> MRA BRAIN W/O CONTRAST</br> Reason: please assess for vascular abnormality</br> Admitting Diagnosis: HEADACHE</br>  Contrast: MAGNEVIST Amt: \n",
       "<mark class=\"entity\" style=\"background: #e4e7d2; padding: 0.45em 0.6em; margin: 0 0.25em; line-height: 1; border-radius: 0.35em;\">\n",
       "    15\n",
       "    <span style=\"font-size: 0.8em; font-weight: bold; line-height: 1; border-radius: 0.35em; vertical-align: middle; margin-left: 0.5rem\">CARDINAL</span>\n",
       "</mark>\n",
       "</br> ______________________________________________________________________________</br> [**Hospital 3**] MEDICAL CONDITION:</br>  \n",
       "<mark class=\"entity\" style=\"background: #bfe1d9; padding: 0.45em 0.6em; margin: 0 0.25em; line-height: 1; border-radius: 0.35em;\">\n",
       "    63 year old\n",
       "    <span style=\"font-size: 0.8em; font-weight: bold; line-height: 1; border-radius: 0.35em; vertical-align: middle; margin-left: 0.5rem\">DATE</span>\n",
       "</mark>\n",
       " man with bloody lp and meningitis</br> REASON FOR THIS EXAMINATION:</br>  please assess for vascular abnormality</br> ______________________________________________________________________________</br>                                 FINAL REPORT</br> MRI AND MRA OF THE \n",
       "<mark class=\"entity\" style=\"background: #7aecec; padding: 0.45em 0.6em; margin: 0 0.25em; line-height: 1; border-radius: 0.35em;\">\n",
       "    BRAIN\n",
       "    <span style=\"font-size: 0.8em; font-weight: bold; line-height: 1; border-radius: 0.35em; vertical-align: middle; margin-left: 0.5rem\">ORG</span>\n",
       "</mark>\n",
       ".</br></br> INDICATION:  \n",
       "<mark class=\"entity\" style=\"background: #bfe1d9; padding: 0.45em 0.6em; margin: 0 0.25em; line-height: 1; border-radius: 0.35em;\">\n",
       "    63 year old\n",
       "    <span style=\"font-size: 0.8em; font-weight: bold; line-height: 1; border-radius: 0.35em; vertical-align: middle; margin-left: 0.5rem\">DATE</span>\n",
       "</mark>\n",
       " man with bloody lumbar puncture and meningitis.</br></br> TECHNIQUE:  Multiplanar \n",
       "<mark class=\"entity\" style=\"background: #aa9cfc; padding: 0.45em 0.6em; margin: 0 0.25em; line-height: 1; border-radius: 0.35em;\">\n",
       "    T1-\n",
       "    <span style=\"font-size: 0.8em; font-weight: bold; line-height: 1; border-radius: 0.35em; vertical-align: middle; margin-left: 0.5rem\">PERSON</span>\n",
       "</mark>\n",
       " and T2-weighted images of the brain.  \n",
       "<mark class=\"entity\" style=\"background: #7aecec; padding: 0.45em 0.6em; margin: 0 0.25em; line-height: 1; border-radius: 0.35em;\">\n",
       "    Comparison\n",
       " \n",
       "    <span style=\"font-size: 0.8em; font-weight: bold; line-height: 1; border-radius: 0.35em; vertical-align: middle; margin-left: 0.5rem\">ORG</span>\n",
       "</mark>\n",
       "was made to prior study dated [**\n",
       "<mark class=\"entity\" style=\"background: #bfe1d9; padding: 0.45em 0.6em; margin: 0 0.25em; line-height: 1; border-radius: 0.35em;\">\n",
       "    2161-9-15\n",
       "    <span style=\"font-size: 0.8em; font-weight: bold; line-height: 1; border-radius: 0.35em; vertical-align: middle; margin-left: 0.5rem\">DATE</span>\n",
       "</mark>\n",
       "**].</br></br> FINDINGS:  There are a few foci of T2 hyperintensity within the</br> periventricular white matter of cerebral hemispheres consistent with mild</br> chronic small vessel infarcts, unchanged.  The [**Doctor Last Name **]-white matter</br> differentiation is well maintained.  There is no mass effect, shift of normal</br> midline structures or hydrocephalus.  No intracranial hemorrhage is</br> visualized.  There is no significant change since the prior study.</br></br> IMPRESSION:  Mild small vessel ischemic infarcts of chronic nature.</br></br> HEAD MRA.</br></br> TECHNIQUE:  3D time-of-flight imaging of the anterior and posterior cerebral</br> circulations were obtained.  There are no prior studies for comparison.</br></br> FINDINGS:  No posterior communicating artery  on the left side is present.  A</br> fetal posterior cerebral artery on the right side is visualized.  There is no</br> hemodynamically- significant stenosis or aneurysmal dilatation of the</br> visualized vasculature.</br></br> IMPRESSION:</br></br> Fetal posterior cerebral artery on the right. Absence of posterior</br> communicating artery on the left.  Otherwise, unremarkable study.</br></br></br></div></span>"
      ],
      "text/plain": [
       "<IPython.core.display.HTML object>"
      ]
     },
     "metadata": {},
     "output_type": "display_data"
    },
    {
     "name": "stdout",
     "output_type": "stream",
     "text": [
      "None\n"
     ]
    },
    {
     "data": {
      "text/html": [
       "<span class=\"tex2jax_ignore\"><div class=\"entities\" style=\"line-height: 2.5; direction: ltr\">[**\n",
       "<mark class=\"entity\" style=\"background: #bfe1d9; padding: 0.45em 0.6em; margin: 0 0.25em; line-height: 1; border-radius: 0.35em;\">\n",
       "    2161-9-15\n",
       "    <span style=\"font-size: 0.8em; font-weight: bold; line-height: 1; border-radius: 0.35em; vertical-align: middle; margin-left: 0.5rem\">DATE</span>\n",
       "</mark>\n",
       "**] 4:33 AM</br> MR HEAD W/O CONTRAST; \n",
       "<mark class=\"entity\" style=\"background: #7aecec; padding: 0.45em 0.6em; margin: 0 0.25em; line-height: 1; border-radius: 0.35em;\">\n",
       "    MRA BRAIN W/O CONTRAST                    Clip\n",
       "    <span style=\"font-size: 0.8em; font-weight: bold; line-height: 1; border-radius: 0.35em; vertical-align: middle; margin-left: 0.5rem\">ORG</span>\n",
       "</mark>\n",
       " # [**Clip Number (Radiology) \n",
       "<mark class=\"entity\" style=\"background: #bfe1d9; padding: 0.45em 0.6em; margin: 0 0.25em; line-height: 1; border-radius: 0.35em;\">\n",
       "    104041\n",
       "    <span style=\"font-size: 0.8em; font-weight: bold; line-height: 1; border-radius: 0.35em; vertical-align: middle; margin-left: 0.5rem\">DATE</span>\n",
       "</mark>\n",
       "**]</br> Reason: MRI with and without contrast and MRA brain.</br> Admitting Diagnosis: HEADACHE</br> ______________________________________________________________________________</br> [**Hospital 3**] MEDICAL CONDITION:</br>  \n",
       "<mark class=\"entity\" style=\"background: #bfe1d9; padding: 0.45em 0.6em; margin: 0 0.25em; line-height: 1; border-radius: 0.35em;\">\n",
       "    63 year old\n",
       "    <span style=\"font-size: 0.8em; font-weight: bold; line-height: 1; border-radius: 0.35em; vertical-align: middle; margin-left: 0.5rem\">DATE</span>\n",
       "</mark>\n",
       " man with possible SAH please evaluate</br> REASON FOR THIS EXAMINATION:</br>  MRI with and without contrast and MRA brain.</br> ______________________________________________________________________________</br>                                 FINAL REPORT  (REVISED)</br> INDICATION: Possible subarachnoid hemorrhage, evaluate for aneurysm.</br></br> TECHNIQUE: Multiplanar \n",
       "<mark class=\"entity\" style=\"background: #aa9cfc; padding: 0.45em 0.6em; margin: 0 0.25em; line-height: 1; border-radius: 0.35em;\">\n",
       "    T1-\n",
       "    <span style=\"font-size: 0.8em; font-weight: bold; line-height: 1; border-radius: 0.35em; vertical-align: middle; margin-left: 0.5rem\">PERSON</span>\n",
       "</mark>\n",
       ", \n",
       "<mark class=\"entity\" style=\"background: #feca74; padding: 0.45em 0.6em; margin: 0 0.25em; line-height: 1; border-radius: 0.35em;\">\n",
       "    T2-\n",
       "    <span style=\"font-size: 0.8em; font-weight: bold; line-height: 1; border-radius: 0.35em; vertical-align: middle; margin-left: 0.5rem\">GPE</span>\n",
       "</mark>\n",
       ", and diffusion-weighted images were obtained</br> through the brain. 3D time of flight MR angiography was performed through the</br> region of the circle of [**Location (un) \n",
       "<mark class=\"entity\" style=\"background: #e4e7d2; padding: 0.45em 0.6em; margin: 0 0.25em; line-height: 1; border-radius: 0.35em;\">\n",
       "    286\n",
       "    <span style=\"font-size: 0.8em; font-weight: bold; line-height: 1; border-radius: 0.35em; vertical-align: middle; margin-left: 0.5rem\">CARDINAL</span>\n",
       "</mark>\n",
       "**], and multiplanar reformations were performed.</br></br> MR BRAIN WITHOUT CONTRAST: No significant abnormalities are idenitified. There</br> is no mass effect, shift of normally midline structures, or hydrocephalus. No</br> abnormalities are identified on the diffusion-weighted images.</br></br> CIRCLE OF [**Location (un) **] MRA: The major vascular structures are unremarkable. The</br> right vertebral artery is dominant. There is no evidence for aneurysm,</br> dissection, or other abnormality. Please see the report of the CT angiogram</br> performed \n",
       "<mark class=\"entity\" style=\"background: #bfe1d9; padding: 0.45em 0.6em; margin: 0 0.25em; line-height: 1; border-radius: 0.35em;\">\n",
       "    one day\n",
       "    <span style=\"font-size: 0.8em; font-weight: bold; line-height: 1; border-radius: 0.35em; vertical-align: middle; margin-left: 0.5rem\">DATE</span>\n",
       "</mark>\n",
       " prior.</br></br> IMPRESSION: Unremarkable appearance of the vessels comprising the circle of</br> [**Location (un) \n",
       "<mark class=\"entity\" style=\"background: #e4e7d2; padding: 0.45em 0.6em; margin: 0 0.25em; line-height: 1; border-radius: 0.35em;\">\n",
       "    286\n",
       "    <span style=\"font-size: 0.8em; font-weight: bold; line-height: 1; border-radius: 0.35em; vertical-align: middle; margin-left: 0.5rem\">CARDINAL</span>\n",
       "</mark>\n",
       "**].</br></br></div></span>"
      ],
      "text/plain": [
       "<IPython.core.display.HTML object>"
      ]
     },
     "metadata": {},
     "output_type": "display_data"
    },
    {
     "name": "stdout",
     "output_type": "stream",
     "text": [
      "None\n"
     ]
    },
    {
     "data": {
      "text/html": [
       "<span class=\"tex2jax_ignore\"><div class=\"entities\" style=\"line-height: 2.5; direction: ltr\">[**\n",
       "<mark class=\"entity\" style=\"background: #bfe1d9; padding: 0.45em 0.6em; margin: 0 0.25em; line-height: 1; border-radius: 0.35em;\">\n",
       "    2161-9-15\n",
       "    <span style=\"font-size: 0.8em; font-weight: bold; line-height: 1; border-radius: 0.35em; vertical-align: middle; margin-left: 0.5rem\">DATE</span>\n",
       "</mark>\n",
       "**] \n",
       "<mark class=\"entity\" style=\"background: #bfe1d9; padding: 0.45em 0.6em; margin: 0 0.25em; line-height: 1; border-radius: 0.35em;\">\n",
       "    3:06 PM\n",
       " \n",
       "    <span style=\"font-size: 0.8em; font-weight: bold; line-height: 1; border-radius: 0.35em; vertical-align: middle; margin-left: 0.5rem\">TIME</span>\n",
       "</mark>\n",
       "CAROT/CEREB [**Hospital1 **]                                                  Clip # [**0-0-**]</br> Reason: \n",
       "<mark class=\"entity\" style=\"background: #7aecec; padding: 0.45em 0.6em; margin: 0 0.25em; line-height: 1; border-radius: 0.35em;\">\n",
       "    HEADACHES\n",
       " \n",
       "    <span style=\"font-size: 0.8em; font-weight: bold; line-height: 1; border-radius: 0.35em; vertical-align: middle; margin-left: 0.5rem\">ORG</span>\n",
       "</mark>\n",
       "Admitting Diagnosis: HEADACHE</br>  Contrast: OPTIRAY Amt: \n",
       "<mark class=\"entity\" style=\"background: #e4e7d2; padding: 0.45em 0.6em; margin: 0 0.25em; line-height: 1; border-radius: 0.35em;\">\n",
       "    310\n",
       "    <span style=\"font-size: 0.8em; font-weight: bold; line-height: 1; border-radius: 0.35em; vertical-align: middle; margin-left: 0.5rem\">CARDINAL</span>\n",
       "</mark>\n",
       "</br> ********************************* CPT Codes ********************************</br> * [**Numeric Identifier 171**] SEL CATH 3RD ORDER [**Last Name (un) \n",
       "<mark class=\"entity\" style=\"background: #e4e7d2; padding: 0.45em 0.6em; margin: 0 0.25em; line-height: 1; border-radius: 0.35em;\">\n",
       "    172\n",
       "    <span style=\"font-size: 0.8em; font-weight: bold; line-height: 1; border-radius: 0.35em; vertical-align: middle; margin-left: 0.5rem\">CARDINAL</span>\n",
       "</mark>\n",
       "**]         [**Numeric Identifier \n",
       "<mark class=\"entity\" style=\"background: #e4e7d2; padding: 0.45em 0.6em; margin: 0 0.25em; line-height: 1; border-radius: 0.35em;\">\n",
       "    527\n",
       "    <span style=\"font-size: 0.8em; font-weight: bold; line-height: 1; border-radius: 0.35em; vertical-align: middle; margin-left: 0.5rem\">CARDINAL</span>\n",
       "</mark>\n",
       "**] SEL CATH \n",
       "<mark class=\"entity\" style=\"background: #e4e7d2; padding: 0.45em 0.6em; margin: 0 0.25em; line-height: 1; border-radius: 0.35em;\">\n",
       "    2ND\n",
       "    <span style=\"font-size: 0.8em; font-weight: bold; line-height: 1; border-radius: 0.35em; vertical-align: middle; margin-left: 0.5rem\">CARDINAL</span>\n",
       "</mark>\n",
       " ORDER               *</br> * -59 DISTINCT PROCEDURAL SERVICE       [**Numeric Identifier \n",
       "<mark class=\"entity\" style=\"background: #e4e7d2; padding: 0.45em 0.6em; margin: 0 0.25em; line-height: 1; border-radius: 0.35em;\">\n",
       "    527\n",
       "    <span style=\"font-size: 0.8em; font-weight: bold; line-height: 1; border-radius: 0.35em; vertical-align: middle; margin-left: 0.5rem\">CARDINAL</span>\n",
       "</mark>\n",
       "**] SEL CATH \n",
       "<mark class=\"entity\" style=\"background: #e4e7d2; padding: 0.45em 0.6em; margin: 0 0.25em; line-height: 1; border-radius: 0.35em;\">\n",
       "    2ND\n",
       "    <span style=\"font-size: 0.8em; font-weight: bold; line-height: 1; border-radius: 0.35em; vertical-align: middle; margin-left: 0.5rem\">CARDINAL</span>\n",
       "</mark>\n",
       " ORDER               *</br> * -59 DISTINCT PROCEDURAL SERVICE       [**Numeric Identifier 3308**] ADD'L 2ND/3RD ORDER              *</br> * [**Numeric Identifier 3308**] ADD'L 2ND/3RD ORDER             [**Numeric Identifier 3308**] ADD'L 2ND/3RD ORDER              *</br> * [**Numeric Identifier 529**] \n",
       "<mark class=\"entity\" style=\"background: #7aecec; padding: 0.45em 0.6em; margin: 0 0.25em; line-height: 1; border-radius: 0.35em;\">\n",
       "    CAROTID/CEREBRAL\n",
       "    <span style=\"font-size: 0.8em; font-weight: bold; line-height: 1; border-radius: 0.35em; vertical-align: middle; margin-left: 0.5rem\">ORG</span>\n",
       "</mark>\n",
       " BILAT          [**Numeric Identifier 528**] \n",
       "<mark class=\"entity\" style=\"background: #7aecec; padding: 0.45em 0.6em; margin: 0 0.25em; line-height: 1; border-radius: 0.35em;\">\n",
       "    CAROTID/CEREBRAL\n",
       "    <span style=\"font-size: 0.8em; font-weight: bold; line-height: 1; border-radius: 0.35em; vertical-align: middle; margin-left: 0.5rem\">ORG</span>\n",
       "</mark>\n",
       " BILAT           *</br> * [**Numeric Identifier 3309**] EXT CAROTID BILAT               [**Numeric Identifier \n",
       "<mark class=\"entity\" style=\"background: #e4e7d2; padding: 0.45em 0.6em; margin: 0 0.25em; line-height: 1; border-radius: 0.35em;\">\n",
       "    530\n",
       "    <span style=\"font-size: 0.8em; font-weight: bold; line-height: 1; border-radius: 0.35em; vertical-align: middle; margin-left: 0.5rem\">CARDINAL</span>\n",
       "</mark>\n",
       "**] VERT/CAROTID \n",
       "<mark class=\"entity\" style=\"background: #bfeeb7; padding: 0.45em 0.6em; margin: 0 0.25em; line-height: 1; border-radius: 0.35em;\">\n",
       "    A-GRAM\n",
       "    <span style=\"font-size: 0.8em; font-weight: bold; line-height: 1; border-radius: 0.35em; vertical-align: middle; margin-left: 0.5rem\">PRODUCT</span>\n",
       "</mark>\n",
       "              *</br> * [**Numeric Identifier \n",
       "<mark class=\"entity\" style=\"background: #e4e7d2; padding: 0.45em 0.6em; margin: 0 0.25em; line-height: 1; border-radius: 0.35em;\">\n",
       "    530\n",
       "    <span style=\"font-size: 0.8em; font-weight: bold; line-height: 1; border-radius: 0.35em; vertical-align: middle; margin-left: 0.5rem\">CARDINAL</span>\n",
       "</mark>\n",
       "**] VERT/CAROTID \n",
       "<mark class=\"entity\" style=\"background: #bfeeb7; padding: 0.45em 0.6em; margin: 0 0.25em; line-height: 1; border-radius: 0.35em;\">\n",
       "    A-GRAM\n",
       "    <span style=\"font-size: 0.8em; font-weight: bold; line-height: 1; border-radius: 0.35em; vertical-align: middle; margin-left: 0.5rem\">PRODUCT</span>\n",
       "</mark>\n",
       "             -59 DISTINCT PROCEDURAL SERVICE        *</br> * [**Numeric Identifier 3638**] EXT BILAT A-GRAM                -52 REDUCED SERVICES                   *</br> * C1760 CLOSURE DEVICE VASC IMP/INS     C1769 \n",
       "<mark class=\"entity\" style=\"background: #7aecec; padding: 0.45em 0.6em; margin: 0 0.25em; line-height: 1; border-radius: 0.35em;\">\n",
       "    GUID WIRES INFU/\n",
       "    <span style=\"font-size: 0.8em; font-weight: bold; line-height: 1; border-radius: 0.35em; vertical-align: middle; margin-left: 0.5rem\">ORG</span>\n",
       "</mark>\n",
       "PERF             *</br> ****************************************************************************</br> ______________________________________________________________________________</br>                                 FINAL REPORT</br> PREOPERATIVE DIAGNOSIS: Subarchnoid hemorrhage, rule out intracranial</br> aneurysm.</br></br> POSTOPERATIVE DIAGNOSIS: No evidence of intracranial aneurysm.</br></br> ANESTHESIA: Conscious sedation with local infiltration of the right groin.</br></br> INDICATION: Mr. [**Known lastname \n",
       "<mark class=\"entity\" style=\"background: #bfe1d9; padding: 0.45em 0.6em; margin: 0 0.25em; line-height: 1; border-radius: 0.35em;\">\n",
       "    103440\n",
       "    <span style=\"font-size: 0.8em; font-weight: bold; line-height: 1; border-radius: 0.35em; vertical-align: middle; margin-left: 0.5rem\">DATE</span>\n",
       "</mark>\n",
       "**] is a patient who had been having headaches and</br> question of subarachnoid hemorrhage. He is undergoing this cerebral angiogram</br> to rule out the presence of intracranial aneurysm or other vascular</br> malformation.</br></br> \n",
       "<mark class=\"entity\" style=\"background: #aa9cfc; padding: 0.45em 0.6em; margin: 0 0.25em; line-height: 1; border-radius: 0.35em;\">\n",
       "    CONSENT\n",
       "    <span style=\"font-size: 0.8em; font-weight: bold; line-height: 1; border-radius: 0.35em; vertical-align: middle; margin-left: 0.5rem\">PERSON</span>\n",
       "</mark>\n",
       ": The patient and his family were given a full and complete explanation</br> of the procedure. Specifically, the indications, risks, benefits, and</br> alternatives to the procedure were explained in detail. In addition, the</br> possible complications, such as the risk of bleeding, infection, stroke,</br> neurological deficit or deterioration, groin hematoma, and other unforeseen</br> complications, including the risk of coma and even death, were outlined. The</br> patient and his family understood and wished to proceed with the operation.</br></br> PROCEDURE IN \n",
       "<mark class=\"entity\" style=\"background: #aa9cfc; padding: 0.45em 0.6em; margin: 0 0.25em; line-height: 1; border-radius: 0.35em;\">\n",
       "    DETAIL\n",
       "    <span style=\"font-size: 0.8em; font-weight: bold; line-height: 1; border-radius: 0.35em; vertical-align: middle; margin-left: 0.5rem\">PERSON</span>\n",
       "</mark>\n",
       ": The patient was brought into \n",
       "<mark class=\"entity\" style=\"background: #bfeeb7; padding: 0.45em 0.6em; margin: 0 0.25em; line-height: 1; border-radius: 0.35em;\">\n",
       "    the Endovascular Suite\n",
       "    <span style=\"font-size: 0.8em; font-weight: bold; line-height: 1; border-radius: 0.35em; vertical-align: middle; margin-left: 0.5rem\">PRODUCT</span>\n",
       "</mark>\n",
       " and</br> placed on the table in supine position. The right groin area was prepped and</br> draped in the usual sterile fashion. A \n",
       "<mark class=\"entity\" style=\"background: #e4e7d2; padding: 0.45em 0.6em; margin: 0 0.25em; line-height: 1; border-radius: 0.35em;\">\n",
       "    19\n",
       "    <span style=\"font-size: 0.8em; font-weight: bold; line-height: 1; border-radius: 0.35em; vertical-align: middle; margin-left: 0.5rem\">CARDINAL</span>\n",
       "</mark>\n",
       "-gauge single-wall needle was then</br> used to puncture the right common femoral artery, and upon the return of brisk</br> arterial blood, a \n",
       "<mark class=\"entity\" style=\"background: #e4e7d2; padding: 0.45em 0.6em; margin: 0 0.25em; line-height: 1; border-radius: 0.35em;\">\n",
       "    4\n",
       "    <span style=\"font-size: 0.8em; font-weight: bold; line-height: 1; border-radius: 0.35em; vertical-align: middle; margin-left: 0.5rem\">CARDINAL</span>\n",
       "</mark>\n",
       " \n",
       "<mark class=\"entity\" style=\"background: #bfeeb7; padding: 0.45em 0.6em; margin: 0 0.25em; line-height: 1; border-radius: 0.35em;\">\n",
       "    Fr\n",
       "    <span style=\"font-size: 0.8em; font-weight: bold; line-height: 1; border-radius: 0.35em; vertical-align: middle; margin-left: 0.5rem\">PRODUCT</span>\n",
       "</mark>\n",
       " vascular sheath was inserted over a guidewire and kept</br> on a heparinized saline drip. Next, a diagnostic catheter was used to</br> selectively catheterize the following vessels: right common carotid artery,</br> right internal carotid artery, right external carotid artery, right subclavian</br> artery, right vertebral artery, left common carotid artery, left internal</br> carotid artery, left external artery, left subclavian artery, left vertebral</br> artery.</br></br> RESULTS: Injection of both common carotid arteries revealed normal anatomy</br> with no evidence of intracranial or extracranial atherosclerotic disease. The</br> bilateral internal carotid arteries with \n",
       "<mark class=\"entity\" style=\"background: #e4e7d2; padding: 0.45em 0.6em; margin: 0 0.25em; line-height: 1; border-radius: 0.35em;\">\n",
       "    three\n",
       "    <span style=\"font-size: 0.8em; font-weight: bold; line-height: 1; border-radius: 0.35em; vertical-align: middle; margin-left: 0.5rem\">CARDINAL</span>\n",
       "</mark>\n",
       "-dimensional rotational</br>                                                             (Over)</br></br> [**\n",
       "<mark class=\"entity\" style=\"background: #bfe1d9; padding: 0.45em 0.6em; margin: 0 0.25em; line-height: 1; border-radius: 0.35em;\">\n",
       "    2161-9-15\n",
       "    <span style=\"font-size: 0.8em; font-weight: bold; line-height: 1; border-radius: 0.35em; vertical-align: middle; margin-left: 0.5rem\">DATE</span>\n",
       "</mark>\n",
       "**] \n",
       "<mark class=\"entity\" style=\"background: #bfe1d9; padding: 0.45em 0.6em; margin: 0 0.25em; line-height: 1; border-radius: 0.35em;\">\n",
       "    3:06 PM\n",
       " \n",
       "    <span style=\"font-size: 0.8em; font-weight: bold; line-height: 1; border-radius: 0.35em; vertical-align: middle; margin-left: 0.5rem\">TIME</span>\n",
       "</mark>\n",
       "CAROT/CEREB [**Hospital1 **]                                                  Clip # [**0-0-**]</br> Reason: \n",
       "<mark class=\"entity\" style=\"background: #7aecec; padding: 0.45em 0.6em; margin: 0 0.25em; line-height: 1; border-radius: 0.35em;\">\n",
       "    HEADACHES\n",
       " \n",
       "    <span style=\"font-size: 0.8em; font-weight: bold; line-height: 1; border-radius: 0.35em; vertical-align: middle; margin-left: 0.5rem\">ORG</span>\n",
       "</mark>\n",
       "Admitting Diagnosis: HEADACHE</br>  Contrast: OPTIRAY Amt: \n",
       "<mark class=\"entity\" style=\"background: #e4e7d2; padding: 0.45em 0.6em; margin: 0 0.25em; line-height: 1; border-radius: 0.35em;\">\n",
       "    310\n",
       "    <span style=\"font-size: 0.8em; font-weight: bold; line-height: 1; border-radius: 0.35em; vertical-align: middle; margin-left: 0.5rem\">CARDINAL</span>\n",
       "</mark>\n",
       "</br> ______________________________________________________________________________</br>                                 FINAL REPORT</br> (Cont)</br> angiography revealed no evidence of intracranial aneurysm or other vascular</br> malformation. The bilateral external carotid arteries revealed no evidence of</br> abnormal arteriovenous shunting or unusual anatomy. Injection of both</br> subclavian arteries showed no evidence of atherosclerotic disease or stenosis.</br> Injection of the right subclavian artery showed a normal origin of the right</br> vertebral artery which was dominant. The right vertebral artery course in the</br> cervical segment intracranially is normal with no atherosclerosis or stenosis.</br> The left vertebral artery is diminutive, and the vertebrobasilar junction is</br> within normal limits. The origin of the left vertebral artery is within normal</br> limits and the vessel itself is approximately 1.5 mm and is very small in</br> caliber. Intracranially the posterior circulation is normal with no evidence</br> of aneurysm or other vascular lesion.</br></br> IMPRESSION: No evidence of intracranial aneurysm or other vascular</br> malformation to account for the patient's presentation.</br></br></br></br></br></br></br></br></br></br></br></br></br></br></br></br></div></span>"
      ],
      "text/plain": [
       "<IPython.core.display.HTML object>"
      ]
     },
     "metadata": {},
     "output_type": "display_data"
    },
    {
     "name": "stdout",
     "output_type": "stream",
     "text": [
      "None\n"
     ]
    },
    {
     "data": {
      "text/html": [
       "<span class=\"tex2jax_ignore\"><div class=\"entities\" style=\"line-height: 2.5; direction: ltr\">[**\n",
       "<mark class=\"entity\" style=\"background: #bfe1d9; padding: 0.45em 0.6em; margin: 0 0.25em; line-height: 1; border-radius: 0.35em;\">\n",
       "    2161-9-14\n",
       "    <span style=\"font-size: 0.8em; font-weight: bold; line-height: 1; border-radius: 0.35em; vertical-align: middle; margin-left: 0.5rem\">DATE</span>\n",
       "</mark>\n",
       "**] \n",
       "<mark class=\"entity\" style=\"background: #bfe1d9; padding: 0.45em 0.6em; margin: 0 0.25em; line-height: 1; border-radius: 0.35em;\">\n",
       "    7:27 PM\n",
       " \n",
       "    <span style=\"font-size: 0.8em; font-weight: bold; line-height: 1; border-radius: 0.35em; vertical-align: middle; margin-left: 0.5rem\">TIME</span>\n",
       "</mark>\n",
       "CTA HEAD W&amp;W/O C &amp; RECONS; \n",
       "<mark class=\"entity\" style=\"background: #bfeeb7; padding: 0.45em 0.6em; margin: 0 0.25em; line-height: 1; border-radius: 0.35em;\">\n",
       "    CT 150CC NONIONIC CONTRAST\n",
       "    <span style=\"font-size: 0.8em; font-weight: bold; line-height: 1; border-radius: 0.35em; vertical-align: middle; margin-left: 0.5rem\">PRODUCT</span>\n",
       "</mark>\n",
       "           Clip # [**Clip Number (Radiology) 104040**]</br> Reason: r/o bleed, aneurysm</br>  Contrast: \n",
       "<mark class=\"entity\" style=\"background: #7aecec; padding: 0.45em 0.6em; margin: 0 0.25em; line-height: 1; border-radius: 0.35em;\">\n",
       "    NON IONIC\n",
       "    <span style=\"font-size: 0.8em; font-weight: bold; line-height: 1; border-radius: 0.35em; vertical-align: middle; margin-left: 0.5rem\">ORG</span>\n",
       "</mark>\n",
       " Amt: \n",
       "<mark class=\"entity\" style=\"background: #e4e7d2; padding: 0.45em 0.6em; margin: 0 0.25em; line-height: 1; border-radius: 0.35em;\">\n",
       "    150\n",
       "    <span style=\"font-size: 0.8em; font-weight: bold; line-height: 1; border-radius: 0.35em; vertical-align: middle; margin-left: 0.5rem\">CARDINAL</span>\n",
       "</mark>\n",
       "</br> ______________________________________________________________________________</br> [**Hospital 3**] MEDICAL CONDITION:</br>  \n",
       "<mark class=\"entity\" style=\"background: #bfe1d9; padding: 0.45em 0.6em; margin: 0 0.25em; line-height: 1; border-radius: 0.35em;\">\n",
       "    63 year old\n",
       "    <span style=\"font-size: 0.8em; font-weight: bold; line-height: 1; border-radius: 0.35em; vertical-align: middle; margin-left: 0.5rem\">DATE</span>\n",
       "</mark>\n",
       " man with HA, neck pain, n/v w/LP suggestive of possible subarach.</br> REASON FOR THIS EXAMINATION:</br>  r/o bleed, aneurysm</br> No contraindications for IV contrast</br> ______________________________________________________________________________</br>                                 FINAL REPORT  (REVISED)</br> INDICATION:  \n",
       "<mark class=\"entity\" style=\"background: #7aecec; padding: 0.45em 0.6em; margin: 0 0.25em; line-height: 1; border-radius: 0.35em;\">\n",
       "    Headaches\n",
       "    <span style=\"font-size: 0.8em; font-weight: bold; line-height: 1; border-radius: 0.35em; vertical-align: middle; margin-left: 0.5rem\">ORG</span>\n",
       "</mark>\n",
       ", neck pain, with lumbar puncture suggestive of possible</br> subarachnoid hemorrhage.  Rule out hemorrhage or aneurysm.</br></br> TECHNIQUE:  \n",
       "<mark class=\"entity\" style=\"background: #feca74; padding: 0.45em 0.6em; margin: 0 0.25em; line-height: 1; border-radius: 0.35em;\">\n",
       "    Contiguous\n",
       "    <span style=\"font-size: 0.8em; font-weight: bold; line-height: 1; border-radius: 0.35em; vertical-align: middle; margin-left: 0.5rem\">GPE</span>\n",
       "</mark>\n",
       " axial images were obtained from the skull base to the</br> cranial vertex without intravenous contrast. A CT angiogram was then performed</br> using \n",
       "<mark class=\"entity\" style=\"background: #e4e7d2; padding: 0.45em 0.6em; margin: 0 0.25em; line-height: 1; border-radius: 0.35em;\">\n",
       "    150\n",
       "    <span style=\"font-size: 0.8em; font-weight: bold; line-height: 1; border-radius: 0.35em; vertical-align: middle; margin-left: 0.5rem\">CARDINAL</span>\n",
       "</mark>\n",
       " cc \n",
       "<mark class=\"entity\" style=\"background: #aa9cfc; padding: 0.45em 0.6em; margin: 0 0.25em; line-height: 1; border-radius: 0.35em;\">\n",
       "    Optiray\n",
       "    <span style=\"font-size: 0.8em; font-weight: bold; line-height: 1; border-radius: 0.35em; vertical-align: middle; margin-left: 0.5rem\">PERSON</span>\n",
       "</mark>\n",
       ".  \n",
       "<mark class=\"entity\" style=\"background: #feca74; padding: 0.45em 0.6em; margin: 0 0.25em; line-height: 1; border-radius: 0.35em;\">\n",
       "    Multiplanar\n",
       "    <span style=\"font-size: 0.8em; font-weight: bold; line-height: 1; border-radius: 0.35em; vertical-align: middle; margin-left: 0.5rem\">GPE</span>\n",
       "</mark>\n",
       " reformations were performed.</br></br> FINDINGS:  There is no intra or extra-axial hemorrhage. There is no mass</br> effect or shift of normally mid-line structures.  The [**Doctor Last Name **]-white matter</br> differentiation is preserved.  The ventricles, sulci, and cisterns are</br> unremarkable, without effacement.  The visualized osseous structures and</br> paranasal sinuses are unremarkable.</br></br> CIRCLE OF [**Location (un) **] CTA:  There is no evidence for aneurysm or dissection.  There</br> is a somewhat asymmetric appearance of the pterygoid plexuses venous</br> bilaterally, with a more prominent appearance of the plexus on the right.</br> There is also an approximately \n",
       "<mark class=\"entity\" style=\"background: #e4e7d2; padding: 0.45em 0.6em; margin: 0 0.25em; line-height: 1; border-radius: 0.35em;\">\n",
       "    1cm\n",
       "    <span style=\"font-size: 0.8em; font-weight: bold; line-height: 1; border-radius: 0.35em; vertical-align: middle; margin-left: 0.5rem\">QUANTITY</span>\n",
       "</mark>\n",
       " contiguous collection of racemose,</br> vascular- appearing structures within the right parapharyngeal fat.  This</br> finding may represent an arteriovenous malformation or normal variant.  No</br> areas of abnormal enhancement are identified within the brain.</br></br> IMPRESSION:  \n",
       "<mark class=\"entity\" style=\"background: #e4e7d2; padding: 0.45em 0.6em; margin: 0 0.25em; line-height: 1; border-radius: 0.35em;\">\n",
       "    1\n",
       "    <span style=\"font-size: 0.8em; font-weight: bold; line-height: 1; border-radius: 0.35em; vertical-align: middle; margin-left: 0.5rem\">CARDINAL</span>\n",
       "</mark>\n",
       ")  No evidence for intracranial hemorrhage.</br> 2)  No evidence for aneurysm or dissection.</br></br> \n",
       "<mark class=\"entity\" style=\"background: #e4e7d2; padding: 0.45em 0.6em; margin: 0 0.25em; line-height: 1; border-radius: 0.35em;\">\n",
       "    3\n",
       "    <span style=\"font-size: 0.8em; font-weight: bold; line-height: 1; border-radius: 0.35em; vertical-align: middle; margin-left: 0.5rem\">CARDINAL</span>\n",
       "</mark>\n",
       ")  Somewhat asymmetric prominence of the right, compared to the left</br> pterygoid plexus, with a possible right sided parapharyngeal vascular</br> malformation. If the patient is to have catheter angiography, attention to</br> this region is recommended to confirm whether an vascular malformation is</br> present in this locale.</br></br></br></div></span>"
      ],
      "text/plain": [
       "<IPython.core.display.HTML object>"
      ]
     },
     "metadata": {},
     "output_type": "display_data"
    },
    {
     "name": "stdout",
     "output_type": "stream",
     "text": [
      "None\n"
     ]
    }
   ],
   "source": [
    "for text in sample_texts:\n",
    "    doc = nlp(text)\n",
    "    print(displacy.render(doc, style='ent', jupyter=True))\n",
    "    "
   ]
  },
  {
   "cell_type": "code",
   "execution_count": null,
   "id": "681e1f46",
   "metadata": {},
   "outputs": [
    {
     "name": "stdout",
     "output_type": "stream",
     "text": [
      "2152-10-2 3 12 DATE\n",
      "1:07 PM\n",
      "  16 25 TIME\n",
      "14552 123 128 DATE\n",
      "81 year old 275 286 DATE\n",
      "2149-6-17 636 645 DATE\n",
      "2150-9-10 665 674 DATE\n",
      "at least three 752 766 CARDINAL\n",
      "one 806 809 CARDINAL\n",
      "third 914 919 ORDINAL\n",
      "at least three 1580 1594 CARDINAL\n",
      "First 1688 1693 ORDINAL\n",
      "4621 1715 1719 CARDINAL\n",
      "14553 1751 1756 DATE\n",
      "*************************************************************************************************************\n",
      "2161-9-18 3 12 DATE\n",
      "8:41 AM 16 23 TIME\n",
      "W & W/O CONTRAST 33 49 ORG\n",
      "103442 123 129 DATE\n",
      "15 263 265 CARDINAL\n",
      "63 year old 385 396 DATE\n",
      "BRAIN 648 653 ORG\n",
      "63 year old 670 681 DATE\n",
      "T1- 756 759 PERSON\n",
      "Comparison\n",
      "  798 810 ORG\n",
      "2161-9-15 843 852 DATE\n",
      "*************************************************************************************************************\n",
      "2161-9-15 3 12 DATE\n",
      "MRA BRAIN W/O CONTRAST                    Clip 47 93 ORG\n",
      "104041 123 129 DATE\n",
      "63 year old 337 348 DATE\n",
      "T1- 696 699 PERSON\n",
      "T2- 701 704 GPE\n",
      "286 871 874 CARDINAL\n",
      "one day 1398 1405 DATE\n",
      "286 1509 1512 CARDINAL\n",
      "*************************************************************************************************************\n",
      "2161-9-15 3 12 DATE\n",
      "3:06 PM\n",
      "  16 25 TIME\n",
      "HEADACHES\n",
      "  130 141 ORG\n",
      "310 196 199 CARDINAL\n",
      "172 347 350 CARDINAL\n",
      "527 384 387 CARDINAL\n",
      "2ND 400 403 CARDINAL\n",
      "527 489 492 CARDINAL\n",
      "2ND 505 508 CARDINAL\n",
      "CAROTID/CEREBRAL 799 815 ORG\n",
      "CAROTID/CEREBRAL 860 876 ORG\n",
      "530 982 985 CARDINAL\n",
      "A-GRAM 1002 1008 PRODUCT\n",
      "530 1049 1052 CARDINAL\n",
      "A-GRAM 1069 1075 PRODUCT\n",
      "GUID WIRES INFU/ 1282 1298 ORG\n",
      "103440 1781 1787 DATE\n",
      "CONSENT 2003 2010 PERSON\n",
      "DETAIL 2548 2554 PERSON\n",
      "the Endovascular Suite 2585 2607 PRODUCT\n",
      "19 2730 2732 CARDINAL\n",
      "4 2866 2867 CARDINAL\n",
      "Fr 2868 2870 PRODUCT\n",
      "three 3514 3519 CARDINAL\n",
      "2161-9-15 3616 3625 DATE\n",
      "3:06 PM\n",
      "  3629 3638 TIME\n",
      "HEADACHES\n",
      "  3743 3754 ORG\n",
      "310 3809 3812 CARDINAL\n",
      "*************************************************************************************************************\n",
      "2161-9-14 3 12 DATE\n",
      "7:27 PM\n",
      "  16 25 TIME\n",
      "CT 150CC NONIONIC CONTRAST 52 78 PRODUCT\n",
      "NON IONIC 174 183 ORG\n",
      "150 189 192 CARDINAL\n",
      "63 year old 312 323 DATE\n",
      "Headaches 631 640 ORG\n",
      "Contiguous 771 781 GPE\n",
      "150 923 926 CARDINAL\n",
      "Optiray 930 937 PERSON\n",
      "Multiplanar 940 951 GPE\n",
      "1cm 1603 1606 QUANTITY\n",
      "1 1872 1873 CARDINAL\n",
      "3 1964 1965 CARDINAL\n",
      "*************************************************************************************************************\n"
     ]
    }
   ],
   "source": [
    "doc = []\n",
    "for i in range(len(sample_texts)):\n",
    "    doc.append(nlp(sample_texts[i]))\n",
    "    for ent in doc[-1].ents:\n",
    "        print(ent.text, ent.start_char, ent.end_char, ent.label_)\n",
    "    print('*************************************************************************************************************')"
   ]
  },
  {
   "cell_type": "code",
   "execution_count": null,
   "id": "a4fea41a",
   "metadata": {
    "scrolled": false
   },
   "outputs": [
    {
     "name": "stdout",
     "output_type": "stream",
     "text": [
      "[['2152-10-2', '1:07 PM\\n ', '14552', '81 year old', '2149-6-17', '2150-9-10', 'at least three', 'one', 'third', 'at least three', 'First', '4621', '14553'], ['2161-9-18', '8:41 AM', 'W & W/O CONTRAST', '103442', '15', '63 year old', 'BRAIN', '63 year old', 'T1-', 'Comparison\\n ', '2161-9-15'], ['2161-9-15', 'MRA BRAIN W/O CONTRAST                    Clip', '104041', '63 year old', 'T1-', 'T2-', '286', 'one day', '286'], ['2161-9-15', '3:06 PM\\n ', 'HEADACHES\\n ', '310', '172', '527', '2ND', '527', '2ND', 'CAROTID/CEREBRAL', 'CAROTID/CEREBRAL', '530', 'A-GRAM', '530', 'A-GRAM', 'GUID WIRES INFU/', '103440', 'CONSENT', 'DETAIL', 'the Endovascular Suite', '19', '4', 'Fr', 'three', '2161-9-15', '3:06 PM\\n ', 'HEADACHES\\n ', '310'], ['2161-9-14', '7:27 PM\\n ', 'CT 150CC NONIONIC CONTRAST', 'NON IONIC', '150', '63 year old', 'Headaches', 'Contiguous', '150', 'Optiray', 'Multiplanar', '1cm', '1', '3']]\n"
     ]
    }
   ],
   "source": [
    "sdf = sample_texts\n",
    "corpus = []\n",
    "for row in range(0, len(sdf)):\n",
    "    str_tokens=[]\n",
    "    tokens=nlp(sdf[row]).ents\n",
    "    for i in range(0, len(tokens)):\n",
    "        str_tokens.append(tokens[i].text)\n",
    "    corpus.append(str_tokens)\n",
    "\n",
    "print(corpus)"
   ]
  },
  {
   "cell_type": "code",
   "execution_count": null,
   "id": "c2f30e59",
   "metadata": {},
   "outputs": [
    {
     "data": {
      "text/plain": [
       "array([ 1.2994667e-03, -9.8054539e-03,  4.5892112e-03, -5.3763657e-04,\n",
       "        6.3294168e-03,  1.7835780e-03, -3.1315617e-03,  7.7622500e-03,\n",
       "        1.5533146e-03,  5.5149052e-05, -4.6144635e-03, -8.4524518e-03,\n",
       "       -7.7666813e-03,  8.6698839e-03, -8.9248288e-03,  9.0354942e-03,\n",
       "       -9.2830947e-03, -2.7566456e-04, -1.9053504e-03, -8.9335116e-03,\n",
       "        8.6325882e-03,  6.7754746e-03,  3.0186656e-03,  4.8327683e-03,\n",
       "        1.1252772e-04,  9.4268313e-03,  7.0231440e-03, -9.8535744e-03,\n",
       "       -4.4322810e-03, -1.2905111e-03,  3.0464008e-03, -4.3229284e-03,\n",
       "        1.4516516e-03, -7.8455200e-03,  2.7799383e-03,  4.7042333e-03,\n",
       "        4.9387072e-03, -3.1784975e-03, -8.4303496e-03, -9.2190253e-03,\n",
       "       -7.2120526e-04, -7.3280954e-03, -6.8131885e-03,  6.1220694e-03,\n",
       "        7.1732658e-03,  2.1162750e-03, -7.8976909e-03, -5.7001160e-03,\n",
       "        8.0513516e-03,  3.9194264e-03, -5.2404311e-03, -7.3897131e-03,\n",
       "        7.7048072e-04,  3.4666376e-03,  2.0772913e-03,  3.1004737e-03,\n",
       "       -5.6219948e-03, -9.8909615e-03, -7.0212577e-03,  2.2948194e-04,\n",
       "        4.6210703e-03,  4.5284159e-03,  1.8787903e-03,  5.1718527e-03,\n",
       "       -1.0434059e-04,  4.1144718e-03, -9.1213975e-03,  7.7023958e-03,\n",
       "        6.1481921e-03,  5.1250006e-03,  7.2062016e-03,  8.4392121e-03,\n",
       "        7.3799322e-04, -1.7026103e-03,  5.2085175e-04, -9.3147960e-03,\n",
       "        8.4085148e-03, -6.3786400e-03,  8.4290234e-03, -4.2427578e-03,\n",
       "        6.4693799e-04, -9.1647152e-03, -9.5607303e-03, -7.8370590e-03,\n",
       "       -7.7347811e-03,  3.7748565e-04, -7.2256890e-03, -4.9508074e-03,\n",
       "       -5.2734502e-03, -4.2893398e-03,  7.0125847e-03,  4.8293294e-03,\n",
       "        8.6826198e-03,  7.0957509e-03, -5.6953323e-03,  7.2404305e-03,\n",
       "       -9.2971055e-03, -2.5879298e-03, -7.7562016e-03,  4.1939081e-03],\n",
       "      dtype=float32)"
      ]
     },
     "metadata": {},
     "output_type": "display_data"
    },
    {
     "data": {
      "text/plain": [
       "[('172', 0.23263314366340637),\n",
       " ('63 year old', 0.21898643672466278),\n",
       " ('527', 0.17501164972782135),\n",
       " ('2ND', 0.16450338065624237),\n",
       " ('GUID WIRES INFU/', 0.16386021673679352),\n",
       " ('2161-9-14', 0.14416353404521942),\n",
       " ('2149-6-17', 0.1422375738620758),\n",
       " ('530', 0.10951896011829376),\n",
       " ('8:41 AM', 0.10783391445875168),\n",
       " ('Multiplanar', 0.10535924881696701)]"
      ]
     },
     "execution_count": 14,
     "metadata": {},
     "output_type": "execute_result"
    }
   ],
   "source": [
    "model = word2vec.Word2Vec(corpus, min_count=1)\n",
    "display(model.wv['BRAIN'])\n",
    "model.wv.most_similar('BRAIN')"
   ]
  },
  {
   "cell_type": "code",
   "execution_count": null,
   "id": "017a67fe",
   "metadata": {},
   "outputs": [],
   "source": [
    "def tsne_plot(model,words, preTrained=False):\n",
    "    \"Creates and TSNE model and plots it\"\n",
    "    labels = []\n",
    "    tokens = []\n",
    "\n",
    "    for word in words:\n",
    "      if preTrained:\n",
    "          tokens.append(model[word])\n",
    "      else:\n",
    "          tokens.append(model.wv[word])\n",
    "      labels.append(word)\n",
    "\n",
    "    tokens = np.array(tokens)\n",
    "    tsne_model = TSNE(perplexity=20, early_exaggeration=12, n_components=2, init='pca', n_iter=1000, random_state=23)\n",
    "    new_values = tsne_model.fit_transform(tokens)\n",
    "\n",
    "    x = []\n",
    "    y = []\n",
    "    for value in new_values:\n",
    "        x.append(value[0])\n",
    "        y.append(value[1])\n",
    "\n",
    "    plt.figure(figsize=(16, 16))\n",
    "    for i in range(len(x)):\n",
    "        plt.scatter(x[i],y[i])\n",
    "        plt.annotate(labels[i],\n",
    "                     xy=(x[i], y[i]),\n",
    "                     xytext=(5, 2),\n",
    "                     textcoords='offset points',\n",
    "                     ha='right',\n",
    "                     va='bottom')\n",
    "    plt.show()"
   ]
  },
  {
   "cell_type": "code",
   "execution_count": null,
   "id": "fad0ff36",
   "metadata": {
    "scrolled": false
   },
   "outputs": [
    {
     "name": "stdout",
     "output_type": "stream",
     "text": [
      "dict_keys(['63 year old', '2161-9-15', 'T1-', 'A-GRAM', '530', 'CAROTID/CEREBRAL', '2ND', '527', 'HEADACHES\\n ', '150', '310', '3:06 PM\\n ', '286', 'at least three', '15', 'Comparison\\n ', 'BRAIN', 'W & W/O CONTRAST', '103442', '104041', '8:41 AM', '2161-9-18', '14553', '4621', 'First', 'third', 'one', '2150-9-10', '2149-6-17', '81 year old', '14552', '1:07 PM\\n ', 'MRA BRAIN W/O CONTRAST                    Clip', '3', 'T2-', 'three', '1cm', 'Multiplanar', 'Optiray', 'Contiguous', 'Headaches', 'NON IONIC', 'CT 150CC NONIONIC CONTRAST', '7:27 PM\\n ', '2161-9-14', 'Fr', 'one day', '4', '19', 'the Endovascular Suite', 'DETAIL', 'CONSENT', '103440', 'GUID WIRES INFU/', '172', '1', '2152-10-2'])\n"
     ]
    },
    {
     "data": {
      "image/png": "[encoded data removed]",
      "text/plain": [
       "<Figure size 1152x1152 with 1 Axes>"
      ]
     },
     "metadata": {
      "needs_background": "light"
     },
     "output_type": "display_data"
    }
   ],
   "source": [
    "vocabs = model.wv.key_to_index.keys()\n",
    "print(vocabs)\n",
    "new_v = np.array(list(vocabs))\n",
    "tsne_plot(model,new_v)"
   ]
  },
  {
   "cell_type": "code",
   "execution_count": null,
   "id": "5177178e",
   "metadata": {},
   "outputs": [
    {
     "name": "stderr",
     "output_type": "stream",
     "text": [
      "C:\\Users\\Joslyn\\anaconda3\\envs\\scispacy_install\\lib\\site-packages\\spacy\\util.py:762: UserWarning: [W095] Model 'en_ner_bc5cdr_md' (0.4.0) was trained with spaCy v3.0 and may not be 100% compatible with the current version (3.1.7). If you see errors or degraded performance, download a newer compatible model or retrain your custom model with the current spaCy version. For more details and available updates, run: python -m spacy validate\n",
      "  warnings.warn(warn_msg)\n"
     ]
    }
   ],
   "source": [
    "nlp = spacy.load(\"en_ner_bc5cdr_md\") # now load sci spacy model"
   ]
  },
  {
   "cell_type": "code",
   "execution_count": null,
   "id": "975e2220",
   "metadata": {},
   "outputs": [
    {
     "data": {
      "text/html": [
       "<span class=\"tex2jax_ignore\"><div class=\"entities\" style=\"line-height: 2.5; direction: ltr\">[**2152-10-2**] 1:07 PM</br> CT HEAD W/O CONTRAST                                            Clip # [**Clip Number (Radiology) 14552**]</br> Reason: eval for bleed</br> ______________________________________________________________________________</br> [**Hospital 2**] MEDICAL CONDITION:</br>  81 year old woman with HA and weakness, \n",
       "<mark class=\"entity\" style=\"background: #ddd; padding: 0.45em 0.6em; margin: 0 0.25em; line-height: 1; border-radius: 0.35em;\">\n",
       "    confusion\n",
       "    <span style=\"font-size: 0.8em; font-weight: bold; line-height: 1; border-radius: 0.35em; vertical-align: middle; margin-left: 0.5rem\">DISEASE</span>\n",
       "</mark>\n",
       ".</br> REASON FOR THIS EXAMINATION:</br>  eval for bleed</br> CONTRAINDICATIONS for IV CONTRAST:</br>  \n",
       "<mark class=\"entity\" style=\"background: #ddd; padding: 0.45em 0.6em; margin: 0 0.25em; line-height: 1; border-radius: 0.35em;\">\n",
       "    renal insufficiency\n",
       " ______________________________________________________________________________\n",
       "                                 \n",
       "    <span style=\"font-size: 0.8em; font-weight: bold; line-height: 1; border-radius: 0.35em; vertical-align: middle; margin-left: 0.5rem\">DISEASE</span>\n",
       "</mark>\n",
       "FINAL REPORT</br> INDICATION:  \n",
       "<mark class=\"entity\" style=\"background: #ddd; padding: 0.45em 0.6em; margin: 0 0.25em; line-height: 1; border-radius: 0.35em;\">\n",
       "    Headache\n",
       "    <span style=\"font-size: 0.8em; font-weight: bold; line-height: 1; border-radius: 0.35em; vertical-align: middle; margin-left: 0.5rem\">DISEASE</span>\n",
       "</mark>\n",
       " and \n",
       "<mark class=\"entity\" style=\"background: #ddd; padding: 0.45em 0.6em; margin: 0 0.25em; line-height: 1; border-radius: 0.35em;\">\n",
       "    weakness\n",
       "    <span style=\"font-size: 0.8em; font-weight: bold; line-height: 1; border-radius: 0.35em; vertical-align: middle; margin-left: 0.5rem\">DISEASE</span>\n",
       "</mark>\n",
       " and \n",
       "<mark class=\"entity\" style=\"background: #ddd; padding: 0.45em 0.6em; margin: 0 0.25em; line-height: 1; border-radius: 0.35em;\">\n",
       "    confusion\n",
       "    <span style=\"font-size: 0.8em; font-weight: bold; line-height: 1; border-radius: 0.35em; vertical-align: middle; margin-left: 0.5rem\">DISEASE</span>\n",
       "</mark>\n",
       ".</br></br> COMPARISON:  Brain MRI [**2149-6-17**].  Head CT of [**2150-9-10**].</br></br> TECHNIQUE:  Non-contrast head CT.</br></br> FINDINGS:  New in the interval are at least three moderate-to-large sized mass</br> lesions, one within the right frontal lobe anteriorly, another within the</br> right posterofrontoparietal region, and a third within the left parietal</br> region.  There is a significant amount of \n",
       "<mark class=\"entity\" style=\"background: #ddd; padding: 0.45em 0.6em; margin: 0 0.25em; line-height: 1; border-radius: 0.35em;\">\n",
       "    edema\n",
       "    <span style=\"font-size: 0.8em; font-weight: bold; line-height: 1; border-radius: 0.35em; vertical-align: middle; margin-left: 0.5rem\">DISEASE</span>\n",
       "</mark>\n",
       " associated with these masses.</br> The right posterofrontal mass also contains a small amount of high-density</br> material peripherally, which may represent a small amount of \n",
       "<mark class=\"entity\" style=\"background: #ddd; padding: 0.45em 0.6em; margin: 0 0.25em; line-height: 1; border-radius: 0.35em;\">\n",
       "    hemorrhage\n",
       "    <span style=\"font-size: 0.8em; font-weight: bold; line-height: 1; border-radius: 0.35em; vertical-align: middle; margin-left: 0.5rem\">DISEASE</span>\n",
       "</mark>\n",
       " or</br> calcification.  There is no shift of the normally midline structures or</br> \n",
       "<mark class=\"entity\" style=\"background: #ddd; padding: 0.45em 0.6em; margin: 0 0.25em; line-height: 1; border-radius: 0.35em;\">\n",
       "    hydrocephalus\n",
       "    <span style=\"font-size: 0.8em; font-weight: bold; line-height: 1; border-radius: 0.35em; vertical-align: middle; margin-left: 0.5rem\">DISEASE</span>\n",
       "</mark>\n",
       ".  There is a soft-tissue density nodule within the subcutaneous</br> tissues posterior to the right occipital bone.  This does not appear to affect</br> the underlying bone.  There is no evidence of \n",
       "<mark class=\"entity\" style=\"background: #ddd; padding: 0.45em 0.6em; margin: 0 0.25em; line-height: 1; border-radius: 0.35em;\">\n",
       "    fracture\n",
       "    <span style=\"font-size: 0.8em; font-weight: bold; line-height: 1; border-radius: 0.35em; vertical-align: middle; margin-left: 0.5rem\">DISEASE</span>\n",
       "</mark>\n",
       " or \n",
       "<mark class=\"entity\" style=\"background: #ddd; padding: 0.45em 0.6em; margin: 0 0.25em; line-height: 1; border-radius: 0.35em;\">\n",
       "    bone destruction\n",
       "    <span style=\"font-size: 0.8em; font-weight: bold; line-height: 1; border-radius: 0.35em; vertical-align: middle; margin-left: 0.5rem\">DISEASE</span>\n",
       "</mark>\n",
       ".</br> The paranasal sinuses and the orbits are unremarkable.</br></br> IMPRESSION:  Interval development of at least three large mass lesions with a</br> moderate amount of surrounding \n",
       "<mark class=\"entity\" style=\"background: #ddd; padding: 0.45em 0.6em; margin: 0 0.25em; line-height: 1; border-radius: 0.35em;\">\n",
       "    edema\n",
       "    <span style=\"font-size: 0.8em; font-weight: bold; line-height: 1; border-radius: 0.35em; vertical-align: middle; margin-left: 0.5rem\">DISEASE</span>\n",
       "</mark>\n",
       ".  Case discussed with Dr. [**First \n",
       "<mark class=\"entity\" style=\"background: #ddd; padding: 0.45em 0.6em; margin: 0 0.25em; line-height: 1; border-radius: 0.35em;\">\n",
       "    Name8\n",
       "    <span style=\"font-size: 0.8em; font-weight: bold; line-height: 1; border-radius: 0.35em; vertical-align: middle; margin-left: 0.5rem\">CHEMICAL</span>\n",
       "</mark>\n",
       " (NamePattern2) 4621**] [**Last Name (\n",
       "<mark class=\"entity\" style=\"background: #ddd; padding: 0.45em 0.6em; margin: 0 0.25em; line-height: 1; border-radius: 0.35em;\">\n",
       "    NamePattern1\n",
       "    <span style=\"font-size: 0.8em; font-weight: bold; line-height: 1; border-radius: 0.35em; vertical-align: middle; margin-left: 0.5rem\">CHEMICAL</span>\n",
       "</mark>\n",
       ") 14553**]</br> of the Emergency Department.  Given the patient's pacemaker and elevated</br> \n",
       "<mark class=\"entity\" style=\"background: #ddd; padding: 0.45em 0.6em; margin: 0 0.25em; line-height: 1; border-radius: 0.35em;\">\n",
       "    creatinine\n",
       "    <span style=\"font-size: 0.8em; font-weight: bold; line-height: 1; border-radius: 0.35em; vertical-align: middle; margin-left: 0.5rem\">CHEMICAL</span>\n",
       "</mark>\n",
       ", no further brain imaging will be undertaken at this time.</br> Apparently, the patient has a history of \n",
       "<mark class=\"entity\" style=\"background: #ddd; padding: 0.45em 0.6em; margin: 0 0.25em; line-height: 1; border-radius: 0.35em;\">\n",
       "    melanoma\n",
       "    <span style=\"font-size: 0.8em; font-weight: bold; line-height: 1; border-radius: 0.35em; vertical-align: middle; margin-left: 0.5rem\">DISEASE</span>\n",
       "</mark>\n",
       ", and these lesions are</br> likely metastases with \n",
       "<mark class=\"entity\" style=\"background: #ddd; padding: 0.45em 0.6em; margin: 0 0.25em; line-height: 1; border-radius: 0.35em;\">\n",
       "    vasogenic edema\n",
       "    <span style=\"font-size: 0.8em; font-weight: bold; line-height: 1; border-radius: 0.35em; vertical-align: middle; margin-left: 0.5rem\">DISEASE</span>\n",
       "</mark>\n",
       ".</br></br></div></span>"
      ],
      "text/plain": [
       "<IPython.core.display.HTML object>"
      ]
     },
     "metadata": {},
     "output_type": "display_data"
    },
    {
     "name": "stdout",
     "output_type": "stream",
     "text": [
      "None\n"
     ]
    },
    {
     "data": {
      "text/html": [
       "<span class=\"tex2jax_ignore\"><div class=\"entities\" style=\"line-height: 2.5; direction: ltr\">[**2161-9-18**] 8:41 AM</br> MR HEAD W &amp; W/O CONTRAST; MR CONTRAST GADOLIN                   Clip # [**Clip Number (Radiology) 103442**]</br> MRA BRAIN W/O CONTRAST</br> Reason: please assess for \n",
       "<mark class=\"entity\" style=\"background: #ddd; padding: 0.45em 0.6em; margin: 0 0.25em; line-height: 1; border-radius: 0.35em;\">\n",
       "    vascular abnormality\n",
       "    <span style=\"font-size: 0.8em; font-weight: bold; line-height: 1; border-radius: 0.35em; vertical-align: middle; margin-left: 0.5rem\">DISEASE</span>\n",
       "</mark>\n",
       "</br> Admitting Diagnosis: HEADACHE</br>  Contrast: MAGNEVIST Amt: 15</br> ______________________________________________________________________________</br> [**Hospital 3**] MEDICAL CONDITION:</br>  63 year old man with bloody lp and \n",
       "<mark class=\"entity\" style=\"background: #ddd; padding: 0.45em 0.6em; margin: 0 0.25em; line-height: 1; border-radius: 0.35em;\">\n",
       "    meningitis\n",
       "    <span style=\"font-size: 0.8em; font-weight: bold; line-height: 1; border-radius: 0.35em; vertical-align: middle; margin-left: 0.5rem\">DISEASE</span>\n",
       "</mark>\n",
       "</br> REASON FOR THIS EXAMINATION:</br>  please assess for \n",
       "<mark class=\"entity\" style=\"background: #ddd; padding: 0.45em 0.6em; margin: 0 0.25em; line-height: 1; border-radius: 0.35em;\">\n",
       "    vascular abnormality\n",
       " ______________________________________________________________________________\n",
       "                                 \n",
       "    <span style=\"font-size: 0.8em; font-weight: bold; line-height: 1; border-radius: 0.35em; vertical-align: middle; margin-left: 0.5rem\">DISEASE</span>\n",
       "</mark>\n",
       "FINAL REPORT</br> MRI AND MRA OF THE BRAIN.</br></br> INDICATION:  63 year old man with bloody lumbar puncture and \n",
       "<mark class=\"entity\" style=\"background: #ddd; padding: 0.45em 0.6em; margin: 0 0.25em; line-height: 1; border-radius: 0.35em;\">\n",
       "    meningitis\n",
       "    <span style=\"font-size: 0.8em; font-weight: bold; line-height: 1; border-radius: 0.35em; vertical-align: middle; margin-left: 0.5rem\">DISEASE</span>\n",
       "</mark>\n",
       ".</br></br> TECHNIQUE:  Multiplanar T1- and T2-weighted images of the brain.  Comparison</br> was made to prior study dated [**2161-9-15**].</br></br> FINDINGS:  There are a few foci of \n",
       "<mark class=\"entity\" style=\"background: #ddd; padding: 0.45em 0.6em; margin: 0 0.25em; line-height: 1; border-radius: 0.35em;\">\n",
       "    T2 hyperintensity\n",
       "    <span style=\"font-size: 0.8em; font-weight: bold; line-height: 1; border-radius: 0.35em; vertical-align: middle; margin-left: 0.5rem\">DISEASE</span>\n",
       "</mark>\n",
       " within the</br> periventricular white matter of cerebral hemispheres consistent with mild</br> chronic \n",
       "<mark class=\"entity\" style=\"background: #ddd; padding: 0.45em 0.6em; margin: 0 0.25em; line-height: 1; border-radius: 0.35em;\">\n",
       "    small vessel infarcts\n",
       "    <span style=\"font-size: 0.8em; font-weight: bold; line-height: 1; border-radius: 0.35em; vertical-align: middle; margin-left: 0.5rem\">DISEASE</span>\n",
       "</mark>\n",
       ", unchanged.  The [**Doctor Last Name **]-white matter</br> differentiation is well maintained.  There is no mass effect, shift of normal</br> midline structures or \n",
       "<mark class=\"entity\" style=\"background: #ddd; padding: 0.45em 0.6em; margin: 0 0.25em; line-height: 1; border-radius: 0.35em;\">\n",
       "    hydrocephalus\n",
       "    <span style=\"font-size: 0.8em; font-weight: bold; line-height: 1; border-radius: 0.35em; vertical-align: middle; margin-left: 0.5rem\">DISEASE</span>\n",
       "</mark>\n",
       ".  No \n",
       "<mark class=\"entity\" style=\"background: #ddd; padding: 0.45em 0.6em; margin: 0 0.25em; line-height: 1; border-radius: 0.35em;\">\n",
       "    intracranial hemorrhage\n",
       "    <span style=\"font-size: 0.8em; font-weight: bold; line-height: 1; border-radius: 0.35em; vertical-align: middle; margin-left: 0.5rem\">DISEASE</span>\n",
       "</mark>\n",
       " is</br> visualized.  There is no significant change since the prior study.</br></br> IMPRESSION:  Mild small \n",
       "<mark class=\"entity\" style=\"background: #ddd; padding: 0.45em 0.6em; margin: 0 0.25em; line-height: 1; border-radius: 0.35em;\">\n",
       "    vessel ischemic infarcts\n",
       "    <span style=\"font-size: 0.8em; font-weight: bold; line-height: 1; border-radius: 0.35em; vertical-align: middle; margin-left: 0.5rem\">DISEASE</span>\n",
       "</mark>\n",
       " of chronic nature.</br></br> HEAD MRA.</br></br> TECHNIQUE:  3D time-of-flight imaging of the anterior and posterior cerebral</br> circulations were obtained.  There are no prior studies for comparison.</br></br> FINDINGS:  No posterior communicating artery  on the left side is present.  A</br> fetal posterior cerebral artery on the right side is visualized.  There is no</br> hemodynamically- significant \n",
       "<mark class=\"entity\" style=\"background: #ddd; padding: 0.45em 0.6em; margin: 0 0.25em; line-height: 1; border-radius: 0.35em;\">\n",
       "    stenosis\n",
       "    <span style=\"font-size: 0.8em; font-weight: bold; line-height: 1; border-radius: 0.35em; vertical-align: middle; margin-left: 0.5rem\">DISEASE</span>\n",
       "</mark>\n",
       " or \n",
       "<mark class=\"entity\" style=\"background: #ddd; padding: 0.45em 0.6em; margin: 0 0.25em; line-height: 1; border-radius: 0.35em;\">\n",
       "    aneurysmal dilatation\n",
       "    <span style=\"font-size: 0.8em; font-weight: bold; line-height: 1; border-radius: 0.35em; vertical-align: middle; margin-left: 0.5rem\">DISEASE</span>\n",
       "</mark>\n",
       " of the</br> visualized vasculature.</br></br> IMPRESSION:</br></br> Fetal posterior cerebral artery on the right. Absence of posterior</br> communicating artery on the left.  Otherwise, unremarkable study.</br></br></br></div></span>"
      ],
      "text/plain": [
       "<IPython.core.display.HTML object>"
      ]
     },
     "metadata": {},
     "output_type": "display_data"
    },
    {
     "name": "stdout",
     "output_type": "stream",
     "text": [
      "None\n"
     ]
    },
    {
     "data": {
      "text/html": [
       "<span class=\"tex2jax_ignore\"><div class=\"entities\" style=\"line-height: 2.5; direction: ltr\">[**2161-9-15**] 4:33 AM</br> MR HEAD W/O CONTRAST; MRA BRAIN W/O CONTRAST                    Clip # [**Clip Number (Radiology) 104041**]</br> Reason: MRI with and without contrast and MRA brain.</br> Admitting Diagnosis: HEADACHE</br> ______________________________________________________________________________</br> [**Hospital 3**] MEDICAL CONDITION:</br>  63 year old man with possible \n",
       "<mark class=\"entity\" style=\"background: #ddd; padding: 0.45em 0.6em; margin: 0 0.25em; line-height: 1; border-radius: 0.35em;\">\n",
       "    SAH\n",
       "    <span style=\"font-size: 0.8em; font-weight: bold; line-height: 1; border-radius: 0.35em; vertical-align: middle; margin-left: 0.5rem\">DISEASE</span>\n",
       "</mark>\n",
       " please evaluate</br> REASON FOR THIS EXAMINATION:</br>  MRI with and without contrast and MRA brain.</br> ______________________________________________________________________________</br>                                 FINAL REPORT  (REVISED)</br> INDICATION: Possible \n",
       "<mark class=\"entity\" style=\"background: #ddd; padding: 0.45em 0.6em; margin: 0 0.25em; line-height: 1; border-radius: 0.35em;\">\n",
       "    subarachnoid hemorrhage\n",
       "    <span style=\"font-size: 0.8em; font-weight: bold; line-height: 1; border-radius: 0.35em; vertical-align: middle; margin-left: 0.5rem\">DISEASE</span>\n",
       "</mark>\n",
       ", evaluate for \n",
       "<mark class=\"entity\" style=\"background: #ddd; padding: 0.45em 0.6em; margin: 0 0.25em; line-height: 1; border-radius: 0.35em;\">\n",
       "    aneurysm\n",
       "    <span style=\"font-size: 0.8em; font-weight: bold; line-height: 1; border-radius: 0.35em; vertical-align: middle; margin-left: 0.5rem\">DISEASE</span>\n",
       "</mark>\n",
       ".</br></br> TECHNIQUE: Multiplanar T1-, T2-, and diffusion-weighted images were obtained</br> through the brain. 3D time of flight MR angiography was performed through the</br> region of the circle of [**Location (un) 286**], and multiplanar reformations were performed.</br></br> MR BRAIN WITHOUT CONTRAST: No significant abnormalities are idenitified. There</br> is no mass effect, shift of normally midline structures, or \n",
       "<mark class=\"entity\" style=\"background: #ddd; padding: 0.45em 0.6em; margin: 0 0.25em; line-height: 1; border-radius: 0.35em;\">\n",
       "    hydrocephalus\n",
       "    <span style=\"font-size: 0.8em; font-weight: bold; line-height: 1; border-radius: 0.35em; vertical-align: middle; margin-left: 0.5rem\">DISEASE</span>\n",
       "</mark>\n",
       ". No</br> abnormalities are identified on the diffusion-weighted images.</br></br> CIRCLE OF [**Location (un) **] MRA: The major vascular structures are unremarkable. The</br> right vertebral artery is dominant. There is no evidence for \n",
       "<mark class=\"entity\" style=\"background: #ddd; padding: 0.45em 0.6em; margin: 0 0.25em; line-height: 1; border-radius: 0.35em;\">\n",
       "    aneurysm\n",
       "    <span style=\"font-size: 0.8em; font-weight: bold; line-height: 1; border-radius: 0.35em; vertical-align: middle; margin-left: 0.5rem\">DISEASE</span>\n",
       "</mark>\n",
       ",</br> dissection, or other abnormality. Please see the report of the CT angiogram</br> performed one day prior.</br></br> IMPRESSION: Unremarkable appearance of the vessels comprising the circle of</br> [**Location (un) 286**].</br></br></div></span>"
      ],
      "text/plain": [
       "<IPython.core.display.HTML object>"
      ]
     },
     "metadata": {},
     "output_type": "display_data"
    },
    {
     "name": "stdout",
     "output_type": "stream",
     "text": [
      "None\n"
     ]
    },
    {
     "data": {
      "text/html": [
       "<span class=\"tex2jax_ignore\"><div class=\"entities\" style=\"line-height: 2.5; direction: ltr\">[**2161-9-15**] 3:06 PM</br> CAROT/CEREB [**Hospital1 **]                                                  Clip # [**0-0-**]</br> Reason: HEADACHES</br> Admitting Diagnosis: HEADACHE</br>  Contrast: OPTIRAY Amt: 310</br> ********************************* CPT Codes ********************************</br> * [**Numeric Identifier 171**] SEL CATH 3RD ORDER [**Last Name (un) 172**]         [**Numeric Identifier 527**] SEL CATH 2ND ORDER               *</br> * -59 DISTINCT PROCEDURAL SERVICE       [**Numeric Identifier 527**] SEL CATH 2ND ORDER               *</br> * -59 DISTINCT PROCEDURAL SERVICE       [**Numeric Identifier 3308**] ADD'L 2ND/3RD ORDER              *</br> * [**Numeric Identifier 3308**] ADD'L 2ND/3RD ORDER             [**Numeric Identifier 3308**] ADD'L 2ND/3RD ORDER              *</br> * [**Numeric Identifier 529**] \n",
       "<mark class=\"entity\" style=\"background: #ddd; padding: 0.45em 0.6em; margin: 0 0.25em; line-height: 1; border-radius: 0.35em;\">\n",
       "    CAROTID/CEREBRAL\n",
       "    <span style=\"font-size: 0.8em; font-weight: bold; line-height: 1; border-radius: 0.35em; vertical-align: middle; margin-left: 0.5rem\">CHEMICAL</span>\n",
       "</mark>\n",
       " BILAT          [**Numeric Identifier 528**] \n",
       "<mark class=\"entity\" style=\"background: #ddd; padding: 0.45em 0.6em; margin: 0 0.25em; line-height: 1; border-radius: 0.35em;\">\n",
       "    CAROTID/CEREBRAL\n",
       "    <span style=\"font-size: 0.8em; font-weight: bold; line-height: 1; border-radius: 0.35em; vertical-align: middle; margin-left: 0.5rem\">CHEMICAL</span>\n",
       "</mark>\n",
       " BILAT           *</br> * [**Numeric Identifier 3309**] EXT CAROTID BILAT               [**Numeric Identifier 530**] \n",
       "<mark class=\"entity\" style=\"background: #ddd; padding: 0.45em 0.6em; margin: 0 0.25em; line-height: 1; border-radius: 0.35em;\">\n",
       "    VERT/CAROTID\n",
       "    <span style=\"font-size: 0.8em; font-weight: bold; line-height: 1; border-radius: 0.35em; vertical-align: middle; margin-left: 0.5rem\">CHEMICAL</span>\n",
       "</mark>\n",
       " A-GRAM              *</br> * [**Numeric Identifier 530**] \n",
       "<mark class=\"entity\" style=\"background: #ddd; padding: 0.45em 0.6em; margin: 0 0.25em; line-height: 1; border-radius: 0.35em;\">\n",
       "    VERT/CAROTID\n",
       "    <span style=\"font-size: 0.8em; font-weight: bold; line-height: 1; border-radius: 0.35em; vertical-align: middle; margin-left: 0.5rem\">CHEMICAL</span>\n",
       "</mark>\n",
       " A-GRAM             -59 DISTINCT PROCEDURAL SERVICE        *</br> * [**Numeric Identifier 3638**] EXT BILAT A-GRAM                -52 REDUCED SERVICES                   *</br> * C1760 CLOSURE DEVICE VASC IMP/INS     C1769 GUID WIRES INFU/PERF             *</br> ****************************************************************************</br> ______________________________________________________________________________</br>                                 FINAL REPORT</br> PREOPERATIVE DIAGNOSIS: Subarchnoid \n",
       "<mark class=\"entity\" style=\"background: #ddd; padding: 0.45em 0.6em; margin: 0 0.25em; line-height: 1; border-radius: 0.35em;\">\n",
       "    hemorrhage\n",
       "    <span style=\"font-size: 0.8em; font-weight: bold; line-height: 1; border-radius: 0.35em; vertical-align: middle; margin-left: 0.5rem\">DISEASE</span>\n",
       "</mark>\n",
       ", rule out \n",
       "<mark class=\"entity\" style=\"background: #ddd; padding: 0.45em 0.6em; margin: 0 0.25em; line-height: 1; border-radius: 0.35em;\">\n",
       "    intracranial\n",
       " aneurysm\n",
       "    <span style=\"font-size: 0.8em; font-weight: bold; line-height: 1; border-radius: 0.35em; vertical-align: middle; margin-left: 0.5rem\">DISEASE</span>\n",
       "</mark>\n",
       ".</br></br> POSTOPERATIVE DIAGNOSIS: No evidence of \n",
       "<mark class=\"entity\" style=\"background: #ddd; padding: 0.45em 0.6em; margin: 0 0.25em; line-height: 1; border-radius: 0.35em;\">\n",
       "    intracranial aneurysm\n",
       "    <span style=\"font-size: 0.8em; font-weight: bold; line-height: 1; border-radius: 0.35em; vertical-align: middle; margin-left: 0.5rem\">DISEASE</span>\n",
       "</mark>\n",
       ".</br></br> ANESTHESIA: Conscious sedation with local infiltration of the right groin.</br></br> INDICATION: Mr. [**Known lastname 103440**] is a patient who had been having \n",
       "<mark class=\"entity\" style=\"background: #ddd; padding: 0.45em 0.6em; margin: 0 0.25em; line-height: 1; border-radius: 0.35em;\">\n",
       "    headaches\n",
       "    <span style=\"font-size: 0.8em; font-weight: bold; line-height: 1; border-radius: 0.35em; vertical-align: middle; margin-left: 0.5rem\">DISEASE</span>\n",
       "</mark>\n",
       " and</br> question of \n",
       "<mark class=\"entity\" style=\"background: #ddd; padding: 0.45em 0.6em; margin: 0 0.25em; line-height: 1; border-radius: 0.35em;\">\n",
       "    subarachnoid hemorrhage\n",
       "    <span style=\"font-size: 0.8em; font-weight: bold; line-height: 1; border-radius: 0.35em; vertical-align: middle; margin-left: 0.5rem\">DISEASE</span>\n",
       "</mark>\n",
       ". He is undergoing this cerebral angiogram</br> to rule out the presence of \n",
       "<mark class=\"entity\" style=\"background: #ddd; padding: 0.45em 0.6em; margin: 0 0.25em; line-height: 1; border-radius: 0.35em;\">\n",
       "    intracranial aneurysm\n",
       "    <span style=\"font-size: 0.8em; font-weight: bold; line-height: 1; border-radius: 0.35em; vertical-align: middle; margin-left: 0.5rem\">DISEASE</span>\n",
       "</mark>\n",
       " or other vascular</br> malformation.</br></br> CONSENT: The patient and his family were given a full and complete explanation</br> of the procedure. Specifically, the indications, risks, benefits, and</br> alternatives to the procedure were explained in detail. In addition, the</br> possible complications, such as the risk of \n",
       "<mark class=\"entity\" style=\"background: #ddd; padding: 0.45em 0.6em; margin: 0 0.25em; line-height: 1; border-radius: 0.35em;\">\n",
       "    bleeding\n",
       "    <span style=\"font-size: 0.8em; font-weight: bold; line-height: 1; border-radius: 0.35em; vertical-align: middle; margin-left: 0.5rem\">DISEASE</span>\n",
       "</mark>\n",
       ", \n",
       "<mark class=\"entity\" style=\"background: #ddd; padding: 0.45em 0.6em; margin: 0 0.25em; line-height: 1; border-radius: 0.35em;\">\n",
       "    infection\n",
       "    <span style=\"font-size: 0.8em; font-weight: bold; line-height: 1; border-radius: 0.35em; vertical-align: middle; margin-left: 0.5rem\">DISEASE</span>\n",
       "</mark>\n",
       ", \n",
       "<mark class=\"entity\" style=\"background: #ddd; padding: 0.45em 0.6em; margin: 0 0.25em; line-height: 1; border-radius: 0.35em;\">\n",
       "    stroke\n",
       "    <span style=\"font-size: 0.8em; font-weight: bold; line-height: 1; border-radius: 0.35em; vertical-align: middle; margin-left: 0.5rem\">DISEASE</span>\n",
       "</mark>\n",
       ",</br> \n",
       "<mark class=\"entity\" style=\"background: #ddd; padding: 0.45em 0.6em; margin: 0 0.25em; line-height: 1; border-radius: 0.35em;\">\n",
       "    neurological deficit\n",
       "    <span style=\"font-size: 0.8em; font-weight: bold; line-height: 1; border-radius: 0.35em; vertical-align: middle; margin-left: 0.5rem\">DISEASE</span>\n",
       "</mark>\n",
       " or deterioration, \n",
       "<mark class=\"entity\" style=\"background: #ddd; padding: 0.45em 0.6em; margin: 0 0.25em; line-height: 1; border-radius: 0.35em;\">\n",
       "    groin hematoma\n",
       "    <span style=\"font-size: 0.8em; font-weight: bold; line-height: 1; border-radius: 0.35em; vertical-align: middle; margin-left: 0.5rem\">DISEASE</span>\n",
       "</mark>\n",
       ", and other unforeseen</br> complications, including the risk of \n",
       "<mark class=\"entity\" style=\"background: #ddd; padding: 0.45em 0.6em; margin: 0 0.25em; line-height: 1; border-radius: 0.35em;\">\n",
       "    coma\n",
       "    <span style=\"font-size: 0.8em; font-weight: bold; line-height: 1; border-radius: 0.35em; vertical-align: middle; margin-left: 0.5rem\">DISEASE</span>\n",
       "</mark>\n",
       " and even \n",
       "<mark class=\"entity\" style=\"background: #ddd; padding: 0.45em 0.6em; margin: 0 0.25em; line-height: 1; border-radius: 0.35em;\">\n",
       "    death\n",
       "    <span style=\"font-size: 0.8em; font-weight: bold; line-height: 1; border-radius: 0.35em; vertical-align: middle; margin-left: 0.5rem\">DISEASE</span>\n",
       "</mark>\n",
       ", were outlined. The</br> patient and his family understood and wished to proceed with the operation.</br></br> PROCEDURE IN DETAIL: The patient was brought into the Endovascular Suite and</br> placed on the table in supine position. The right groin area was prepped and</br> draped in the usual sterile fashion. A 19-gauge single-wall needle was then</br> used to puncture the right common femoral artery, and upon the return of brisk</br> arterial blood, a 4 Fr vascular sheath was inserted over a guidewire and kept</br> on a heparinized saline drip. Next, a diagnostic catheter was used to</br> selectively catheterize the following vessels: right common carotid artery,</br> right internal carotid artery, right external carotid artery, right subclavian</br> artery, right vertebral artery, left common carotid artery, left internal</br> carotid artery, left external artery, left subclavian artery, left vertebral</br> artery.</br></br> RESULTS: Injection of both common carotid arteries revealed normal anatomy</br> with no evidence of \n",
       "<mark class=\"entity\" style=\"background: #ddd; padding: 0.45em 0.6em; margin: 0 0.25em; line-height: 1; border-radius: 0.35em;\">\n",
       "    intracranial or extracranial atherosclerotic disease\n",
       "    <span style=\"font-size: 0.8em; font-weight: bold; line-height: 1; border-radius: 0.35em; vertical-align: middle; margin-left: 0.5rem\">DISEASE</span>\n",
       "</mark>\n",
       ". The</br> bilateral internal carotid arteries with three-dimensional rotational</br>                                                             (Over)</br></br> [**2161-9-15**] 3:06 PM</br> CAROT/CEREB [**Hospital1 **]                                                  Clip # [**0-0-**]</br> Reason: HEADACHES</br> Admitting Diagnosis: HEADACHE</br>  Contrast: OPTIRAY Amt: 310</br> ______________________________________________________________________________</br>                                 FINAL REPORT</br> (Cont)</br> angiography revealed no evidence of \n",
       "<mark class=\"entity\" style=\"background: #ddd; padding: 0.45em 0.6em; margin: 0 0.25em; line-height: 1; border-radius: 0.35em;\">\n",
       "    intracranial aneurysm\n",
       "    <span style=\"font-size: 0.8em; font-weight: bold; line-height: 1; border-radius: 0.35em; vertical-align: middle; margin-left: 0.5rem\">DISEASE</span>\n",
       "</mark>\n",
       " or other vascular</br> malformation. The bilateral external carotid arteries revealed no evidence of</br> abnormal arteriovenous shunting or unusual anatomy. Injection of both</br> subclavian arteries showed no evidence of \n",
       "<mark class=\"entity\" style=\"background: #ddd; padding: 0.45em 0.6em; margin: 0 0.25em; line-height: 1; border-radius: 0.35em;\">\n",
       "    atherosclerotic disease\n",
       "    <span style=\"font-size: 0.8em; font-weight: bold; line-height: 1; border-radius: 0.35em; vertical-align: middle; margin-left: 0.5rem\">DISEASE</span>\n",
       "</mark>\n",
       " or \n",
       "<mark class=\"entity\" style=\"background: #ddd; padding: 0.45em 0.6em; margin: 0 0.25em; line-height: 1; border-radius: 0.35em;\">\n",
       "    stenosis\n",
       "    <span style=\"font-size: 0.8em; font-weight: bold; line-height: 1; border-radius: 0.35em; vertical-align: middle; margin-left: 0.5rem\">DISEASE</span>\n",
       "</mark>\n",
       ".</br> Injection of the right subclavian artery showed a normal origin of the right</br> vertebral artery which was dominant. The right vertebral artery course in the</br> cervical segment intracranially is normal with no \n",
       "<mark class=\"entity\" style=\"background: #ddd; padding: 0.45em 0.6em; margin: 0 0.25em; line-height: 1; border-radius: 0.35em;\">\n",
       "    atherosclerosis\n",
       "    <span style=\"font-size: 0.8em; font-weight: bold; line-height: 1; border-radius: 0.35em; vertical-align: middle; margin-left: 0.5rem\">DISEASE</span>\n",
       "</mark>\n",
       " or \n",
       "<mark class=\"entity\" style=\"background: #ddd; padding: 0.45em 0.6em; margin: 0 0.25em; line-height: 1; border-radius: 0.35em;\">\n",
       "    stenosis\n",
       "    <span style=\"font-size: 0.8em; font-weight: bold; line-height: 1; border-radius: 0.35em; vertical-align: middle; margin-left: 0.5rem\">DISEASE</span>\n",
       "</mark>\n",
       ".</br> The left vertebral artery is diminutive, and the vertebrobasilar junction is</br> within normal limits. The origin of the left vertebral artery is within normal</br> limits and the vessel itself is approximately 1.5 mm and is very small in</br> caliber. Intracranially the posterior circulation is normal with no evidence</br> of \n",
       "<mark class=\"entity\" style=\"background: #ddd; padding: 0.45em 0.6em; margin: 0 0.25em; line-height: 1; border-radius: 0.35em;\">\n",
       "    aneurysm\n",
       "    <span style=\"font-size: 0.8em; font-weight: bold; line-height: 1; border-radius: 0.35em; vertical-align: middle; margin-left: 0.5rem\">DISEASE</span>\n",
       "</mark>\n",
       " or other vascular lesion.</br></br> IMPRESSION: No evidence of \n",
       "<mark class=\"entity\" style=\"background: #ddd; padding: 0.45em 0.6em; margin: 0 0.25em; line-height: 1; border-radius: 0.35em;\">\n",
       "    intracranial aneurysm\n",
       "    <span style=\"font-size: 0.8em; font-weight: bold; line-height: 1; border-radius: 0.35em; vertical-align: middle; margin-left: 0.5rem\">DISEASE</span>\n",
       "</mark>\n",
       " or other vascular</br> malformation to account for the patient's presentation.</br></br></br></br></br></br></br></br></br></br></br></br></br></br></br></br></div></span>"
      ],
      "text/plain": [
       "<IPython.core.display.HTML object>"
      ]
     },
     "metadata": {},
     "output_type": "display_data"
    },
    {
     "name": "stdout",
     "output_type": "stream",
     "text": [
      "None\n"
     ]
    },
    {
     "data": {
      "text/html": [
       "<span class=\"tex2jax_ignore\"><div class=\"entities\" style=\"line-height: 2.5; direction: ltr\">[**2161-9-14**] 7:27 PM</br> CTA HEAD W&amp;W/O C &amp; RECONS; CT 150CC NONIONIC CONTRAST           Clip # [**Clip Number (Radiology) 104040**]</br> Reason: \n",
       "<mark class=\"entity\" style=\"background: #ddd; padding: 0.45em 0.6em; margin: 0 0.25em; line-height: 1; border-radius: 0.35em;\">\n",
       "    r/o bleed\n",
       "    <span style=\"font-size: 0.8em; font-weight: bold; line-height: 1; border-radius: 0.35em; vertical-align: middle; margin-left: 0.5rem\">DISEASE</span>\n",
       "</mark>\n",
       ", \n",
       "<mark class=\"entity\" style=\"background: #ddd; padding: 0.45em 0.6em; margin: 0 0.25em; line-height: 1; border-radius: 0.35em;\">\n",
       "    aneurysm\n",
       "    <span style=\"font-size: 0.8em; font-weight: bold; line-height: 1; border-radius: 0.35em; vertical-align: middle; margin-left: 0.5rem\">DISEASE</span>\n",
       "</mark>\n",
       "</br>  Contrast: NON IONIC Amt: 150</br> ______________________________________________________________________________</br> [**Hospital 3**] MEDICAL CONDITION:</br>  63 year old man with \n",
       "<mark class=\"entity\" style=\"background: #ddd; padding: 0.45em 0.6em; margin: 0 0.25em; line-height: 1; border-radius: 0.35em;\">\n",
       "    HA, neck pain\n",
       "    <span style=\"font-size: 0.8em; font-weight: bold; line-height: 1; border-radius: 0.35em; vertical-align: middle; margin-left: 0.5rem\">CHEMICAL</span>\n",
       "</mark>\n",
       ", n/v w/LP suggestive of possible subarach.</br> REASON FOR THIS EXAMINATION:</br>  r/o bleed, \n",
       "<mark class=\"entity\" style=\"background: #ddd; padding: 0.45em 0.6em; margin: 0 0.25em; line-height: 1; border-radius: 0.35em;\">\n",
       "    aneurysm\n",
       "    <span style=\"font-size: 0.8em; font-weight: bold; line-height: 1; border-radius: 0.35em; vertical-align: middle; margin-left: 0.5rem\">DISEASE</span>\n",
       "</mark>\n",
       "</br> No contraindications for IV contrast</br> ______________________________________________________________________________</br>                                 FINAL REPORT  (REVISED)</br> INDICATION:  \n",
       "<mark class=\"entity\" style=\"background: #ddd; padding: 0.45em 0.6em; margin: 0 0.25em; line-height: 1; border-radius: 0.35em;\">\n",
       "    Headaches\n",
       "    <span style=\"font-size: 0.8em; font-weight: bold; line-height: 1; border-radius: 0.35em; vertical-align: middle; margin-left: 0.5rem\">DISEASE</span>\n",
       "</mark>\n",
       ", \n",
       "<mark class=\"entity\" style=\"background: #ddd; padding: 0.45em 0.6em; margin: 0 0.25em; line-height: 1; border-radius: 0.35em;\">\n",
       "    neck pain\n",
       "    <span style=\"font-size: 0.8em; font-weight: bold; line-height: 1; border-radius: 0.35em; vertical-align: middle; margin-left: 0.5rem\">DISEASE</span>\n",
       "</mark>\n",
       ", with lumbar puncture suggestive of possible</br> \n",
       "<mark class=\"entity\" style=\"background: #ddd; padding: 0.45em 0.6em; margin: 0 0.25em; line-height: 1; border-radius: 0.35em;\">\n",
       "    subarachnoid hemorrhage\n",
       "    <span style=\"font-size: 0.8em; font-weight: bold; line-height: 1; border-radius: 0.35em; vertical-align: middle; margin-left: 0.5rem\">DISEASE</span>\n",
       "</mark>\n",
       ".  Rule out \n",
       "<mark class=\"entity\" style=\"background: #ddd; padding: 0.45em 0.6em; margin: 0 0.25em; line-height: 1; border-radius: 0.35em;\">\n",
       "    hemorrhage\n",
       "    <span style=\"font-size: 0.8em; font-weight: bold; line-height: 1; border-radius: 0.35em; vertical-align: middle; margin-left: 0.5rem\">DISEASE</span>\n",
       "</mark>\n",
       " or \n",
       "<mark class=\"entity\" style=\"background: #ddd; padding: 0.45em 0.6em; margin: 0 0.25em; line-height: 1; border-radius: 0.35em;\">\n",
       "    aneurysm\n",
       "    <span style=\"font-size: 0.8em; font-weight: bold; line-height: 1; border-radius: 0.35em; vertical-align: middle; margin-left: 0.5rem\">DISEASE</span>\n",
       "</mark>\n",
       ".</br></br> TECHNIQUE:  Contiguous axial images were obtained from the skull base to the</br> cranial vertex without intravenous contrast. A CT angiogram was then performed</br> using 150 cc Optiray.  Multiplanar reformations were performed.</br></br> FINDINGS:  There is no intra or \n",
       "<mark class=\"entity\" style=\"background: #ddd; padding: 0.45em 0.6em; margin: 0 0.25em; line-height: 1; border-radius: 0.35em;\">\n",
       "    extra-axial hemorrhage\n",
       "    <span style=\"font-size: 0.8em; font-weight: bold; line-height: 1; border-radius: 0.35em; vertical-align: middle; margin-left: 0.5rem\">DISEASE</span>\n",
       "</mark>\n",
       ". There is no mass</br> effect or shift of normally mid-line structures.  The [**Doctor Last Name **]-white matter</br> differentiation is preserved.  The ventricles, sulci, and cisterns are</br> unremarkable, without effacement.  The visualized osseous structures and</br> paranasal sinuses are unremarkable.</br></br> CIRCLE OF [**Location (un) **] CTA:  There is no evidence for \n",
       "<mark class=\"entity\" style=\"background: #ddd; padding: 0.45em 0.6em; margin: 0 0.25em; line-height: 1; border-radius: 0.35em;\">\n",
       "    aneurysm\n",
       "    <span style=\"font-size: 0.8em; font-weight: bold; line-height: 1; border-radius: 0.35em; vertical-align: middle; margin-left: 0.5rem\">DISEASE</span>\n",
       "</mark>\n",
       " or dissection.  There</br> is a somewhat asymmetric appearance of the pterygoid plexuses venous</br> bilaterally, with a more prominent appearance of the plexus on the right.</br> There is also an approximately 1cm contiguous collection of racemose,</br> vascular- appearing structures within the right parapharyngeal fat.  This</br> finding may represent an \n",
       "<mark class=\"entity\" style=\"background: #ddd; padding: 0.45em 0.6em; margin: 0 0.25em; line-height: 1; border-radius: 0.35em;\">\n",
       "    arteriovenous malformation\n",
       "    <span style=\"font-size: 0.8em; font-weight: bold; line-height: 1; border-radius: 0.35em; vertical-align: middle; margin-left: 0.5rem\">DISEASE</span>\n",
       "</mark>\n",
       " or normal variant.  No</br> areas of abnormal enhancement are identified within the brain.</br></br> IMPRESSION:  1)  No evidence for \n",
       "<mark class=\"entity\" style=\"background: #ddd; padding: 0.45em 0.6em; margin: 0 0.25em; line-height: 1; border-radius: 0.35em;\">\n",
       "    intracranial hemorrhage\n",
       "    <span style=\"font-size: 0.8em; font-weight: bold; line-height: 1; border-radius: 0.35em; vertical-align: middle; margin-left: 0.5rem\">DISEASE</span>\n",
       "</mark>\n",
       ".</br> 2)  No evidence for \n",
       "<mark class=\"entity\" style=\"background: #ddd; padding: 0.45em 0.6em; margin: 0 0.25em; line-height: 1; border-radius: 0.35em;\">\n",
       "    aneurysm\n",
       "    <span style=\"font-size: 0.8em; font-weight: bold; line-height: 1; border-radius: 0.35em; vertical-align: middle; margin-left: 0.5rem\">DISEASE</span>\n",
       "</mark>\n",
       " or dissection.</br></br> 3)  Somewhat asymmetric prominence of the right, compared to the left</br> pterygoid plexus, with a possible right sided parapharyngeal vascular</br> malformation. If the patient is to have catheter angiography, attention to</br> this region is recommended to confirm whether an \n",
       "<mark class=\"entity\" style=\"background: #ddd; padding: 0.45em 0.6em; margin: 0 0.25em; line-height: 1; border-radius: 0.35em;\">\n",
       "    vascular malformation\n",
       "    <span style=\"font-size: 0.8em; font-weight: bold; line-height: 1; border-radius: 0.35em; vertical-align: middle; margin-left: 0.5rem\">DISEASE</span>\n",
       "</mark>\n",
       " is</br> present in this locale.</br></br></br></div></span>"
      ],
      "text/plain": [
       "<IPython.core.display.HTML object>"
      ]
     },
     "metadata": {},
     "output_type": "display_data"
    },
    {
     "name": "stdout",
     "output_type": "stream",
     "text": [
      "None\n"
     ]
    }
   ],
   "source": [
    "for text in sample_texts:\n",
    "    doc = nlp(text)\n",
    "    print(displacy.render(doc, style='ent', jupyter=True))"
   ]
  },
  {
   "cell_type": "code",
   "execution_count": null,
   "id": "2e0aa861",
   "metadata": {},
   "outputs": [
    {
     "name": "stdout",
     "output_type": "stream",
     "text": [
      "[['confusion', 'renal insufficiency\\n ______________________________________________________________________________\\n                                 ', 'Headache', 'weakness', 'confusion', 'edema', 'hemorrhage', 'hydrocephalus', 'fracture', 'bone destruction', 'edema', 'Name8', 'NamePattern1', 'creatinine', 'melanoma', 'vasogenic edema'], ['vascular abnormality', 'meningitis', 'vascular abnormality\\n ______________________________________________________________________________\\n                                 ', 'meningitis', 'T2 hyperintensity', 'small vessel infarcts', 'hydrocephalus', 'intracranial hemorrhage', 'vessel ischemic infarcts', 'stenosis', 'aneurysmal dilatation'], ['SAH', 'subarachnoid hemorrhage', 'aneurysm', 'hydrocephalus', 'aneurysm'], ['CAROTID/CEREBRAL', 'CAROTID/CEREBRAL', 'VERT/CAROTID', 'VERT/CAROTID', 'hemorrhage', 'intracranial\\n aneurysm', 'intracranial aneurysm', 'headaches', 'subarachnoid hemorrhage', 'intracranial aneurysm', 'bleeding', 'infection', 'stroke', 'neurological deficit', 'groin hematoma', 'coma', 'death', 'intracranial or extracranial atherosclerotic disease', 'intracranial aneurysm', 'atherosclerotic disease', 'stenosis', 'atherosclerosis', 'stenosis', 'aneurysm', 'intracranial aneurysm'], ['r/o bleed', 'aneurysm', 'HA, neck pain', 'aneurysm', 'Headaches', 'neck pain', 'subarachnoid hemorrhage', 'hemorrhage', 'aneurysm', 'extra-axial hemorrhage', 'aneurysm', 'arteriovenous malformation', 'intracranial hemorrhage', 'aneurysm', 'vascular malformation']]\n"
     ]
    }
   ],
   "source": [
    "sdf2 = sample_texts\n",
    "corpus2 = []\n",
    "for row in range(0, len(sdf2)):\n",
    "    str_tokens=[]\n",
    "    tokens=nlp(sdf2[row]).ents\n",
    "    for i in range(0, len(tokens)):\n",
    "        str_tokens.append(tokens[i].text)\n",
    "    corpus2.append(str_tokens)\n",
    "\n",
    "print(corpus2)"
   ]
  },
  {
   "cell_type": "code",
   "execution_count": null,
   "id": "920aca0d",
   "metadata": {
    "scrolled": true
   },
   "outputs": [
    {
     "data": {
      "text/plain": [
       "array([-5.4193445e-04,  2.3593358e-04,  5.0954213e-03,  9.0065608e-03,\n",
       "       -9.3055777e-03, -7.1226670e-03,  6.4555528e-03,  8.9762667e-03,\n",
       "       -5.0122398e-03, -3.7759424e-03,  7.3877163e-03, -1.5405379e-03,\n",
       "       -4.5358934e-03,  6.5613030e-03, -4.8562898e-03, -1.8207642e-03,\n",
       "        2.8812622e-03,  9.8507281e-04, -8.2832864e-03, -9.4552701e-03,\n",
       "        7.3175495e-03,  5.0740079e-03,  6.7685484e-03,  7.5964280e-04,\n",
       "        6.3556382e-03, -3.4029512e-03, -9.4305136e-04,  5.7655410e-03,\n",
       "       -7.5220908e-03, -3.9340220e-03, -7.5014285e-03, -9.3395141e-04,\n",
       "        9.5426226e-03, -7.3306225e-03, -2.3403338e-03, -1.9243944e-03,\n",
       "        8.0764247e-03, -5.9221308e-03,  3.8194994e-05, -4.7604986e-03,\n",
       "       -9.5996326e-03,  5.0065857e-03, -8.7529691e-03, -4.4050892e-03,\n",
       "       -3.0191464e-05, -3.0515320e-04, -7.6653571e-03,  9.6098669e-03,\n",
       "        4.9862610e-03,  9.2391670e-03, -8.1546381e-03,  4.4954652e-03,\n",
       "       -4.1369125e-03,  8.2554668e-04,  8.4956018e-03, -4.4662883e-03,\n",
       "        4.5215478e-03, -6.7856419e-03, -3.5546452e-03,  9.3910778e-03,\n",
       "       -1.5780271e-03,  3.2090012e-04, -4.1274508e-03, -7.6766540e-03,\n",
       "       -1.5161842e-03,  2.4717811e-03, -8.9798868e-04,  5.5377292e-03,\n",
       "       -2.7550149e-03,  2.2671267e-03,  5.4689134e-03,  8.3523523e-03,\n",
       "       -1.4479291e-03, -9.1980891e-03,  4.3788920e-03,  5.6472293e-04,\n",
       "        7.4423356e-03, -8.0937677e-04, -2.6396438e-03, -8.7513020e-03,\n",
       "       -8.5726962e-04,  2.8170256e-03,  5.3973035e-03,  7.0534954e-03,\n",
       "       -5.6946208e-03,  1.8520695e-03,  6.0899523e-03, -4.7893692e-03,\n",
       "       -3.1069044e-03,  6.8079811e-03,  1.6329718e-03,  1.9085634e-04,\n",
       "        3.4746022e-03,  2.1405060e-04,  9.6210586e-03,  5.0698286e-03,\n",
       "       -8.9185257e-03, -7.0502697e-03,  9.0517919e-04,  6.3889250e-03],\n",
       "      dtype=float32)"
      ]
     },
     "metadata": {},
     "output_type": "display_data"
    },
    {
     "data": {
      "text/plain": [
       "[('vascular abnormality', 0.21916216611862183),\n",
       " ('VERT/CAROTID', 0.21647903323173523),\n",
       " ('aneurysmal dilatation', 0.19563674926757812),\n",
       " ('infection', 0.16948942840099335),\n",
       " ('extra-axial hemorrhage', 0.15176548063755035),\n",
       " ('r/o bleed', 0.14221757650375366),\n",
       " ('Headaches', 0.10876662284135818),\n",
       " ('vascular malformation', 0.09977609664201736),\n",
       " ('atherosclerosis', 0.09648516774177551),\n",
       " ('NamePattern1', 0.09342233836650848)]"
      ]
     },
     "execution_count": 20,
     "metadata": {},
     "output_type": "execute_result"
    }
   ],
   "source": [
    "model2 = word2vec.Word2Vec(corpus2, min_count=1)\n",
    "display(model2.wv['aneurysm'])\n",
    "model2.wv.most_similar('aneurysm')"
   ]
  },
  {
   "cell_type": "code",
   "execution_count": null,
   "id": "82f32c5f",
   "metadata": {},
   "outputs": [],
   "source": [
    "def tsne_plot1(model, words):\n",
    "    \"Creates a t-SNE model and plots it\"\n",
    "    labels = []\n",
    "    tokens = []\n",
    "\n",
    "    for word in words:\n",
    "        if word in model.wv:\n",
    "            tokens.append(model.wv[word])\n",
    "            labels.append(word)\n",
    "        else:\n",
    "            print(f\"Skipping '{word}' as it is not present in the model's vocabulary.\")\n",
    "\n",
    "    tsne_model = TSNE(perplexity=11, early_exaggeration=12, n_components=2, init='pca', n_iter=1000, random_state=23)\n",
    "    new_values = tsne_model.fit_transform(np.array(tokens))  # Convert tokens to a NumPy array\n",
    "\n",
    "    x = []\n",
    "    y = []\n",
    "    for value in new_values:\n",
    "        x.append(value[0])\n",
    "        y.append(value[1])\n",
    "\n",
    "    plt.figure(figsize=(16, 16))\n",
    "    for i in range(len(x)):\n",
    "        plt.scatter(x[i], y[i])\n",
    "        plt.annotate(labels[i],\n",
    "                     xy=(x[i], y[i]),\n",
    "                     xytext=(5, 2),\n",
    "                     textcoords='offset points',\n",
    "                     ha='right',\n",
    "                     va='bottom')\n",
    "    plt.show()"
   ]
  },
  {
   "cell_type": "code",
   "execution_count": null,
   "id": "f455d668",
   "metadata": {},
   "outputs": [
    {
     "data": {
      "image/png": "[encoded data removed]",
      "text/plain": [
       "<Figure size 1152x1152 with 1 Axes>"
      ]
     },
     "metadata": {
      "needs_background": "light"
     },
     "output_type": "display_data"
    }
   ],
   "source": [
    "vocabs2 = model2.wv.key_to_index.keys()\n",
    "new_v2 = np.array(list(vocabs2))\n",
    "tsne_plot1(model2,new_v2)"
   ]
  },
  {
   "cell_type": "code",
   "execution_count": 3,
   "id": "edd23ba9",
   "metadata": {},
   "outputs": [
    {
     "ename": "ModuleNotFoundError",
     "evalue": "No module named 'medspacy'",
     "output_type": "error",
     "traceback": [
      "\u001b[1;31m---------------------------------------------------------------------------\u001b[0m",
      "\u001b[1;31mModuleNotFoundError\u001b[0m                       Traceback (most recent call last)",
      "Cell \u001b[1;32mIn[3], line 1\u001b[0m\n\u001b[1;32m----> 1\u001b[0m \u001b[38;5;28;01mimport\u001b[39;00m \u001b[38;5;21;01mmedspacy\u001b[39;00m\n\u001b[0;32m      2\u001b[0m \u001b[38;5;28;01mfrom\u001b[39;00m \u001b[38;5;21;01mmedspacy\u001b[39;00m\u001b[38;5;21;01m.\u001b[39;00m\u001b[38;5;21;01mner\u001b[39;00m \u001b[38;5;28;01mimport\u001b[39;00m TargetRule\n\u001b[0;32m      3\u001b[0m \u001b[38;5;28;01mfrom\u001b[39;00m \u001b[38;5;21;01mmedspacy\u001b[39;00m\u001b[38;5;21;01m.\u001b[39;00m\u001b[38;5;21;01mvisualization\u001b[39;00m \u001b[38;5;28;01mimport\u001b[39;00m visualize_ent\n",
      "\u001b[1;31mModuleNotFoundError\u001b[0m: No module named 'medspacy'"
     ]
    }
   ],
   "source": [
    "import medspacy\n",
    "from medspacy.ner import TargetRule\n",
    "from medspacy.visualization import visualize_ent"
   ]
  },
  {
   "cell_type": "code",
   "execution_count": null,
   "id": "778306bd",
   "metadata": {},
   "outputs": [
    {
     "name": "stdout",
     "output_type": "stream",
     "text": [
      "['medspacy_pyrush', 'medspacy_target_matcher', 'medspacy_context']\n"
     ]
    }
   ],
   "source": [
    "nlp = medspacy.load()\n",
    "print(nlp.pipe_names)"
   ]
  },
  {
   "cell_type": "code",
   "execution_count": null,
   "id": "c661391e",
   "metadata": {
    "scrolled": true
   },
   "outputs": [
    {
     "data": {
      "text/plain": [
       "<medspacy.target_matcher.target_matcher.TargetMatcher at 0x255e9a45f28>"
      ]
     },
     "execution_count": 26,
     "metadata": {},
     "output_type": "execute_result"
    }
   ],
   "source": [
    "target_matcher = nlp.get_pipe(\"medspacy_target_matcher\")\n",
    "target_matcher"
   ]
  },
  {
   "cell_type": "code",
   "execution_count": null,
   "id": "9d8da8b5",
   "metadata": {},
   "outputs": [],
   "source": [
    "target_rules = [\n",
    "    TargetRule(\"confusion\", \"SYMPTOM\"),\n",
    "    TargetRule(\"weakness\", \"SYMTPOM\"),\n",
    "    TargetRule(\"HEADACHE\", \"SYMTPOM\"),\n",
    "    TargetRule(\"artery\", \"ANATOMICAL STRUCTURE\"),\n",
    "    TargetRule(\"head\", \"ANATOMICAL STRUCTURE\"),\n",
    "    TargetRule(\"frontal lobe\", \"ANATOMICAL STRUCTURE\"),\n",
    "    TargetRule(\"posterofrontoparietal\", \"ANATOMICAL REGION\"),\n",
    "    TargetRule(\"parietal\", \"ANATOMICAL REGION\")\n",
    "]\n",
    "\n",
    "target_matcher.add(target_rules)"
   ]
  },
  {
   "cell_type": "code",
   "execution_count": null,
   "id": "ebf7f8ea",
   "metadata": {},
   "outputs": [
    {
     "name": "stderr",
     "output_type": "stream",
     "text": [
      "C:\\Users\\Joslyn\\AppData\\Roaming\\Python\\Python36\\site-packages\\medspacy\\common\\medspacy_matcher.py:80: UserWarning: [W036] The component 'matcher' does not have any patterns defined.\n",
      "  matches = self.matcher(doc)\n"
     ]
    },
    {
     "data": {
      "text/html": [
       "<span class=\"tex2jax_ignore\"><div class=\"entities\" style=\"line-height: 2.5; direction: ltr\">[**2152-10-2**] 1:07 PM</br> CT \n",
       "<mark class=\"entity\" style=\"background: #ff7f0e; padding: 0.45em 0.6em; margin: 0 0.25em; line-height: 1; border-radius: 0.35em;\">\n",
       "    HEAD\n",
       "    <span style=\"font-size: 0.8em; font-weight: bold; line-height: 1; border-radius: 0.35em; vertical-align: middle; margin-left: 0.5rem\">ANATOMICAL STRUCTURE</span>\n",
       "</mark>\n",
       " W/O CONTRAST                                            Clip # [**Clip Number (Radiology) 14552**]</br> Reason: eval for bleed</br> ______________________________________________________________________________</br> [**Hospital 2**] MEDICAL CONDITION:</br>  81 year old woman with HA and \n",
       "<mark class=\"entity\" style=\"background: #2ca02c; padding: 0.45em 0.6em; margin: 0 0.25em; line-height: 1; border-radius: 0.35em;\">\n",
       "    weakness\n",
       "    <span style=\"font-size: 0.8em; font-weight: bold; line-height: 1; border-radius: 0.35em; vertical-align: middle; margin-left: 0.5rem\">SYMTPOM</span>\n",
       "</mark>\n",
       ", \n",
       "<mark class=\"entity\" style=\"background: #1f77b4; padding: 0.45em 0.6em; margin: 0 0.25em; line-height: 1; border-radius: 0.35em;\">\n",
       "    confusion\n",
       "    <span style=\"font-size: 0.8em; font-weight: bold; line-height: 1; border-radius: 0.35em; vertical-align: middle; margin-left: 0.5rem\">SYMPTOM</span>\n",
       "</mark>\n",
       ".</br> REASON FOR THIS EXAMINATION:</br>  eval for bleed</br> CONTRAINDICATIONS for IV CONTRAST:</br>  renal insufficiency</br> ______________________________________________________________________________</br>                                 FINAL REPORT</br> INDICATION:  \n",
       "<mark class=\"entity\" style=\"background: #2ca02c; padding: 0.45em 0.6em; margin: 0 0.25em; line-height: 1; border-radius: 0.35em;\">\n",
       "    Headache\n",
       "    <span style=\"font-size: 0.8em; font-weight: bold; line-height: 1; border-radius: 0.35em; vertical-align: middle; margin-left: 0.5rem\">SYMTPOM</span>\n",
       "</mark>\n",
       " and \n",
       "<mark class=\"entity\" style=\"background: #2ca02c; padding: 0.45em 0.6em; margin: 0 0.25em; line-height: 1; border-radius: 0.35em;\">\n",
       "    weakness\n",
       "    <span style=\"font-size: 0.8em; font-weight: bold; line-height: 1; border-radius: 0.35em; vertical-align: middle; margin-left: 0.5rem\">SYMTPOM</span>\n",
       "</mark>\n",
       " and \n",
       "<mark class=\"entity\" style=\"background: #1f77b4; padding: 0.45em 0.6em; margin: 0 0.25em; line-height: 1; border-radius: 0.35em;\">\n",
       "    confusion\n",
       "    <span style=\"font-size: 0.8em; font-weight: bold; line-height: 1; border-radius: 0.35em; vertical-align: middle; margin-left: 0.5rem\">SYMPTOM</span>\n",
       "</mark>\n",
       ".</br></br> COMPARISON:  Brain MRI [**2149-6-17**].  \n",
       "<mark class=\"entity\" style=\"background: #ff7f0e; padding: 0.45em 0.6em; margin: 0 0.25em; line-height: 1; border-radius: 0.35em;\">\n",
       "    Head\n",
       "    <span style=\"font-size: 0.8em; font-weight: bold; line-height: 1; border-radius: 0.35em; vertical-align: middle; margin-left: 0.5rem\">ANATOMICAL STRUCTURE</span>\n",
       "</mark>\n",
       " CT of [**2150-9-10**].</br></br> TECHNIQUE:  Non-contrast \n",
       "<mark class=\"entity\" style=\"background: #ff7f0e; padding: 0.45em 0.6em; margin: 0 0.25em; line-height: 1; border-radius: 0.35em;\">\n",
       "    head\n",
       "    <span style=\"font-size: 0.8em; font-weight: bold; line-height: 1; border-radius: 0.35em; vertical-align: middle; margin-left: 0.5rem\">ANATOMICAL STRUCTURE</span>\n",
       "</mark>\n",
       " CT.</br></br> FINDINGS:  New in the interval are at least three moderate-to-large sized mass</br> lesions, one within the right \n",
       "<mark class=\"entity\" style=\"background: #ff7f0e; padding: 0.45em 0.6em; margin: 0 0.25em; line-height: 1; border-radius: 0.35em;\">\n",
       "    frontal lobe\n",
       "    <span style=\"font-size: 0.8em; font-weight: bold; line-height: 1; border-radius: 0.35em; vertical-align: middle; margin-left: 0.5rem\">ANATOMICAL STRUCTURE</span>\n",
       "</mark>\n",
       " anteriorly, another within the</br> right \n",
       "<mark class=\"entity\" style=\"background: #d62728; padding: 0.45em 0.6em; margin: 0 0.25em; line-height: 1; border-radius: 0.35em;\">\n",
       "    posterofrontoparietal\n",
       "    <span style=\"font-size: 0.8em; font-weight: bold; line-height: 1; border-radius: 0.35em; vertical-align: middle; margin-left: 0.5rem\">ANATOMICAL REGION</span>\n",
       "</mark>\n",
       " region, and a third within the left \n",
       "<mark class=\"entity\" style=\"background: #d62728; padding: 0.45em 0.6em; margin: 0 0.25em; line-height: 1; border-radius: 0.35em;\">\n",
       "    parietal\n",
       "    <span style=\"font-size: 0.8em; font-weight: bold; line-height: 1; border-radius: 0.35em; vertical-align: middle; margin-left: 0.5rem\">ANATOMICAL REGION</span>\n",
       "</mark>\n",
       "</br> region.  There is a significant amount of edema associated with these masses.</br> The right posterofrontal mass also contains a small amount of high-density</br> material peripherally, which may represent a small amount of hemorrhage or</br> calcification.  There is no shift of the normally midline structures or</br> hydrocephalus.  There is a soft-tissue density nodule within the subcutaneous</br> tissues posterior to the right occipital bone.  This does not appear to affect</br> the underlying bone.  There is no evidence of fracture or bone destruction.</br> The paranasal sinuses and the orbits are unremarkable.</br></br> IMPRESSION:  Interval development of at least three large mass lesions with a</br> moderate amount of surrounding edema.  Case discussed with Dr. [**First Name8 (NamePattern2) 4621**] [**Last Name (NamePattern1) 14553**]</br> of the Emergency Department.  Given the patient's pacemaker and elevated</br> creatinine, no further brain imaging will be undertaken at this time.</br> Apparently, the patient has a history of melanoma, and these lesions are</br> likely metastases with vasogenic edema.</br></br></div></span>"
      ],
      "text/plain": [
       "<IPython.core.display.HTML object>"
      ]
     },
     "metadata": {},
     "output_type": "display_data"
    },
    {
     "name": "stderr",
     "output_type": "stream",
     "text": [
      "C:\\Users\\Joslyn\\AppData\\Roaming\\Python\\Python36\\site-packages\\medspacy\\common\\medspacy_matcher.py:80: UserWarning: [W036] The component 'matcher' does not have any patterns defined.\n",
      "  matches = self.matcher(doc)\n"
     ]
    },
    {
     "data": {
      "text/html": [
       "<span class=\"tex2jax_ignore\"><div class=\"entities\" style=\"line-height: 2.5; direction: ltr\">[**2161-9-18**] 8:41 AM</br> MR \n",
       "<mark class=\"entity\" style=\"background: #ff7f0e; padding: 0.45em 0.6em; margin: 0 0.25em; line-height: 1; border-radius: 0.35em;\">\n",
       "    HEAD\n",
       "    <span style=\"font-size: 0.8em; font-weight: bold; line-height: 1; border-radius: 0.35em; vertical-align: middle; margin-left: 0.5rem\">ANATOMICAL STRUCTURE</span>\n",
       "</mark>\n",
       " W &amp; W/O CONTRAST; MR CONTRAST GADOLIN                   Clip # [**Clip Number (Radiology) 103442**]</br> MRA BRAIN W/O CONTRAST</br> Reason: please assess for vascular abnormality</br> Admitting Diagnosis: \n",
       "<mark class=\"entity\" style=\"background: #2ca02c; padding: 0.45em 0.6em; margin: 0 0.25em; line-height: 1; border-radius: 0.35em;\">\n",
       "    HEADACHE\n",
       "    <span style=\"font-size: 0.8em; font-weight: bold; line-height: 1; border-radius: 0.35em; vertical-align: middle; margin-left: 0.5rem\">SYMTPOM</span>\n",
       "</mark>\n",
       "</br>  Contrast: MAGNEVIST Amt: 15</br> ______________________________________________________________________________</br> [**Hospital 3**] MEDICAL CONDITION:</br>  63 year old man with bloody lp and meningitis</br> REASON FOR THIS EXAMINATION:</br>  please assess for vascular abnormality</br> ______________________________________________________________________________</br>                                 FINAL REPORT</br> MRI AND MRA OF THE BRAIN.</br></br> INDICATION:  63 year old man with bloody lumbar puncture and meningitis.</br></br> TECHNIQUE:  Multiplanar T1- and T2-weighted images of the brain.  Comparison</br> was made to prior study dated [**2161-9-15**].</br></br> FINDINGS:  There are a few foci of T2 hyperintensity within the</br> periventricular white matter of cerebral hemispheres consistent with mild</br> chronic small vessel infarcts, unchanged.  The [**Doctor Last Name **]-white matter</br> differentiation is well maintained.  There is no mass effect, shift of normal</br> midline structures or hydrocephalus.  No intracranial hemorrhage is</br> visualized.  There is no significant change since the prior study.</br></br> IMPRESSION:  Mild small vessel ischemic infarcts of chronic nature.</br></br> \n",
       "<mark class=\"entity\" style=\"background: #ff7f0e; padding: 0.45em 0.6em; margin: 0 0.25em; line-height: 1; border-radius: 0.35em;\">\n",
       "    HEAD\n",
       "    <span style=\"font-size: 0.8em; font-weight: bold; line-height: 1; border-radius: 0.35em; vertical-align: middle; margin-left: 0.5rem\">ANATOMICAL STRUCTURE</span>\n",
       "</mark>\n",
       " MRA.</br></br> TECHNIQUE:  3D time-of-flight imaging of the anterior and posterior cerebral</br> circulations were obtained.  There are no prior studies for comparison.</br></br> FINDINGS:  \n",
       "<mark class=\"entity\" style=\"background: #1f77b4; padding: 0.45em 0.6em; margin: 0 0.25em; line-height: 1; border-radius: 0.35em;\">\n",
       "    No\n",
       "    <span style=\"font-size: 0.8em; font-weight: bold; line-height: 1; border-radius: 0.35em; vertical-align: middle; margin-left: 0.5rem\">NEGATED_EXISTENCE</span>\n",
       "</mark>\n",
       " posterior communicating \n",
       "<mark class=\"entity\" style=\"background: #ff7f0e; padding: 0.45em 0.6em; margin: 0 0.25em; line-height: 1; border-radius: 0.35em;\">\n",
       "    artery\n",
       "    <span style=\"font-size: 0.8em; font-weight: bold; line-height: 1; border-radius: 0.35em; vertical-align: middle; margin-left: 0.5rem\">ANATOMICAL STRUCTURE</span>\n",
       "</mark>\n",
       "  on the left side is present.  A</br> fetal posterior cerebral \n",
       "<mark class=\"entity\" style=\"background: #ff7f0e; padding: 0.45em 0.6em; margin: 0 0.25em; line-height: 1; border-radius: 0.35em;\">\n",
       "    artery\n",
       "    <span style=\"font-size: 0.8em; font-weight: bold; line-height: 1; border-radius: 0.35em; vertical-align: middle; margin-left: 0.5rem\">ANATOMICAL STRUCTURE</span>\n",
       "</mark>\n",
       " on the right side is visualized.  There is \n",
       "<mark class=\"entity\" style=\"background: #1f77b4; padding: 0.45em 0.6em; margin: 0 0.25em; line-height: 1; border-radius: 0.35em;\">\n",
       "    no\n",
       "    <span style=\"font-size: 0.8em; font-weight: bold; line-height: 1; border-radius: 0.35em; vertical-align: middle; margin-left: 0.5rem\">NEGATED_EXISTENCE</span>\n",
       "</mark>\n",
       "</br> hemodynamically- significant stenosis or aneurysmal dilatation of the</br> visualized vasculature.</br></br> IMPRESSION:</br></br> Fetal posterior cerebral \n",
       "<mark class=\"entity\" style=\"background: #ff7f0e; padding: 0.45em 0.6em; margin: 0 0.25em; line-height: 1; border-radius: 0.35em;\">\n",
       "    artery\n",
       "    <span style=\"font-size: 0.8em; font-weight: bold; line-height: 1; border-radius: 0.35em; vertical-align: middle; margin-left: 0.5rem\">ANATOMICAL STRUCTURE</span>\n",
       "</mark>\n",
       " on the right. \n",
       "<mark class=\"entity\" style=\"background: #1f77b4; padding: 0.45em 0.6em; margin: 0 0.25em; line-height: 1; border-radius: 0.35em;\">\n",
       "    Absence of\n",
       "    <span style=\"font-size: 0.8em; font-weight: bold; line-height: 1; border-radius: 0.35em; vertical-align: middle; margin-left: 0.5rem\">NEGATED_EXISTENCE</span>\n",
       "</mark>\n",
       " posterior</br> communicating \n",
       "<mark class=\"entity\" style=\"background: #ff7f0e; padding: 0.45em 0.6em; margin: 0 0.25em; line-height: 1; border-radius: 0.35em;\">\n",
       "    artery\n",
       "    <span style=\"font-size: 0.8em; font-weight: bold; line-height: 1; border-radius: 0.35em; vertical-align: middle; margin-left: 0.5rem\">ANATOMICAL STRUCTURE</span>\n",
       "</mark>\n",
       " on the left.  Otherwise, unremarkable study.</br></br></br></div></span>"
      ],
      "text/plain": [
       "<IPython.core.display.HTML object>"
      ]
     },
     "metadata": {},
     "output_type": "display_data"
    },
    {
     "name": "stderr",
     "output_type": "stream",
     "text": [
      "C:\\Users\\Joslyn\\AppData\\Roaming\\Python\\Python36\\site-packages\\medspacy\\common\\medspacy_matcher.py:80: UserWarning: [W036] The component 'matcher' does not have any patterns defined.\n",
      "  matches = self.matcher(doc)\n"
     ]
    },
    {
     "data": {
      "text/html": [
       "<span class=\"tex2jax_ignore\"><div class=\"entities\" style=\"line-height: 2.5; direction: ltr\">[**2161-9-15**] 4:33 AM</br> MR \n",
       "<mark class=\"entity\" style=\"background: #ff7f0e; padding: 0.45em 0.6em; margin: 0 0.25em; line-height: 1; border-radius: 0.35em;\">\n",
       "    HEAD\n",
       "    <span style=\"font-size: 0.8em; font-weight: bold; line-height: 1; border-radius: 0.35em; vertical-align: middle; margin-left: 0.5rem\">ANATOMICAL STRUCTURE</span>\n",
       "</mark>\n",
       " W/O CONTRAST; MRA BRAIN W/O CONTRAST                    Clip # [**Clip Number (Radiology) 104041**]</br> Reason: MRI with and \n",
       "<mark class=\"entity\" style=\"background: #1f77b4; padding: 0.45em 0.6em; margin: 0 0.25em; line-height: 1; border-radius: 0.35em;\">\n",
       "    without\n",
       "    <span style=\"font-size: 0.8em; font-weight: bold; line-height: 1; border-radius: 0.35em; vertical-align: middle; margin-left: 0.5rem\">NEGATED_EXISTENCE</span>\n",
       "</mark>\n",
       " contrast and MRA brain.</br> Admitting Diagnosis: \n",
       "<mark class=\"entity\" style=\"background: #2ca02c; padding: 0.45em 0.6em; margin: 0 0.25em; line-height: 1; border-radius: 0.35em;\">\n",
       "    HEADACHE\n",
       "    <span style=\"font-size: 0.8em; font-weight: bold; line-height: 1; border-radius: 0.35em; vertical-align: middle; margin-left: 0.5rem\">SYMTPOM</span>\n",
       "</mark>\n",
       "</br> ______________________________________________________________________________</br> [**Hospital 3**] MEDICAL CONDITION:</br>  63 year old man with possible SAH please evaluate</br> REASON FOR THIS EXAMINATION:</br>  MRI with and without contrast and MRA brain.</br> ______________________________________________________________________________</br>                                 FINAL REPORT  (REVISED)</br> INDICATION: Possible subarachnoid hemorrhage, evaluate for aneurysm.</br></br> TECHNIQUE: Multiplanar T1-, T2-, and diffusion-weighted images were obtained</br> through the brain. 3D time of flight MR angiography was performed through the</br> region of the circle of [**Location (un) 286**], and multiplanar reformations were performed.</br></br> MR BRAIN WITHOUT CONTRAST: No significant abnormalities are idenitified. There</br> is no mass effect, shift of normally midline structures, or hydrocephalus. No</br> abnormalities are identified on the diffusion-weighted images.</br></br> CIRCLE OF [**Location (un) **] MRA: The major vascular structures are unremarkable. The</br> right vertebral \n",
       "<mark class=\"entity\" style=\"background: #ff7f0e; padding: 0.45em 0.6em; margin: 0 0.25em; line-height: 1; border-radius: 0.35em;\">\n",
       "    artery\n",
       "    <span style=\"font-size: 0.8em; font-weight: bold; line-height: 1; border-radius: 0.35em; vertical-align: middle; margin-left: 0.5rem\">ANATOMICAL STRUCTURE</span>\n",
       "</mark>\n",
       " is dominant. There is no evidence for aneurysm,</br> dissection, or other abnormality. Please see the report of the CT angiogram</br> performed one day prior.</br></br> IMPRESSION: Unremarkable appearance of the vessels comprising the circle of</br> [**Location (un) 286**].</br></br></div></span>"
      ],
      "text/plain": [
       "<IPython.core.display.HTML object>"
      ]
     },
     "metadata": {},
     "output_type": "display_data"
    },
    {
     "name": "stderr",
     "output_type": "stream",
     "text": [
      "C:\\Users\\Joslyn\\AppData\\Roaming\\Python\\Python36\\site-packages\\medspacy\\common\\medspacy_matcher.py:80: UserWarning: [W036] The component 'matcher' does not have any patterns defined.\n",
      "  matches = self.matcher(doc)\n"
     ]
    },
    {
     "data": {
      "text/html": [
       "<span class=\"tex2jax_ignore\"><div class=\"entities\" style=\"line-height: 2.5; direction: ltr\">[**2161-9-15**] 3:06 PM</br> CAROT/CEREB [**Hospital1 **]                                                  Clip # [**0-0-**]</br> Reason: HEADACHES</br> Admitting Diagnosis: \n",
       "<mark class=\"entity\" style=\"background: #2ca02c; padding: 0.45em 0.6em; margin: 0 0.25em; line-height: 1; border-radius: 0.35em;\">\n",
       "    HEADACHE\n",
       "    <span style=\"font-size: 0.8em; font-weight: bold; line-height: 1; border-radius: 0.35em; vertical-align: middle; margin-left: 0.5rem\">SYMTPOM</span>\n",
       "</mark>\n",
       "</br>  Contrast: OPTIRAY Amt: 310</br> ********************************* CPT Codes ********************************</br> * [**Numeric Identifier 171**] SEL CATH 3RD ORDER [**Last Name (un) 172**]         [**Numeric Identifier 527**] SEL CATH 2ND ORDER               *</br> * -59 DISTINCT PROCEDURAL SERVICE       [**Numeric Identifier 527**] SEL CATH 2ND ORDER               *</br> * -59 DISTINCT PROCEDURAL SERVICE       [**Numeric Identifier 3308**] ADD'L 2ND/3RD ORDER              *</br> * [**Numeric Identifier 3308**] ADD'L 2ND/3RD ORDER             [**Numeric Identifier 3308**] ADD'L 2ND/3RD ORDER              *</br> * [**Numeric Identifier 529**] CAROTID/CEREBRAL BILAT          [**Numeric Identifier 528**] CAROTID/CEREBRAL BILAT           *</br> * [**Numeric Identifier 3309**] EXT CAROTID BILAT               [**Numeric Identifier 530**] VERT/CAROTID A-GRAM              *</br> * [**Numeric Identifier 530**] VERT/CAROTID A-GRAM             -59 DISTINCT PROCEDURAL SERVICE        *</br> * [**Numeric Identifier 3638**] EXT BILAT A-GRAM                -52 REDUCED SERVICES                   *</br> * C1760 CLOSURE DEVICE VASC IMP/INS     C1769 GUID WIRES INFU/PERF             *</br> ****************************************************************************</br> ______________________________________________________________________________</br>                                 FINAL REPORT</br> PREOPERATIVE DIAGNOSIS: Subarchnoid hemorrhage, rule out intracranial</br> aneurysm.</br></br> POSTOPERATIVE DIAGNOSIS: No evidence of intracranial aneurysm.</br></br> ANESTHESIA: Conscious sedation with local infiltration of the right groin.</br></br> INDICATION: Mr. [**Known lastname 103440**] is a patient who had been having headaches and</br> question of subarachnoid hemorrhage. He is undergoing this cerebral angiogram</br> to rule out the presence of intracranial aneurysm or other vascular</br> malformation.</br></br> CONSENT: The patient and his family were given a full and complete explanation</br> of the procedure. Specifically, the indications, risks, benefits, and</br> alternatives to the procedure were explained in detail. In addition, the</br> possible complications, such as the risk of bleeding, infection, stroke,</br> neurological deficit or deterioration, groin hematoma, and other unforeseen</br> complications, including the risk of coma and even death, were outlined. The</br> patient and his family understood and wished to proceed with the operation.</br></br> PROCEDURE IN DETAIL: The patient was brought into the Endovascular Suite and</br> placed on the table in supine position. The right groin area was prepped and</br> draped in the usual sterile fashion. A 19-gauge single-wall needle was then</br> used to puncture the right common femoral \n",
       "<mark class=\"entity\" style=\"background: #ff7f0e; padding: 0.45em 0.6em; margin: 0 0.25em; line-height: 1; border-radius: 0.35em;\">\n",
       "    artery\n",
       "    <span style=\"font-size: 0.8em; font-weight: bold; line-height: 1; border-radius: 0.35em; vertical-align: middle; margin-left: 0.5rem\">ANATOMICAL STRUCTURE</span>\n",
       "</mark>\n",
       ", and upon the return of brisk</br> arterial blood, a 4 Fr vascular sheath was inserted over a guidewire and kept</br> on a heparinized saline drip. Next, a diagnostic catheter was used to</br> selectively catheterize the following vessels: right common carotid \n",
       "<mark class=\"entity\" style=\"background: #ff7f0e; padding: 0.45em 0.6em; margin: 0 0.25em; line-height: 1; border-radius: 0.35em;\">\n",
       "    artery\n",
       "    <span style=\"font-size: 0.8em; font-weight: bold; line-height: 1; border-radius: 0.35em; vertical-align: middle; margin-left: 0.5rem\">ANATOMICAL STRUCTURE</span>\n",
       "</mark>\n",
       ",</br> right internal carotid \n",
       "<mark class=\"entity\" style=\"background: #ff7f0e; padding: 0.45em 0.6em; margin: 0 0.25em; line-height: 1; border-radius: 0.35em;\">\n",
       "    artery\n",
       "    <span style=\"font-size: 0.8em; font-weight: bold; line-height: 1; border-radius: 0.35em; vertical-align: middle; margin-left: 0.5rem\">ANATOMICAL STRUCTURE</span>\n",
       "</mark>\n",
       ", right external carotid \n",
       "<mark class=\"entity\" style=\"background: #ff7f0e; padding: 0.45em 0.6em; margin: 0 0.25em; line-height: 1; border-radius: 0.35em;\">\n",
       "    artery\n",
       "    <span style=\"font-size: 0.8em; font-weight: bold; line-height: 1; border-radius: 0.35em; vertical-align: middle; margin-left: 0.5rem\">ANATOMICAL STRUCTURE</span>\n",
       "</mark>\n",
       ", right subclavian</br> \n",
       "<mark class=\"entity\" style=\"background: #ff7f0e; padding: 0.45em 0.6em; margin: 0 0.25em; line-height: 1; border-radius: 0.35em;\">\n",
       "    artery\n",
       "    <span style=\"font-size: 0.8em; font-weight: bold; line-height: 1; border-radius: 0.35em; vertical-align: middle; margin-left: 0.5rem\">ANATOMICAL STRUCTURE</span>\n",
       "</mark>\n",
       ", right vertebral \n",
       "<mark class=\"entity\" style=\"background: #ff7f0e; padding: 0.45em 0.6em; margin: 0 0.25em; line-height: 1; border-radius: 0.35em;\">\n",
       "    artery\n",
       "    <span style=\"font-size: 0.8em; font-weight: bold; line-height: 1; border-radius: 0.35em; vertical-align: middle; margin-left: 0.5rem\">ANATOMICAL STRUCTURE</span>\n",
       "</mark>\n",
       ", left common carotid \n",
       "<mark class=\"entity\" style=\"background: #ff7f0e; padding: 0.45em 0.6em; margin: 0 0.25em; line-height: 1; border-radius: 0.35em;\">\n",
       "    artery\n",
       "    <span style=\"font-size: 0.8em; font-weight: bold; line-height: 1; border-radius: 0.35em; vertical-align: middle; margin-left: 0.5rem\">ANATOMICAL STRUCTURE</span>\n",
       "</mark>\n",
       ", left internal</br> carotid \n",
       "<mark class=\"entity\" style=\"background: #ff7f0e; padding: 0.45em 0.6em; margin: 0 0.25em; line-height: 1; border-radius: 0.35em;\">\n",
       "    artery\n",
       "    <span style=\"font-size: 0.8em; font-weight: bold; line-height: 1; border-radius: 0.35em; vertical-align: middle; margin-left: 0.5rem\">ANATOMICAL STRUCTURE</span>\n",
       "</mark>\n",
       ", left external \n",
       "<mark class=\"entity\" style=\"background: #ff7f0e; padding: 0.45em 0.6em; margin: 0 0.25em; line-height: 1; border-radius: 0.35em;\">\n",
       "    artery\n",
       "    <span style=\"font-size: 0.8em; font-weight: bold; line-height: 1; border-radius: 0.35em; vertical-align: middle; margin-left: 0.5rem\">ANATOMICAL STRUCTURE</span>\n",
       "</mark>\n",
       ", left subclavian \n",
       "<mark class=\"entity\" style=\"background: #ff7f0e; padding: 0.45em 0.6em; margin: 0 0.25em; line-height: 1; border-radius: 0.35em;\">\n",
       "    artery\n",
       "    <span style=\"font-size: 0.8em; font-weight: bold; line-height: 1; border-radius: 0.35em; vertical-align: middle; margin-left: 0.5rem\">ANATOMICAL STRUCTURE</span>\n",
       "</mark>\n",
       ", left vertebral</br> \n",
       "<mark class=\"entity\" style=\"background: #ff7f0e; padding: 0.45em 0.6em; margin: 0 0.25em; line-height: 1; border-radius: 0.35em;\">\n",
       "    artery\n",
       "    <span style=\"font-size: 0.8em; font-weight: bold; line-height: 1; border-radius: 0.35em; vertical-align: middle; margin-left: 0.5rem\">ANATOMICAL STRUCTURE</span>\n",
       "</mark>\n",
       ".</br></br> RESULTS: Injection of both common carotid arteries revealed normal anatomy</br> with no evidence of intracranial or extracranial atherosclerotic disease. The</br> bilateral internal carotid arteries with three-dimensional rotational</br>                                                             (Over)</br></br> [**2161-9-15**] 3:06 PM</br> CAROT/CEREB [**Hospital1 **]                                                  Clip # [**0-0-**]</br> Reason: HEADACHES</br> Admitting Diagnosis: \n",
       "<mark class=\"entity\" style=\"background: #2ca02c; padding: 0.45em 0.6em; margin: 0 0.25em; line-height: 1; border-radius: 0.35em;\">\n",
       "    HEADACHE\n",
       "    <span style=\"font-size: 0.8em; font-weight: bold; line-height: 1; border-radius: 0.35em; vertical-align: middle; margin-left: 0.5rem\">SYMTPOM</span>\n",
       "</mark>\n",
       "</br>  Contrast: OPTIRAY Amt: 310</br> ______________________________________________________________________________</br>                                 FINAL REPORT</br> (Cont)</br> angiography revealed no evidence of intracranial aneurysm or other vascular</br> malformation. The bilateral external carotid arteries revealed no evidence of</br> abnormal arteriovenous shunting or unusual anatomy. Injection of both</br> subclavian arteries showed \n",
       "<mark class=\"entity\" style=\"background: #1f77b4; padding: 0.45em 0.6em; margin: 0 0.25em; line-height: 1; border-radius: 0.35em;\">\n",
       "    no evidence of\n",
       "    <span style=\"font-size: 0.8em; font-weight: bold; line-height: 1; border-radius: 0.35em; vertical-align: middle; margin-left: 0.5rem\">NEGATED_EXISTENCE</span>\n",
       "</mark>\n",
       " atherosclerotic disease or stenosis.</br> Injection of the right subclavian \n",
       "<mark class=\"entity\" style=\"background: #ff7f0e; padding: 0.45em 0.6em; margin: 0 0.25em; line-height: 1; border-radius: 0.35em;\">\n",
       "    artery\n",
       "    <span style=\"font-size: 0.8em; font-weight: bold; line-height: 1; border-radius: 0.35em; vertical-align: middle; margin-left: 0.5rem\">ANATOMICAL STRUCTURE</span>\n",
       "</mark>\n",
       " showed a normal origin of the right</br> vertebral \n",
       "<mark class=\"entity\" style=\"background: #ff7f0e; padding: 0.45em 0.6em; margin: 0 0.25em; line-height: 1; border-radius: 0.35em;\">\n",
       "    artery\n",
       "    <span style=\"font-size: 0.8em; font-weight: bold; line-height: 1; border-radius: 0.35em; vertical-align: middle; margin-left: 0.5rem\">ANATOMICAL STRUCTURE</span>\n",
       "</mark>\n",
       " which was dominant. The right vertebral \n",
       "<mark class=\"entity\" style=\"background: #ff7f0e; padding: 0.45em 0.6em; margin: 0 0.25em; line-height: 1; border-radius: 0.35em;\">\n",
       "    artery\n",
       "    <span style=\"font-size: 0.8em; font-weight: bold; line-height: 1; border-radius: 0.35em; vertical-align: middle; margin-left: 0.5rem\">ANATOMICAL STRUCTURE</span>\n",
       "</mark>\n",
       " course in the</br> cervical segment intracranially is normal with no atherosclerosis or stenosis.</br> The left vertebral \n",
       "<mark class=\"entity\" style=\"background: #ff7f0e; padding: 0.45em 0.6em; margin: 0 0.25em; line-height: 1; border-radius: 0.35em;\">\n",
       "    artery\n",
       "    <span style=\"font-size: 0.8em; font-weight: bold; line-height: 1; border-radius: 0.35em; vertical-align: middle; margin-left: 0.5rem\">ANATOMICAL STRUCTURE</span>\n",
       "</mark>\n",
       " is diminutive, and the vertebrobasilar junction is</br> within normal limits. The origin of the left vertebral \n",
       "<mark class=\"entity\" style=\"background: #ff7f0e; padding: 0.45em 0.6em; margin: 0 0.25em; line-height: 1; border-radius: 0.35em;\">\n",
       "    artery\n",
       "    <span style=\"font-size: 0.8em; font-weight: bold; line-height: 1; border-radius: 0.35em; vertical-align: middle; margin-left: 0.5rem\">ANATOMICAL STRUCTURE</span>\n",
       "</mark>\n",
       " is within normal</br> limits and the vessel itself is approximately 1.5 mm and is very small in</br> caliber. Intracranially the posterior circulation is normal with no evidence</br> of aneurysm or other vascular lesion.</br></br> IMPRESSION: No evidence of intracranial aneurysm or other vascular</br> malformation to account for the patient's presentation.</br></br></br></br></br></br></br></br></br></br></br></br></br></br></br></br></div></span>"
      ],
      "text/plain": [
       "<IPython.core.display.HTML object>"
      ]
     },
     "metadata": {},
     "output_type": "display_data"
    },
    {
     "name": "stderr",
     "output_type": "stream",
     "text": [
      "C:\\Users\\Joslyn\\AppData\\Roaming\\Python\\Python36\\site-packages\\medspacy\\common\\medspacy_matcher.py:80: UserWarning: [W036] The component 'matcher' does not have any patterns defined.\n",
      "  matches = self.matcher(doc)\n"
     ]
    },
    {
     "data": {
      "text/html": [
       "<span class=\"tex2jax_ignore\"><div class=\"entities\" style=\"line-height: 2.5; direction: ltr\">[**2161-9-14**] 7:27 PM</br> CTA \n",
       "<mark class=\"entity\" style=\"background: #1f77b4; padding: 0.45em 0.6em; margin: 0 0.25em; line-height: 1; border-radius: 0.35em;\">\n",
       "    HEAD\n",
       "    <span style=\"font-size: 0.8em; font-weight: bold; line-height: 1; border-radius: 0.35em; vertical-align: middle; margin-left: 0.5rem\">ANATOMICAL STRUCTURE</span>\n",
       "</mark>\n",
       " W&amp;W/O C &amp; RECONS; CT 150CC NONIONIC CONTRAST           Clip # [**Clip Number (Radiology) 104040**]</br> Reason: r/o bleed, aneurysm</br>  Contrast: NON IONIC Amt: 150</br> ______________________________________________________________________________</br> [**Hospital 3**] MEDICAL CONDITION:</br>  63 year old man with HA, neck pain, n/v w/LP suggestive of possible subarach.</br> REASON FOR THIS EXAMINATION:</br>  r/o bleed, aneurysm</br> No contraindications for IV contrast</br> ______________________________________________________________________________</br>                                 FINAL REPORT  (REVISED)</br> INDICATION:  Headaches, neck pain, with lumbar puncture suggestive of possible</br> subarachnoid hemorrhage.  Rule out hemorrhage or aneurysm.</br></br> TECHNIQUE:  Contiguous axial images were obtained from the skull base to the</br> cranial vertex without intravenous contrast. A CT angiogram was then performed</br> using 150 cc Optiray.  Multiplanar reformations were performed.</br></br> FINDINGS:  There is no intra or extra-axial hemorrhage. There is no mass</br> effect or shift of normally mid-line structures.  The [**Doctor Last Name **]-white matter</br> differentiation is preserved.  The ventricles, sulci, and cisterns are</br> unremarkable, without effacement.  The visualized osseous structures and</br> paranasal sinuses are unremarkable.</br></br> CIRCLE OF [**Location (un) **] CTA:  There is no evidence for aneurysm or dissection.  There</br> is a somewhat asymmetric appearance of the pterygoid plexuses venous</br> bilaterally, with a more prominent appearance of the plexus on the right.</br> There is also an approximately 1cm contiguous collection of racemose,</br> vascular- appearing structures within the right parapharyngeal fat.  This</br> finding may represent an arteriovenous malformation or normal variant.  No</br> areas of abnormal enhancement are identified within the brain.</br></br> IMPRESSION:  1)  No evidence for intracranial hemorrhage.</br> 2)  No evidence for aneurysm or dissection.</br></br> 3)  Somewhat asymmetric prominence of the right, compared to the left</br> pterygoid plexus, with a possible right sided parapharyngeal vascular</br> malformation. If the patient is to have catheter angiography, attention to</br> this region is recommended to confirm whether an vascular malformation is</br> present in this locale.</br></br></br></div></span>"
      ],
      "text/plain": [
       "<IPython.core.display.HTML object>"
      ]
     },
     "metadata": {},
     "output_type": "display_data"
    }
   ],
   "source": [
    "for row in text:\n",
    "    doc=nlp(row)\n",
    "    visualize_ent(doc)"
   ]
  }
 ],
 "metadata": {
  "kernelspec": {
   "display_name": "notebooks-IEfZwJx-",
   "language": "python",
   "name": "python3"
  },
  "language_info": {
   "codemirror_mode": {
    "name": "ipython",
    "version": 3
   },
   "file_extension": ".py",
   "mimetype": "text/x-python",
   "name": "python",
   "nbconvert_exporter": "python",
   "pygments_lexer": "ipython3",
   "version": "3.10.2"
  }
 },
 "nbformat": 4,
 "nbformat_minor": 5
}
